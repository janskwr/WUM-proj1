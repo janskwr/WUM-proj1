{
  "nbformat": 4,
  "nbformat_minor": 0,
  "metadata": {
    "colab": {
      "name": "ProjektEz.ipynb",
      "provenance": [],
      "collapsed_sections": [
        "H89KBQWJbLzK",
        "fBOON35ubgFG"
      ]
    },
    "kernelspec": {
      "name": "python3",
      "display_name": "Python 3"
    },
    "language_info": {
      "name": "python"
    }
  },
  "cells": [
    {
      "cell_type": "markdown",
      "source": [
        "# TEST PROJEKT1\n"
      ],
      "metadata": {
        "id": "GYPmb6M_bHei"
      }
    },
    {
      "cell_type": "markdown",
      "source": [
        "## Dane i importy"
      ],
      "metadata": {
        "id": "H89KBQWJbLzK"
      }
    },
    {
      "cell_type": "code",
      "source": [
        "import pandas as pd\n",
        "import numpy as np\n",
        "import matplotlib.pyplot as plt\n",
        "import warnings\n",
        "import seaborn as sns\n",
        "warnings.filterwarnings('ignore')"
      ],
      "metadata": {
        "id": "YHelDIF4bQej"
      },
      "execution_count": null,
      "outputs": []
    },
    {
      "cell_type": "code",
      "source": [
        "!wget https://lovespreadsheet-tutorials.s3.amazonaws.com/APIDatasets/census_income_dataset.csv\n",
        "df_raw = pd.read_csv('census_income_dataset.csv')\n",
        "df_build = df_raw.sample(frac=0.7, random_state=500)\n",
        "df_validation = df_raw.drop(df_build.index) \n",
        "df = df_build.sample(frac=0.7, random_state=500)\n",
        "df_test = df_build.drop(df.index) "
      ],
      "metadata": {
        "colab": {
          "base_uri": "https://localhost:8080/"
        },
        "id": "u9VWDmwNbRr6",
        "outputId": "411467d0-ac29-4e1a-b6b2-ea5b66b6cb3d"
      },
      "execution_count": null,
      "outputs": [
        {
          "output_type": "stream",
          "name": "stdout",
          "text": [
            "--2022-04-21 18:59:56--  https://lovespreadsheet-tutorials.s3.amazonaws.com/APIDatasets/census_income_dataset.csv\n",
            "Resolving lovespreadsheet-tutorials.s3.amazonaws.com (lovespreadsheet-tutorials.s3.amazonaws.com)... 52.217.72.180\n",
            "Connecting to lovespreadsheet-tutorials.s3.amazonaws.com (lovespreadsheet-tutorials.s3.amazonaws.com)|52.217.72.180|:443... connected.\n",
            "HTTP request sent, awaiting response... 200 OK\n",
            "Length: 5717107 (5.5M) [text/csv]\n",
            "Saving to: ‘census_income_dataset.csv’\n",
            "\n",
            "census_income_datas 100%[===================>]   5.45M  22.4MB/s    in 0.2s    \n",
            "\n",
            "2022-04-21 18:59:57 (22.4 MB/s) - ‘census_income_dataset.csv’ saved [5717107/5717107]\n",
            "\n"
          ]
        }
      ]
    },
    {
      "cell_type": "markdown",
      "source": [
        "Teraz mamy df do trainu i df_test do testowania"
      ],
      "metadata": {
        "id": "wszz2BaZbYra"
      }
    },
    {
      "cell_type": "code",
      "source": [
        ""
      ],
      "metadata": {
        "id": "SsLltBSAbfqn"
      },
      "execution_count": null,
      "outputs": []
    },
    {
      "cell_type": "markdown",
      "source": [
        "## WOE niewaznhy brudnopis nastepny rozdzial wazny"
      ],
      "metadata": {
        "id": "fBOON35ubgFG"
      }
    },
    {
      "cell_type": "code",
      "source": [
        "df.nunique()"
      ],
      "metadata": {
        "colab": {
          "base_uri": "https://localhost:8080/",
          "height": 164
        },
        "id": "BTqBZV_0bieh",
        "outputId": "e3134fee-6de3-47f4-d52a-04d6a9d2d0fd"
      },
      "execution_count": null,
      "outputs": [
        {
          "output_type": "error",
          "ename": "NameError",
          "evalue": "ignored",
          "traceback": [
            "\u001b[0;31m---------------------------------------------------------------------------\u001b[0m",
            "\u001b[0;31mNameError\u001b[0m                                 Traceback (most recent call last)",
            "\u001b[0;32m<ipython-input-1-e767f2043ea1>\u001b[0m in \u001b[0;36m<module>\u001b[0;34m()\u001b[0m\n\u001b[0;32m----> 1\u001b[0;31m \u001b[0mdf\u001b[0m\u001b[0;34m.\u001b[0m\u001b[0mnunique\u001b[0m\u001b[0;34m(\u001b[0m\u001b[0;34m)\u001b[0m\u001b[0;34m\u001b[0m\u001b[0;34m\u001b[0m\u001b[0m\n\u001b[0m",
            "\u001b[0;31mNameError\u001b[0m: name 'df' is not defined"
          ]
        }
      ]
    },
    {
      "cell_type": "code",
      "source": [
        "X_train = df.copy()"
      ],
      "metadata": {
        "id": "XYeFF_R7bnoK"
      },
      "execution_count": null,
      "outputs": []
    },
    {
      "cell_type": "code",
      "source": [
        "y_train = X_train['income_level']"
      ],
      "metadata": {
        "id": "oqva_A-3cKJC"
      },
      "execution_count": null,
      "outputs": []
    },
    {
      "cell_type": "code",
      "source": [
        "y_train"
      ],
      "metadata": {
        "colab": {
          "base_uri": "https://localhost:8080/"
        },
        "id": "xMlf6bwPceh0",
        "outputId": "fcf001ed-cf88-4e72-cbaa-fc4e7040c4eb"
      },
      "execution_count": null,
      "outputs": [
        {
          "output_type": "execute_result",
          "data": {
            "text/plain": [
              "20969    <=50K\n",
              "14393    <=50K\n",
              "2480     <=50K\n",
              "10614    <=50K\n",
              "31047    <=50K\n",
              "         ...  \n",
              "45031    <=50K\n",
              "24143    <=50K\n",
              "23994     >50K\n",
              "1398     <=50K\n",
              "12337     >50K\n",
              "Name: income_level, Length: 23932, dtype: object"
            ]
          },
          "metadata": {},
          "execution_count": 22
        }
      ]
    },
    {
      "cell_type": "code",
      "source": [
        "X_train.info()"
      ],
      "metadata": {
        "colab": {
          "base_uri": "https://localhost:8080/"
        },
        "id": "DWxnUFAhchMc",
        "outputId": "91b62b4b-3ac7-4529-ca6a-481e80f076e1"
      },
      "execution_count": null,
      "outputs": [
        {
          "output_type": "stream",
          "name": "stdout",
          "text": [
            "<class 'pandas.core.frame.DataFrame'>\n",
            "Int64Index: 23932 entries, 20969 to 12337\n",
            "Data columns (total 15 columns):\n",
            " #   Column          Non-Null Count  Dtype  \n",
            "---  ------          --------------  -----  \n",
            " 0   age             23932 non-null  int64  \n",
            " 1   workclass       23932 non-null  object \n",
            " 2   fnlwgt          23932 non-null  float64\n",
            " 3   education       23932 non-null  object \n",
            " 4   education_num   23932 non-null  int64  \n",
            " 5   marital_status  23932 non-null  object \n",
            " 6   occupation      23932 non-null  object \n",
            " 7   relationship    23932 non-null  object \n",
            " 8   race            23932 non-null  object \n",
            " 9   sex             23932 non-null  object \n",
            " 10  capital_gain    23932 non-null  float64\n",
            " 11  capital_loss    23932 non-null  float64\n",
            " 12  hours_per_week  23932 non-null  float64\n",
            " 13  native_country  23932 non-null  object \n",
            " 14  income_level    23932 non-null  object \n",
            "dtypes: float64(4), int64(2), object(9)\n",
            "memory usage: 2.9+ MB\n"
          ]
        }
      ]
    },
    {
      "cell_type": "code",
      "source": [
        "! pip install category_encoders"
      ],
      "metadata": {
        "id": "gCcBxQDFcvUt",
        "colab": {
          "base_uri": "https://localhost:8080/"
        },
        "outputId": "3684898c-dbf1-4d8d-dcda-907015a667c4"
      },
      "execution_count": null,
      "outputs": [
        {
          "output_type": "stream",
          "name": "stdout",
          "text": [
            "Collecting category_encoders\n",
            "  Downloading category_encoders-2.4.0-py2.py3-none-any.whl (86 kB)\n",
            "\u001b[?25l\r\u001b[K     |███▉                            | 10 kB 14.8 MB/s eta 0:00:01\r\u001b[K     |███████▋                        | 20 kB 11.3 MB/s eta 0:00:01\r\u001b[K     |███████████▍                    | 30 kB 6.3 MB/s eta 0:00:01\r\u001b[K     |███████████████▏                | 40 kB 5.8 MB/s eta 0:00:01\r\u001b[K     |███████████████████             | 51 kB 4.4 MB/s eta 0:00:01\r\u001b[K     |██████████████████████▊         | 61 kB 5.1 MB/s eta 0:00:01\r\u001b[K     |██████████████████████████▌     | 71 kB 5.4 MB/s eta 0:00:01\r\u001b[K     |██████████████████████████████▎ | 81 kB 5.8 MB/s eta 0:00:01\r\u001b[K     |████████████████████████████████| 86 kB 2.8 MB/s \n",
            "\u001b[?25hRequirement already satisfied: scikit-learn>=0.20.0 in /usr/local/lib/python3.7/dist-packages (from category_encoders) (1.0.2)\n",
            "Requirement already satisfied: statsmodels>=0.9.0 in /usr/local/lib/python3.7/dist-packages (from category_encoders) (0.10.2)\n",
            "Requirement already satisfied: numpy>=1.14.0 in /usr/local/lib/python3.7/dist-packages (from category_encoders) (1.21.6)\n",
            "Requirement already satisfied: pandas>=0.21.1 in /usr/local/lib/python3.7/dist-packages (from category_encoders) (1.3.5)\n",
            "Requirement already satisfied: patsy>=0.5.1 in /usr/local/lib/python3.7/dist-packages (from category_encoders) (0.5.2)\n",
            "Requirement already satisfied: scipy>=1.0.0 in /usr/local/lib/python3.7/dist-packages (from category_encoders) (1.4.1)\n",
            "Requirement already satisfied: python-dateutil>=2.7.3 in /usr/local/lib/python3.7/dist-packages (from pandas>=0.21.1->category_encoders) (2.8.2)\n",
            "Requirement already satisfied: pytz>=2017.3 in /usr/local/lib/python3.7/dist-packages (from pandas>=0.21.1->category_encoders) (2022.1)\n",
            "Requirement already satisfied: six in /usr/local/lib/python3.7/dist-packages (from patsy>=0.5.1->category_encoders) (1.15.0)\n",
            "Requirement already satisfied: joblib>=0.11 in /usr/local/lib/python3.7/dist-packages (from scikit-learn>=0.20.0->category_encoders) (1.1.0)\n",
            "Requirement already satisfied: threadpoolctl>=2.0.0 in /usr/local/lib/python3.7/dist-packages (from scikit-learn>=0.20.0->category_encoders) (3.1.0)\n",
            "Installing collected packages: category-encoders\n",
            "Successfully installed category-encoders-2.4.0\n"
          ]
        }
      ]
    },
    {
      "cell_type": "code",
      "source": [
        "import category_encoders as ce"
      ],
      "metadata": {
        "id": "fT26nWf2cosi"
      },
      "execution_count": null,
      "outputs": []
    },
    {
      "cell_type": "markdown",
      "source": [
        "TUTEJ WOE"
      ],
      "metadata": {
        "id": "MAbSVi1Z6709"
      }
    },
    {
      "cell_type": "code",
      "source": [
        "woeEncoder = ce.WOEEncoder()"
      ],
      "metadata": {
        "id": "8hpbfXgBczqY"
      },
      "execution_count": null,
      "outputs": []
    },
    {
      "cell_type": "code",
      "source": [
        "del X_train['income_level']"
      ],
      "metadata": {
        "id": "rc6Fn1FbdInA"
      },
      "execution_count": null,
      "outputs": []
    },
    {
      "cell_type": "code",
      "source": [
        "X_train.info()"
      ],
      "metadata": {
        "colab": {
          "base_uri": "https://localhost:8080/"
        },
        "id": "6SwNo20ldNJi",
        "outputId": "bf5c866f-888c-4a06-9fc3-9e4ccc30d649"
      },
      "execution_count": null,
      "outputs": [
        {
          "output_type": "stream",
          "name": "stdout",
          "text": [
            "<class 'pandas.core.frame.DataFrame'>\n",
            "Int64Index: 23932 entries, 20969 to 12337\n",
            "Data columns (total 14 columns):\n",
            " #   Column          Non-Null Count  Dtype  \n",
            "---  ------          --------------  -----  \n",
            " 0   age             23932 non-null  int64  \n",
            " 1   workclass       23932 non-null  object \n",
            " 2   fnlwgt          23932 non-null  float64\n",
            " 3   education       23932 non-null  object \n",
            " 4   education_num   23932 non-null  int64  \n",
            " 5   marital_status  23932 non-null  object \n",
            " 6   occupation      23932 non-null  object \n",
            " 7   relationship    23932 non-null  object \n",
            " 8   race            23932 non-null  object \n",
            " 9   sex             23932 non-null  object \n",
            " 10  capital_gain    23932 non-null  float64\n",
            " 11  capital_loss    23932 non-null  float64\n",
            " 12  hours_per_week  23932 non-null  float64\n",
            " 13  native_country  23932 non-null  object \n",
            "dtypes: float64(4), int64(2), object(8)\n",
            "memory usage: 2.7+ MB\n"
          ]
        }
      ]
    },
    {
      "cell_type": "code",
      "source": [
        "pd.crosstab(X_train['sex'], y_train)"
      ],
      "metadata": {
        "colab": {
          "base_uri": "https://localhost:8080/",
          "height": 143
        },
        "id": "c43ptQ7jd7tJ",
        "outputId": "ec3a4867-2309-4b43-af82-ae31693c5c08"
      },
      "execution_count": null,
      "outputs": [
        {
          "output_type": "execute_result",
          "data": {
            "text/plain": [
              "income_level  <=50K  >50K\n",
              "sex                      \n",
              "Female         7086   862\n",
              "Male          11169  4815"
            ],
            "text/html": [
              "\n",
              "  <div id=\"df-e0e27435-1387-4179-b42d-555b5297a46e\">\n",
              "    <div class=\"colab-df-container\">\n",
              "      <div>\n",
              "<style scoped>\n",
              "    .dataframe tbody tr th:only-of-type {\n",
              "        vertical-align: middle;\n",
              "    }\n",
              "\n",
              "    .dataframe tbody tr th {\n",
              "        vertical-align: top;\n",
              "    }\n",
              "\n",
              "    .dataframe thead th {\n",
              "        text-align: right;\n",
              "    }\n",
              "</style>\n",
              "<table border=\"1\" class=\"dataframe\">\n",
              "  <thead>\n",
              "    <tr style=\"text-align: right;\">\n",
              "      <th>income_level</th>\n",
              "      <th>&lt;=50K</th>\n",
              "      <th>&gt;50K</th>\n",
              "    </tr>\n",
              "    <tr>\n",
              "      <th>sex</th>\n",
              "      <th></th>\n",
              "      <th></th>\n",
              "    </tr>\n",
              "  </thead>\n",
              "  <tbody>\n",
              "    <tr>\n",
              "      <th>Female</th>\n",
              "      <td>7086</td>\n",
              "      <td>862</td>\n",
              "    </tr>\n",
              "    <tr>\n",
              "      <th>Male</th>\n",
              "      <td>11169</td>\n",
              "      <td>4815</td>\n",
              "    </tr>\n",
              "  </tbody>\n",
              "</table>\n",
              "</div>\n",
              "      <button class=\"colab-df-convert\" onclick=\"convertToInteractive('df-e0e27435-1387-4179-b42d-555b5297a46e')\"\n",
              "              title=\"Convert this dataframe to an interactive table.\"\n",
              "              style=\"display:none;\">\n",
              "        \n",
              "  <svg xmlns=\"http://www.w3.org/2000/svg\" height=\"24px\"viewBox=\"0 0 24 24\"\n",
              "       width=\"24px\">\n",
              "    <path d=\"M0 0h24v24H0V0z\" fill=\"none\"/>\n",
              "    <path d=\"M18.56 5.44l.94 2.06.94-2.06 2.06-.94-2.06-.94-.94-2.06-.94 2.06-2.06.94zm-11 1L8.5 8.5l.94-2.06 2.06-.94-2.06-.94L8.5 2.5l-.94 2.06-2.06.94zm10 10l.94 2.06.94-2.06 2.06-.94-2.06-.94-.94-2.06-.94 2.06-2.06.94z\"/><path d=\"M17.41 7.96l-1.37-1.37c-.4-.4-.92-.59-1.43-.59-.52 0-1.04.2-1.43.59L10.3 9.45l-7.72 7.72c-.78.78-.78 2.05 0 2.83L4 21.41c.39.39.9.59 1.41.59.51 0 1.02-.2 1.41-.59l7.78-7.78 2.81-2.81c.8-.78.8-2.07 0-2.86zM5.41 20L4 18.59l7.72-7.72 1.47 1.35L5.41 20z\"/>\n",
              "  </svg>\n",
              "      </button>\n",
              "      \n",
              "  <style>\n",
              "    .colab-df-container {\n",
              "      display:flex;\n",
              "      flex-wrap:wrap;\n",
              "      gap: 12px;\n",
              "    }\n",
              "\n",
              "    .colab-df-convert {\n",
              "      background-color: #E8F0FE;\n",
              "      border: none;\n",
              "      border-radius: 50%;\n",
              "      cursor: pointer;\n",
              "      display: none;\n",
              "      fill: #1967D2;\n",
              "      height: 32px;\n",
              "      padding: 0 0 0 0;\n",
              "      width: 32px;\n",
              "    }\n",
              "\n",
              "    .colab-df-convert:hover {\n",
              "      background-color: #E2EBFA;\n",
              "      box-shadow: 0px 1px 2px rgba(60, 64, 67, 0.3), 0px 1px 3px 1px rgba(60, 64, 67, 0.15);\n",
              "      fill: #174EA6;\n",
              "    }\n",
              "\n",
              "    [theme=dark] .colab-df-convert {\n",
              "      background-color: #3B4455;\n",
              "      fill: #D2E3FC;\n",
              "    }\n",
              "\n",
              "    [theme=dark] .colab-df-convert:hover {\n",
              "      background-color: #434B5C;\n",
              "      box-shadow: 0px 1px 3px 1px rgba(0, 0, 0, 0.15);\n",
              "      filter: drop-shadow(0px 1px 2px rgba(0, 0, 0, 0.3));\n",
              "      fill: #FFFFFF;\n",
              "    }\n",
              "  </style>\n",
              "\n",
              "      <script>\n",
              "        const buttonEl =\n",
              "          document.querySelector('#df-e0e27435-1387-4179-b42d-555b5297a46e button.colab-df-convert');\n",
              "        buttonEl.style.display =\n",
              "          google.colab.kernel.accessAllowed ? 'block' : 'none';\n",
              "\n",
              "        async function convertToInteractive(key) {\n",
              "          const element = document.querySelector('#df-e0e27435-1387-4179-b42d-555b5297a46e');\n",
              "          const dataTable =\n",
              "            await google.colab.kernel.invokeFunction('convertToInteractive',\n",
              "                                                     [key], {});\n",
              "          if (!dataTable) return;\n",
              "\n",
              "          const docLinkHtml = 'Like what you see? Visit the ' +\n",
              "            '<a target=\"_blank\" href=https://colab.research.google.com/notebooks/data_table.ipynb>data table notebook</a>'\n",
              "            + ' to learn more about interactive tables.';\n",
              "          element.innerHTML = '';\n",
              "          dataTable['output_type'] = 'display_data';\n",
              "          await google.colab.output.renderOutput(dataTable, element);\n",
              "          const docLink = document.createElement('div');\n",
              "          docLink.innerHTML = docLinkHtml;\n",
              "          element.appendChild(docLink);\n",
              "        }\n",
              "      </script>\n",
              "    </div>\n",
              "  </div>\n",
              "  "
            ]
          },
          "metadata": {},
          "execution_count": 29
        }
      ]
    },
    {
      "cell_type": "code",
      "source": [
        "pd.crosstab(X_train['marital_status'], y_train)[1].sum() # TO SIĘ NIE KOMPILUJE JAK COŚ DANIEL"
      ],
      "metadata": {
        "colab": {
          "base_uri": "https://localhost:8080/",
          "height": 505
        },
        "id": "6O10ulpNsj_Q",
        "outputId": "ba25fc80-7ec0-4486-df86-ce0bf04519c8"
      },
      "execution_count": null,
      "outputs": [
        {
          "output_type": "error",
          "ename": "KeyError",
          "evalue": "ignored",
          "traceback": [
            "\u001b[0;31m---------------------------------------------------------------------------\u001b[0m",
            "\u001b[0;31mKeyError\u001b[0m                                  Traceback (most recent call last)",
            "\u001b[0;32m/usr/local/lib/python3.7/dist-packages/pandas/core/indexes/base.py\u001b[0m in \u001b[0;36mget_loc\u001b[0;34m(self, key, method, tolerance)\u001b[0m\n\u001b[1;32m   3360\u001b[0m             \u001b[0;32mtry\u001b[0m\u001b[0;34m:\u001b[0m\u001b[0;34m\u001b[0m\u001b[0;34m\u001b[0m\u001b[0m\n\u001b[0;32m-> 3361\u001b[0;31m                 \u001b[0;32mreturn\u001b[0m \u001b[0mself\u001b[0m\u001b[0;34m.\u001b[0m\u001b[0m_engine\u001b[0m\u001b[0;34m.\u001b[0m\u001b[0mget_loc\u001b[0m\u001b[0;34m(\u001b[0m\u001b[0mcasted_key\u001b[0m\u001b[0;34m)\u001b[0m\u001b[0;34m\u001b[0m\u001b[0;34m\u001b[0m\u001b[0m\n\u001b[0m\u001b[1;32m   3362\u001b[0m             \u001b[0;32mexcept\u001b[0m \u001b[0mKeyError\u001b[0m \u001b[0;32mas\u001b[0m \u001b[0merr\u001b[0m\u001b[0;34m:\u001b[0m\u001b[0;34m\u001b[0m\u001b[0;34m\u001b[0m\u001b[0m\n",
            "\u001b[0;32m/usr/local/lib/python3.7/dist-packages/pandas/_libs/index.pyx\u001b[0m in \u001b[0;36mpandas._libs.index.IndexEngine.get_loc\u001b[0;34m()\u001b[0m\n",
            "\u001b[0;32m/usr/local/lib/python3.7/dist-packages/pandas/_libs/index.pyx\u001b[0m in \u001b[0;36mpandas._libs.index.IndexEngine.get_loc\u001b[0;34m()\u001b[0m\n",
            "\u001b[0;32mpandas/_libs/hashtable_class_helper.pxi\u001b[0m in \u001b[0;36mpandas._libs.hashtable.PyObjectHashTable.get_item\u001b[0;34m()\u001b[0m\n",
            "\u001b[0;32mpandas/_libs/hashtable_class_helper.pxi\u001b[0m in \u001b[0;36mpandas._libs.hashtable.PyObjectHashTable.get_item\u001b[0;34m()\u001b[0m\n",
            "\u001b[0;31mKeyError\u001b[0m: 1",
            "\nThe above exception was the direct cause of the following exception:\n",
            "\u001b[0;31mKeyError\u001b[0m                                  Traceback (most recent call last)",
            "\u001b[0;32m<ipython-input-30-eacf321af9cc>\u001b[0m in \u001b[0;36m<module>\u001b[0;34m()\u001b[0m\n\u001b[0;32m----> 1\u001b[0;31m \u001b[0mpd\u001b[0m\u001b[0;34m.\u001b[0m\u001b[0mcrosstab\u001b[0m\u001b[0;34m(\u001b[0m\u001b[0mX_train\u001b[0m\u001b[0;34m[\u001b[0m\u001b[0;34m'marital_status'\u001b[0m\u001b[0;34m]\u001b[0m\u001b[0;34m,\u001b[0m \u001b[0my_train\u001b[0m\u001b[0;34m)\u001b[0m\u001b[0;34m[\u001b[0m\u001b[0;36m1\u001b[0m\u001b[0;34m]\u001b[0m\u001b[0;34m.\u001b[0m\u001b[0msum\u001b[0m\u001b[0;34m(\u001b[0m\u001b[0;34m)\u001b[0m \u001b[0;31m# TO SIĘ NIE KOMPILUJE JAK COŚ DANIEL\u001b[0m\u001b[0;34m\u001b[0m\u001b[0;34m\u001b[0m\u001b[0m\n\u001b[0m",
            "\u001b[0;32m/usr/local/lib/python3.7/dist-packages/pandas/core/frame.py\u001b[0m in \u001b[0;36m__getitem__\u001b[0;34m(self, key)\u001b[0m\n\u001b[1;32m   3456\u001b[0m             \u001b[0;32mif\u001b[0m \u001b[0mself\u001b[0m\u001b[0;34m.\u001b[0m\u001b[0mcolumns\u001b[0m\u001b[0;34m.\u001b[0m\u001b[0mnlevels\u001b[0m \u001b[0;34m>\u001b[0m \u001b[0;36m1\u001b[0m\u001b[0;34m:\u001b[0m\u001b[0;34m\u001b[0m\u001b[0;34m\u001b[0m\u001b[0m\n\u001b[1;32m   3457\u001b[0m                 \u001b[0;32mreturn\u001b[0m \u001b[0mself\u001b[0m\u001b[0;34m.\u001b[0m\u001b[0m_getitem_multilevel\u001b[0m\u001b[0;34m(\u001b[0m\u001b[0mkey\u001b[0m\u001b[0;34m)\u001b[0m\u001b[0;34m\u001b[0m\u001b[0;34m\u001b[0m\u001b[0m\n\u001b[0;32m-> 3458\u001b[0;31m             \u001b[0mindexer\u001b[0m \u001b[0;34m=\u001b[0m \u001b[0mself\u001b[0m\u001b[0;34m.\u001b[0m\u001b[0mcolumns\u001b[0m\u001b[0;34m.\u001b[0m\u001b[0mget_loc\u001b[0m\u001b[0;34m(\u001b[0m\u001b[0mkey\u001b[0m\u001b[0;34m)\u001b[0m\u001b[0;34m\u001b[0m\u001b[0;34m\u001b[0m\u001b[0m\n\u001b[0m\u001b[1;32m   3459\u001b[0m             \u001b[0;32mif\u001b[0m \u001b[0mis_integer\u001b[0m\u001b[0;34m(\u001b[0m\u001b[0mindexer\u001b[0m\u001b[0;34m)\u001b[0m\u001b[0;34m:\u001b[0m\u001b[0;34m\u001b[0m\u001b[0;34m\u001b[0m\u001b[0m\n\u001b[1;32m   3460\u001b[0m                 \u001b[0mindexer\u001b[0m \u001b[0;34m=\u001b[0m \u001b[0;34m[\u001b[0m\u001b[0mindexer\u001b[0m\u001b[0;34m]\u001b[0m\u001b[0;34m\u001b[0m\u001b[0;34m\u001b[0m\u001b[0m\n",
            "\u001b[0;32m/usr/local/lib/python3.7/dist-packages/pandas/core/indexes/base.py\u001b[0m in \u001b[0;36mget_loc\u001b[0;34m(self, key, method, tolerance)\u001b[0m\n\u001b[1;32m   3361\u001b[0m                 \u001b[0;32mreturn\u001b[0m \u001b[0mself\u001b[0m\u001b[0;34m.\u001b[0m\u001b[0m_engine\u001b[0m\u001b[0;34m.\u001b[0m\u001b[0mget_loc\u001b[0m\u001b[0;34m(\u001b[0m\u001b[0mcasted_key\u001b[0m\u001b[0;34m)\u001b[0m\u001b[0;34m\u001b[0m\u001b[0;34m\u001b[0m\u001b[0m\n\u001b[1;32m   3362\u001b[0m             \u001b[0;32mexcept\u001b[0m \u001b[0mKeyError\u001b[0m \u001b[0;32mas\u001b[0m \u001b[0merr\u001b[0m\u001b[0;34m:\u001b[0m\u001b[0;34m\u001b[0m\u001b[0;34m\u001b[0m\u001b[0m\n\u001b[0;32m-> 3363\u001b[0;31m                 \u001b[0;32mraise\u001b[0m \u001b[0mKeyError\u001b[0m\u001b[0;34m(\u001b[0m\u001b[0mkey\u001b[0m\u001b[0;34m)\u001b[0m \u001b[0;32mfrom\u001b[0m \u001b[0merr\u001b[0m\u001b[0;34m\u001b[0m\u001b[0;34m\u001b[0m\u001b[0m\n\u001b[0m\u001b[1;32m   3364\u001b[0m \u001b[0;34m\u001b[0m\u001b[0m\n\u001b[1;32m   3365\u001b[0m         \u001b[0;32mif\u001b[0m \u001b[0mis_scalar\u001b[0m\u001b[0;34m(\u001b[0m\u001b[0mkey\u001b[0m\u001b[0;34m)\u001b[0m \u001b[0;32mand\u001b[0m \u001b[0misna\u001b[0m\u001b[0;34m(\u001b[0m\u001b[0mkey\u001b[0m\u001b[0;34m)\u001b[0m \u001b[0;32mand\u001b[0m \u001b[0;32mnot\u001b[0m \u001b[0mself\u001b[0m\u001b[0;34m.\u001b[0m\u001b[0mhasnans\u001b[0m\u001b[0;34m:\u001b[0m\u001b[0;34m\u001b[0m\u001b[0;34m\u001b[0m\u001b[0m\n",
            "\u001b[0;31mKeyError\u001b[0m: 1"
          ]
        }
      ]
    },
    {
      "cell_type": "code",
      "source": [
        "pd.crosstab(X_train['marital_status'], y_train)"
      ],
      "metadata": {
        "id": "ClFW4Cz7suri"
      },
      "execution_count": null,
      "outputs": []
    },
    {
      "cell_type": "code",
      "source": [
        "X_train.nunique()"
      ],
      "metadata": {
        "id": "7_LUQVzIjFNe"
      },
      "execution_count": null,
      "outputs": []
    },
    {
      "cell_type": "code",
      "source": [
        "X_train"
      ],
      "metadata": {
        "id": "ChL-uJ5diASy"
      },
      "execution_count": null,
      "outputs": []
    },
    {
      "cell_type": "code",
      "source": [
        ""
      ],
      "metadata": {
        "id": "m-RdpZyqxgz_"
      },
      "execution_count": null,
      "outputs": []
    },
    {
      "cell_type": "markdown",
      "source": [
        "## Preprocessing"
      ],
      "metadata": {
        "id": "8llLtn1mxhMq"
      }
    },
    {
      "cell_type": "code",
      "source": [
        "woeEncoder = ce.WOEEncoder()"
      ],
      "metadata": {
        "id": "3SaLONjf-80L"
      },
      "execution_count": null,
      "outputs": []
    },
    {
      "cell_type": "code",
      "source": [
        "X_train = df.copy()"
      ],
      "metadata": {
        "id": "YCr8JwVwxjKJ"
      },
      "execution_count": null,
      "outputs": []
    },
    {
      "cell_type": "code",
      "source": [
        "y_train = X_train['income_level']"
      ],
      "metadata": {
        "id": "XWxrYB7zm8tf"
      },
      "execution_count": null,
      "outputs": []
    },
    {
      "cell_type": "code",
      "source": [
        "y_train = y_train.apply(lambda x: 1 if x=='>50K' else 0)"
      ],
      "metadata": {
        "id": "9OohpE_Sm8G8"
      },
      "execution_count": null,
      "outputs": []
    },
    {
      "cell_type": "code",
      "source": [
        "X_train.info()"
      ],
      "metadata": {
        "colab": {
          "base_uri": "https://localhost:8080/"
        },
        "id": "Q04PzqJK5qQU",
        "outputId": "12c2fdc2-6efa-464c-92ad-66487420a437"
      },
      "execution_count": null,
      "outputs": [
        {
          "output_type": "stream",
          "name": "stdout",
          "text": [
            "<class 'pandas.core.frame.DataFrame'>\n",
            "Int64Index: 23932 entries, 20969 to 12337\n",
            "Data columns (total 15 columns):\n",
            " #   Column          Non-Null Count  Dtype  \n",
            "---  ------          --------------  -----  \n",
            " 0   age             23932 non-null  int64  \n",
            " 1   workclass       23932 non-null  object \n",
            " 2   fnlwgt          23932 non-null  float64\n",
            " 3   education       23932 non-null  object \n",
            " 4   education_num   23932 non-null  int64  \n",
            " 5   marital_status  23932 non-null  object \n",
            " 6   occupation      23932 non-null  object \n",
            " 7   relationship    23932 non-null  object \n",
            " 8   race            23932 non-null  object \n",
            " 9   sex             23932 non-null  object \n",
            " 10  capital_gain    23932 non-null  float64\n",
            " 11  capital_loss    23932 non-null  float64\n",
            " 12  hours_per_week  23932 non-null  float64\n",
            " 13  native_country  23932 non-null  object \n",
            " 14  income_level    23932 non-null  object \n",
            "dtypes: float64(4), int64(2), object(9)\n",
            "memory usage: 2.9+ MB\n"
          ]
        }
      ]
    },
    {
      "cell_type": "code",
      "source": [
        "X_train.head()"
      ],
      "metadata": {
        "colab": {
          "base_uri": "https://localhost:8080/",
          "height": 206
        },
        "id": "r7gy7Ew0xl5_",
        "outputId": "9278cd47-7dfc-497b-eab9-b45a84a8f89e"
      },
      "execution_count": null,
      "outputs": [
        {
          "output_type": "execute_result",
          "data": {
            "text/plain": [
              "       age  workclass    fnlwgt     education  education_num  \\\n",
              "20969   34    Private   36385.0       Masters             14   \n",
              "14393   23    Private  150463.0       HS-grad              9   \n",
              "2480    41    Private  195897.0  Some-college             10   \n",
              "10614   39  Local-gov  189911.0          11th              7   \n",
              "31047   45    Private  191098.0     Bachelors             13   \n",
              "\n",
              "           marital_status       occupation   relationship                race  \\\n",
              "20969       Never-married   Prof-specialty  Not-in-family               White   \n",
              "14393       Never-married  Priv-house-serv      Unmarried               Other   \n",
              "2480   Married-civ-spouse            Sales        Husband               White   \n",
              "10614            Divorced     Adm-clerical      Unmarried               White   \n",
              "31047  Married-civ-spouse   Prof-specialty        Husband  Asian-Pac-Islander   \n",
              "\n",
              "          sex  capital_gain  capital_loss  hours_per_week native_country  \\\n",
              "20969    Male           0.0        2258.0            50.0  United-States   \n",
              "14393  Female           0.0           0.0            40.0      Guatemala   \n",
              "2480     Male           0.0           0.0            50.0  United-States   \n",
              "10614  Female           0.0           0.0            40.0  United-States   \n",
              "31047    Male           0.0           0.0            40.0          China   \n",
              "\n",
              "      income_level  \n",
              "20969        <=50K  \n",
              "14393        <=50K  \n",
              "2480         <=50K  \n",
              "10614        <=50K  \n",
              "31047        <=50K  "
            ],
            "text/html": [
              "\n",
              "  <div id=\"df-be2a85f6-4b0b-4a76-90d1-04e89e53061c\">\n",
              "    <div class=\"colab-df-container\">\n",
              "      <div>\n",
              "<style scoped>\n",
              "    .dataframe tbody tr th:only-of-type {\n",
              "        vertical-align: middle;\n",
              "    }\n",
              "\n",
              "    .dataframe tbody tr th {\n",
              "        vertical-align: top;\n",
              "    }\n",
              "\n",
              "    .dataframe thead th {\n",
              "        text-align: right;\n",
              "    }\n",
              "</style>\n",
              "<table border=\"1\" class=\"dataframe\">\n",
              "  <thead>\n",
              "    <tr style=\"text-align: right;\">\n",
              "      <th></th>\n",
              "      <th>age</th>\n",
              "      <th>workclass</th>\n",
              "      <th>fnlwgt</th>\n",
              "      <th>education</th>\n",
              "      <th>education_num</th>\n",
              "      <th>marital_status</th>\n",
              "      <th>occupation</th>\n",
              "      <th>relationship</th>\n",
              "      <th>race</th>\n",
              "      <th>sex</th>\n",
              "      <th>capital_gain</th>\n",
              "      <th>capital_loss</th>\n",
              "      <th>hours_per_week</th>\n",
              "      <th>native_country</th>\n",
              "      <th>income_level</th>\n",
              "    </tr>\n",
              "  </thead>\n",
              "  <tbody>\n",
              "    <tr>\n",
              "      <th>20969</th>\n",
              "      <td>34</td>\n",
              "      <td>Private</td>\n",
              "      <td>36385.0</td>\n",
              "      <td>Masters</td>\n",
              "      <td>14</td>\n",
              "      <td>Never-married</td>\n",
              "      <td>Prof-specialty</td>\n",
              "      <td>Not-in-family</td>\n",
              "      <td>White</td>\n",
              "      <td>Male</td>\n",
              "      <td>0.0</td>\n",
              "      <td>2258.0</td>\n",
              "      <td>50.0</td>\n",
              "      <td>United-States</td>\n",
              "      <td>&lt;=50K</td>\n",
              "    </tr>\n",
              "    <tr>\n",
              "      <th>14393</th>\n",
              "      <td>23</td>\n",
              "      <td>Private</td>\n",
              "      <td>150463.0</td>\n",
              "      <td>HS-grad</td>\n",
              "      <td>9</td>\n",
              "      <td>Never-married</td>\n",
              "      <td>Priv-house-serv</td>\n",
              "      <td>Unmarried</td>\n",
              "      <td>Other</td>\n",
              "      <td>Female</td>\n",
              "      <td>0.0</td>\n",
              "      <td>0.0</td>\n",
              "      <td>40.0</td>\n",
              "      <td>Guatemala</td>\n",
              "      <td>&lt;=50K</td>\n",
              "    </tr>\n",
              "    <tr>\n",
              "      <th>2480</th>\n",
              "      <td>41</td>\n",
              "      <td>Private</td>\n",
              "      <td>195897.0</td>\n",
              "      <td>Some-college</td>\n",
              "      <td>10</td>\n",
              "      <td>Married-civ-spouse</td>\n",
              "      <td>Sales</td>\n",
              "      <td>Husband</td>\n",
              "      <td>White</td>\n",
              "      <td>Male</td>\n",
              "      <td>0.0</td>\n",
              "      <td>0.0</td>\n",
              "      <td>50.0</td>\n",
              "      <td>United-States</td>\n",
              "      <td>&lt;=50K</td>\n",
              "    </tr>\n",
              "    <tr>\n",
              "      <th>10614</th>\n",
              "      <td>39</td>\n",
              "      <td>Local-gov</td>\n",
              "      <td>189911.0</td>\n",
              "      <td>11th</td>\n",
              "      <td>7</td>\n",
              "      <td>Divorced</td>\n",
              "      <td>Adm-clerical</td>\n",
              "      <td>Unmarried</td>\n",
              "      <td>White</td>\n",
              "      <td>Female</td>\n",
              "      <td>0.0</td>\n",
              "      <td>0.0</td>\n",
              "      <td>40.0</td>\n",
              "      <td>United-States</td>\n",
              "      <td>&lt;=50K</td>\n",
              "    </tr>\n",
              "    <tr>\n",
              "      <th>31047</th>\n",
              "      <td>45</td>\n",
              "      <td>Private</td>\n",
              "      <td>191098.0</td>\n",
              "      <td>Bachelors</td>\n",
              "      <td>13</td>\n",
              "      <td>Married-civ-spouse</td>\n",
              "      <td>Prof-specialty</td>\n",
              "      <td>Husband</td>\n",
              "      <td>Asian-Pac-Islander</td>\n",
              "      <td>Male</td>\n",
              "      <td>0.0</td>\n",
              "      <td>0.0</td>\n",
              "      <td>40.0</td>\n",
              "      <td>China</td>\n",
              "      <td>&lt;=50K</td>\n",
              "    </tr>\n",
              "  </tbody>\n",
              "</table>\n",
              "</div>\n",
              "      <button class=\"colab-df-convert\" onclick=\"convertToInteractive('df-be2a85f6-4b0b-4a76-90d1-04e89e53061c')\"\n",
              "              title=\"Convert this dataframe to an interactive table.\"\n",
              "              style=\"display:none;\">\n",
              "        \n",
              "  <svg xmlns=\"http://www.w3.org/2000/svg\" height=\"24px\"viewBox=\"0 0 24 24\"\n",
              "       width=\"24px\">\n",
              "    <path d=\"M0 0h24v24H0V0z\" fill=\"none\"/>\n",
              "    <path d=\"M18.56 5.44l.94 2.06.94-2.06 2.06-.94-2.06-.94-.94-2.06-.94 2.06-2.06.94zm-11 1L8.5 8.5l.94-2.06 2.06-.94-2.06-.94L8.5 2.5l-.94 2.06-2.06.94zm10 10l.94 2.06.94-2.06 2.06-.94-2.06-.94-.94-2.06-.94 2.06-2.06.94z\"/><path d=\"M17.41 7.96l-1.37-1.37c-.4-.4-.92-.59-1.43-.59-.52 0-1.04.2-1.43.59L10.3 9.45l-7.72 7.72c-.78.78-.78 2.05 0 2.83L4 21.41c.39.39.9.59 1.41.59.51 0 1.02-.2 1.41-.59l7.78-7.78 2.81-2.81c.8-.78.8-2.07 0-2.86zM5.41 20L4 18.59l7.72-7.72 1.47 1.35L5.41 20z\"/>\n",
              "  </svg>\n",
              "      </button>\n",
              "      \n",
              "  <style>\n",
              "    .colab-df-container {\n",
              "      display:flex;\n",
              "      flex-wrap:wrap;\n",
              "      gap: 12px;\n",
              "    }\n",
              "\n",
              "    .colab-df-convert {\n",
              "      background-color: #E8F0FE;\n",
              "      border: none;\n",
              "      border-radius: 50%;\n",
              "      cursor: pointer;\n",
              "      display: none;\n",
              "      fill: #1967D2;\n",
              "      height: 32px;\n",
              "      padding: 0 0 0 0;\n",
              "      width: 32px;\n",
              "    }\n",
              "\n",
              "    .colab-df-convert:hover {\n",
              "      background-color: #E2EBFA;\n",
              "      box-shadow: 0px 1px 2px rgba(60, 64, 67, 0.3), 0px 1px 3px 1px rgba(60, 64, 67, 0.15);\n",
              "      fill: #174EA6;\n",
              "    }\n",
              "\n",
              "    [theme=dark] .colab-df-convert {\n",
              "      background-color: #3B4455;\n",
              "      fill: #D2E3FC;\n",
              "    }\n",
              "\n",
              "    [theme=dark] .colab-df-convert:hover {\n",
              "      background-color: #434B5C;\n",
              "      box-shadow: 0px 1px 3px 1px rgba(0, 0, 0, 0.15);\n",
              "      filter: drop-shadow(0px 1px 2px rgba(0, 0, 0, 0.3));\n",
              "      fill: #FFFFFF;\n",
              "    }\n",
              "  </style>\n",
              "\n",
              "      <script>\n",
              "        const buttonEl =\n",
              "          document.querySelector('#df-be2a85f6-4b0b-4a76-90d1-04e89e53061c button.colab-df-convert');\n",
              "        buttonEl.style.display =\n",
              "          google.colab.kernel.accessAllowed ? 'block' : 'none';\n",
              "\n",
              "        async function convertToInteractive(key) {\n",
              "          const element = document.querySelector('#df-be2a85f6-4b0b-4a76-90d1-04e89e53061c');\n",
              "          const dataTable =\n",
              "            await google.colab.kernel.invokeFunction('convertToInteractive',\n",
              "                                                     [key], {});\n",
              "          if (!dataTable) return;\n",
              "\n",
              "          const docLinkHtml = 'Like what you see? Visit the ' +\n",
              "            '<a target=\"_blank\" href=https://colab.research.google.com/notebooks/data_table.ipynb>data table notebook</a>'\n",
              "            + ' to learn more about interactive tables.';\n",
              "          element.innerHTML = '';\n",
              "          dataTable['output_type'] = 'display_data';\n",
              "          await google.colab.output.renderOutput(dataTable, element);\n",
              "          const docLink = document.createElement('div');\n",
              "          docLink.innerHTML = docLinkHtml;\n",
              "          element.appendChild(docLink);\n",
              "        }\n",
              "      </script>\n",
              "    </div>\n",
              "  </div>\n",
              "  "
            ]
          },
          "metadata": {},
          "execution_count": 36
        }
      ]
    },
    {
      "cell_type": "code",
      "source": [
        "X_train['age'],bins = pd.qcut(X_train['age'], q = 10, labels=False, retbins=True)\n",
        "X_train = X_train.astype({\"age\": str})\n",
        "del X_train['education_num']\n",
        "del X_train['fnlwgt']\n",
        "X_train['capital_gain']=X_train['capital_gain'].apply(lambda x: \"1\" if x>0 else \"2\" )\n",
        "X_train['capital_loss']=X_train['capital_loss'].apply(lambda x: \"1\" if x>0 else \"2\")\n",
        "X_train['hours_per_week']=X_train['hours_per_week'].apply(lambda x: \"1\" if x>40 else \"2\")\n",
        "del X_train['income_level']"
      ],
      "metadata": {
        "id": "DwLSUc0E5Pd9"
      },
      "execution_count": null,
      "outputs": []
    },
    {
      "cell_type": "code",
      "source": [
        "X_test = df_test.copy()"
      ],
      "metadata": {
        "id": "G6G9LQFwAdlE"
      },
      "execution_count": null,
      "outputs": []
    },
    {
      "cell_type": "code",
      "source": [
        "y_test = X_test['income_level']"
      ],
      "metadata": {
        "id": "_nwYpxTZBIyt"
      },
      "execution_count": null,
      "outputs": []
    },
    {
      "cell_type": "code",
      "source": [
        "y_test = y_test.apply(lambda x: 1 if x=='>50K' else 0)"
      ],
      "metadata": {
        "id": "Mc9zVWEUBMYh"
      },
      "execution_count": null,
      "outputs": []
    },
    {
      "cell_type": "code",
      "source": [
        "bins"
      ],
      "metadata": {
        "colab": {
          "base_uri": "https://localhost:8080/"
        },
        "id": "I8JSVbA-ET7K",
        "outputId": "4d4e68ce-5bb6-47b9-fc0f-1178e6ed681a"
      },
      "execution_count": null,
      "outputs": [
        {
          "output_type": "execute_result",
          "data": {
            "text/plain": [
              "array([17., 22., 26., 30., 33., 37., 41., 46., 51., 58., 90.])"
            ]
          },
          "metadata": {},
          "execution_count": 32
        }
      ]
    },
    {
      "cell_type": "code",
      "source": [
        "X_test['age'] = pd.cut(X_test['age'], bins=[0., 22., 26., 30., 33., 37., 41., 46., 51., 58., 100.], labels=False,)\n",
        "X_test = X_test.astype({\"age\": str})\n",
        "del X_test['education_num']\n",
        "del X_test['fnlwgt']\n",
        "X_test['capital_gain']=X_test['capital_gain'].apply(lambda x: \"1\" if x>0 else \"2\" )\n",
        "X_test['capital_loss']=X_test['capital_loss'].apply(lambda x: \"1\" if x>0 else \"2\")\n",
        "X_test['hours_per_week']=X_test['hours_per_week'].apply(lambda x: \"1\" if x>40 else \"2\")\n",
        "del X_test['income_level']"
      ],
      "metadata": {
        "id": "QafsJwN3ApNq"
      },
      "execution_count": null,
      "outputs": []
    },
    {
      "cell_type": "code",
      "source": [
        "X_ez = woeEncoder.fit_transform(X_train, y_train)"
      ],
      "metadata": {
        "id": "CZXCGpp60P_w"
      },
      "execution_count": null,
      "outputs": []
    },
    {
      "cell_type": "markdown",
      "source": [
        "ZLaczenie bliskich WOE i znowu WOE"
      ],
      "metadata": {
        "id": "v3msk65EyFvc"
      }
    },
    {
      "cell_type": "code",
      "source": [
        "for col in X_ez.columns:\n",
        "  X_ez[col] = round(X_ez[col],1)\n",
        "  X_ez = X_ez.astype({col: str})"
      ],
      "metadata": {
        "id": "XjVW0dz1tP3C"
      },
      "execution_count": null,
      "outputs": []
    },
    {
      "cell_type": "code",
      "source": [
        "woeEncoder = ce.WOEEncoder()\n",
        "X_ez = woeEncoder.fit_transform(X_ez, y_train)"
      ],
      "metadata": {
        "id": "CN5o5aXXtj78"
      },
      "execution_count": null,
      "outputs": []
    },
    {
      "cell_type": "markdown",
      "source": [
        "Zakodowanie przy pomocy dictionaries"
      ],
      "metadata": {
        "id": "g7axWjuQpq0I"
      }
    },
    {
      "cell_type": "code",
      "source": [
        "for col in X_test.columns:\n",
        "  X_test[col] = X_test[col].map(dict(zip(X_train[col],X_ez[col])))\n"
      ],
      "metadata": {
        "id": "pMGOfnzBBmuI"
      },
      "execution_count": null,
      "outputs": []
    },
    {
      "cell_type": "code",
      "source": [
        "X_train.nunique()"
      ],
      "metadata": {
        "id": "N-kOkidqDm36",
        "colab": {
          "base_uri": "https://localhost:8080/"
        },
        "outputId": "48dea82b-601c-4825-9ada-0fa293fbc5f2"
      },
      "execution_count": null,
      "outputs": [
        {
          "output_type": "execute_result",
          "data": {
            "text/plain": [
              "age                5\n",
              "workclass          9\n",
              "education         16\n",
              "marital_status     7\n",
              "occupation        15\n",
              "relationship       6\n",
              "race               5\n",
              "sex                2\n",
              "capital_gain       2\n",
              "capital_loss       2\n",
              "hours_per_week     2\n",
              "native_country    42\n",
              "dtype: int64"
            ]
          },
          "metadata": {},
          "execution_count": 47
        }
      ]
    },
    {
      "cell_type": "code",
      "source": [
        "X_train.nunique()"
      ],
      "metadata": {
        "id": "VshSL2JlzYuG",
        "colab": {
          "base_uri": "https://localhost:8080/"
        },
        "outputId": "31600579-e801-4832-e246-6a5675c1b36f"
      },
      "execution_count": null,
      "outputs": [
        {
          "output_type": "execute_result",
          "data": {
            "text/plain": [
              "age                5\n",
              "workclass          9\n",
              "education         16\n",
              "marital_status     7\n",
              "occupation        15\n",
              "relationship       6\n",
              "race               5\n",
              "sex                2\n",
              "capital_gain       2\n",
              "capital_loss       2\n",
              "hours_per_week     2\n",
              "native_country    42\n",
              "dtype: int64"
            ]
          },
          "metadata": {},
          "execution_count": 48
        }
      ]
    },
    {
      "cell_type": "code",
      "source": [
        "X_train.head()"
      ],
      "metadata": {
        "id": "VczNvpY1zuKW",
        "colab": {
          "base_uri": "https://localhost:8080/",
          "height": 206
        },
        "outputId": "191b65e9-c2b2-47fc-d77e-f3a0eaa7d08c"
      },
      "execution_count": null,
      "outputs": [
        {
          "output_type": "execute_result",
          "data": {
            "text/plain": [
              "      age  workclass     education      marital_status       occupation  \\\n",
              "20969   2    Private       Masters       Never-married   Prof-specialty   \n",
              "14393   0    Private       HS-grad       Never-married  Priv-house-serv   \n",
              "2480    2    Private  Some-college  Married-civ-spouse            Sales   \n",
              "10614   2  Local-gov          11th            Divorced     Adm-clerical   \n",
              "31047   3    Private     Bachelors  Married-civ-spouse   Prof-specialty   \n",
              "\n",
              "        relationship                race     sex capital_gain capital_loss  \\\n",
              "20969  Not-in-family               White    Male            2            1   \n",
              "14393      Unmarried               Other  Female            2            2   \n",
              "2480         Husband               White    Male            2            2   \n",
              "10614      Unmarried               White  Female            2            2   \n",
              "31047        Husband  Asian-Pac-Islander    Male            2            2   \n",
              "\n",
              "      hours_per_week native_country  \n",
              "20969              1  United-States  \n",
              "14393              2      Guatemala  \n",
              "2480               1  United-States  \n",
              "10614              2  United-States  \n",
              "31047              2          China  "
            ],
            "text/html": [
              "\n",
              "  <div id=\"df-f417ae41-8bb7-49fe-a05e-9a1a80c3d829\">\n",
              "    <div class=\"colab-df-container\">\n",
              "      <div>\n",
              "<style scoped>\n",
              "    .dataframe tbody tr th:only-of-type {\n",
              "        vertical-align: middle;\n",
              "    }\n",
              "\n",
              "    .dataframe tbody tr th {\n",
              "        vertical-align: top;\n",
              "    }\n",
              "\n",
              "    .dataframe thead th {\n",
              "        text-align: right;\n",
              "    }\n",
              "</style>\n",
              "<table border=\"1\" class=\"dataframe\">\n",
              "  <thead>\n",
              "    <tr style=\"text-align: right;\">\n",
              "      <th></th>\n",
              "      <th>age</th>\n",
              "      <th>workclass</th>\n",
              "      <th>education</th>\n",
              "      <th>marital_status</th>\n",
              "      <th>occupation</th>\n",
              "      <th>relationship</th>\n",
              "      <th>race</th>\n",
              "      <th>sex</th>\n",
              "      <th>capital_gain</th>\n",
              "      <th>capital_loss</th>\n",
              "      <th>hours_per_week</th>\n",
              "      <th>native_country</th>\n",
              "    </tr>\n",
              "  </thead>\n",
              "  <tbody>\n",
              "    <tr>\n",
              "      <th>20969</th>\n",
              "      <td>2</td>\n",
              "      <td>Private</td>\n",
              "      <td>Masters</td>\n",
              "      <td>Never-married</td>\n",
              "      <td>Prof-specialty</td>\n",
              "      <td>Not-in-family</td>\n",
              "      <td>White</td>\n",
              "      <td>Male</td>\n",
              "      <td>2</td>\n",
              "      <td>1</td>\n",
              "      <td>1</td>\n",
              "      <td>United-States</td>\n",
              "    </tr>\n",
              "    <tr>\n",
              "      <th>14393</th>\n",
              "      <td>0</td>\n",
              "      <td>Private</td>\n",
              "      <td>HS-grad</td>\n",
              "      <td>Never-married</td>\n",
              "      <td>Priv-house-serv</td>\n",
              "      <td>Unmarried</td>\n",
              "      <td>Other</td>\n",
              "      <td>Female</td>\n",
              "      <td>2</td>\n",
              "      <td>2</td>\n",
              "      <td>2</td>\n",
              "      <td>Guatemala</td>\n",
              "    </tr>\n",
              "    <tr>\n",
              "      <th>2480</th>\n",
              "      <td>2</td>\n",
              "      <td>Private</td>\n",
              "      <td>Some-college</td>\n",
              "      <td>Married-civ-spouse</td>\n",
              "      <td>Sales</td>\n",
              "      <td>Husband</td>\n",
              "      <td>White</td>\n",
              "      <td>Male</td>\n",
              "      <td>2</td>\n",
              "      <td>2</td>\n",
              "      <td>1</td>\n",
              "      <td>United-States</td>\n",
              "    </tr>\n",
              "    <tr>\n",
              "      <th>10614</th>\n",
              "      <td>2</td>\n",
              "      <td>Local-gov</td>\n",
              "      <td>11th</td>\n",
              "      <td>Divorced</td>\n",
              "      <td>Adm-clerical</td>\n",
              "      <td>Unmarried</td>\n",
              "      <td>White</td>\n",
              "      <td>Female</td>\n",
              "      <td>2</td>\n",
              "      <td>2</td>\n",
              "      <td>2</td>\n",
              "      <td>United-States</td>\n",
              "    </tr>\n",
              "    <tr>\n",
              "      <th>31047</th>\n",
              "      <td>3</td>\n",
              "      <td>Private</td>\n",
              "      <td>Bachelors</td>\n",
              "      <td>Married-civ-spouse</td>\n",
              "      <td>Prof-specialty</td>\n",
              "      <td>Husband</td>\n",
              "      <td>Asian-Pac-Islander</td>\n",
              "      <td>Male</td>\n",
              "      <td>2</td>\n",
              "      <td>2</td>\n",
              "      <td>2</td>\n",
              "      <td>China</td>\n",
              "    </tr>\n",
              "  </tbody>\n",
              "</table>\n",
              "</div>\n",
              "      <button class=\"colab-df-convert\" onclick=\"convertToInteractive('df-f417ae41-8bb7-49fe-a05e-9a1a80c3d829')\"\n",
              "              title=\"Convert this dataframe to an interactive table.\"\n",
              "              style=\"display:none;\">\n",
              "        \n",
              "  <svg xmlns=\"http://www.w3.org/2000/svg\" height=\"24px\"viewBox=\"0 0 24 24\"\n",
              "       width=\"24px\">\n",
              "    <path d=\"M0 0h24v24H0V0z\" fill=\"none\"/>\n",
              "    <path d=\"M18.56 5.44l.94 2.06.94-2.06 2.06-.94-2.06-.94-.94-2.06-.94 2.06-2.06.94zm-11 1L8.5 8.5l.94-2.06 2.06-.94-2.06-.94L8.5 2.5l-.94 2.06-2.06.94zm10 10l.94 2.06.94-2.06 2.06-.94-2.06-.94-.94-2.06-.94 2.06-2.06.94z\"/><path d=\"M17.41 7.96l-1.37-1.37c-.4-.4-.92-.59-1.43-.59-.52 0-1.04.2-1.43.59L10.3 9.45l-7.72 7.72c-.78.78-.78 2.05 0 2.83L4 21.41c.39.39.9.59 1.41.59.51 0 1.02-.2 1.41-.59l7.78-7.78 2.81-2.81c.8-.78.8-2.07 0-2.86zM5.41 20L4 18.59l7.72-7.72 1.47 1.35L5.41 20z\"/>\n",
              "  </svg>\n",
              "      </button>\n",
              "      \n",
              "  <style>\n",
              "    .colab-df-container {\n",
              "      display:flex;\n",
              "      flex-wrap:wrap;\n",
              "      gap: 12px;\n",
              "    }\n",
              "\n",
              "    .colab-df-convert {\n",
              "      background-color: #E8F0FE;\n",
              "      border: none;\n",
              "      border-radius: 50%;\n",
              "      cursor: pointer;\n",
              "      display: none;\n",
              "      fill: #1967D2;\n",
              "      height: 32px;\n",
              "      padding: 0 0 0 0;\n",
              "      width: 32px;\n",
              "    }\n",
              "\n",
              "    .colab-df-convert:hover {\n",
              "      background-color: #E2EBFA;\n",
              "      box-shadow: 0px 1px 2px rgba(60, 64, 67, 0.3), 0px 1px 3px 1px rgba(60, 64, 67, 0.15);\n",
              "      fill: #174EA6;\n",
              "    }\n",
              "\n",
              "    [theme=dark] .colab-df-convert {\n",
              "      background-color: #3B4455;\n",
              "      fill: #D2E3FC;\n",
              "    }\n",
              "\n",
              "    [theme=dark] .colab-df-convert:hover {\n",
              "      background-color: #434B5C;\n",
              "      box-shadow: 0px 1px 3px 1px rgba(0, 0, 0, 0.15);\n",
              "      filter: drop-shadow(0px 1px 2px rgba(0, 0, 0, 0.3));\n",
              "      fill: #FFFFFF;\n",
              "    }\n",
              "  </style>\n",
              "\n",
              "      <script>\n",
              "        const buttonEl =\n",
              "          document.querySelector('#df-f417ae41-8bb7-49fe-a05e-9a1a80c3d829 button.colab-df-convert');\n",
              "        buttonEl.style.display =\n",
              "          google.colab.kernel.accessAllowed ? 'block' : 'none';\n",
              "\n",
              "        async function convertToInteractive(key) {\n",
              "          const element = document.querySelector('#df-f417ae41-8bb7-49fe-a05e-9a1a80c3d829');\n",
              "          const dataTable =\n",
              "            await google.colab.kernel.invokeFunction('convertToInteractive',\n",
              "                                                     [key], {});\n",
              "          if (!dataTable) return;\n",
              "\n",
              "          const docLinkHtml = 'Like what you see? Visit the ' +\n",
              "            '<a target=\"_blank\" href=https://colab.research.google.com/notebooks/data_table.ipynb>data table notebook</a>'\n",
              "            + ' to learn more about interactive tables.';\n",
              "          element.innerHTML = '';\n",
              "          dataTable['output_type'] = 'display_data';\n",
              "          await google.colab.output.renderOutput(dataTable, element);\n",
              "          const docLink = document.createElement('div');\n",
              "          docLink.innerHTML = docLinkHtml;\n",
              "          element.appendChild(docLink);\n",
              "        }\n",
              "      </script>\n",
              "    </div>\n",
              "  </div>\n",
              "  "
            ]
          },
          "metadata": {},
          "execution_count": 49
        }
      ]
    },
    {
      "cell_type": "code",
      "source": [
        "X_ez.head()"
      ],
      "metadata": {
        "id": "usZlwvrI0mkX",
        "colab": {
          "base_uri": "https://localhost:8080/",
          "height": 248
        },
        "outputId": "6d117ae5-63c3-4817-cf9d-80a25b7cf540"
      },
      "execution_count": null,
      "outputs": [
        {
          "output_type": "execute_result",
          "data": {
            "text/plain": [
              "            age  workclass  education  marital_status  occupation  \\\n",
              "20969  0.193943  -0.128814   1.338300       -1.835591    0.940308   \n",
              "14393 -1.942820  -0.128814  -0.492290       -1.835591   -2.569896   \n",
              "2480   0.518111  -0.128814  -0.326788        0.938622    0.141762   \n",
              "10614  0.518111   0.246506  -1.779055       -1.044336   -0.675639   \n",
              "31047  0.672863  -0.128814   0.790213        0.938622    0.940308   \n",
              "\n",
              "       relationship      race       sex  capital_gain  capital_loss  \\\n",
              "20969     -0.999529  0.078721  0.326486     -0.199789      1.142456   \n",
              "14393     -1.668796 -0.975090 -0.937829     -0.199789     -0.069931   \n",
              "2480       0.959616  0.078721  0.326486     -0.199789     -0.069931   \n",
              "10614     -1.668796  0.078721 -0.937829     -0.199789     -0.069931   \n",
              "31047      0.959616  0.152543  0.326486     -0.199789     -0.069931   \n",
              "\n",
              "       hours_per_week  native_country  \n",
              "20969        0.736684        0.020554  \n",
              "14393       -0.403993       -1.852651  \n",
              "2480         0.736684        0.020554  \n",
              "10614       -0.403993        0.020554  \n",
              "31047       -0.403993        0.543619  "
            ],
            "text/html": [
              "\n",
              "  <div id=\"df-802ca428-2637-452b-90ab-59ecfd44794b\">\n",
              "    <div class=\"colab-df-container\">\n",
              "      <div>\n",
              "<style scoped>\n",
              "    .dataframe tbody tr th:only-of-type {\n",
              "        vertical-align: middle;\n",
              "    }\n",
              "\n",
              "    .dataframe tbody tr th {\n",
              "        vertical-align: top;\n",
              "    }\n",
              "\n",
              "    .dataframe thead th {\n",
              "        text-align: right;\n",
              "    }\n",
              "</style>\n",
              "<table border=\"1\" class=\"dataframe\">\n",
              "  <thead>\n",
              "    <tr style=\"text-align: right;\">\n",
              "      <th></th>\n",
              "      <th>age</th>\n",
              "      <th>workclass</th>\n",
              "      <th>education</th>\n",
              "      <th>marital_status</th>\n",
              "      <th>occupation</th>\n",
              "      <th>relationship</th>\n",
              "      <th>race</th>\n",
              "      <th>sex</th>\n",
              "      <th>capital_gain</th>\n",
              "      <th>capital_loss</th>\n",
              "      <th>hours_per_week</th>\n",
              "      <th>native_country</th>\n",
              "    </tr>\n",
              "  </thead>\n",
              "  <tbody>\n",
              "    <tr>\n",
              "      <th>20969</th>\n",
              "      <td>0.193943</td>\n",
              "      <td>-0.128814</td>\n",
              "      <td>1.338300</td>\n",
              "      <td>-1.835591</td>\n",
              "      <td>0.940308</td>\n",
              "      <td>-0.999529</td>\n",
              "      <td>0.078721</td>\n",
              "      <td>0.326486</td>\n",
              "      <td>-0.199789</td>\n",
              "      <td>1.142456</td>\n",
              "      <td>0.736684</td>\n",
              "      <td>0.020554</td>\n",
              "    </tr>\n",
              "    <tr>\n",
              "      <th>14393</th>\n",
              "      <td>-1.942820</td>\n",
              "      <td>-0.128814</td>\n",
              "      <td>-0.492290</td>\n",
              "      <td>-1.835591</td>\n",
              "      <td>-2.569896</td>\n",
              "      <td>-1.668796</td>\n",
              "      <td>-0.975090</td>\n",
              "      <td>-0.937829</td>\n",
              "      <td>-0.199789</td>\n",
              "      <td>-0.069931</td>\n",
              "      <td>-0.403993</td>\n",
              "      <td>-1.852651</td>\n",
              "    </tr>\n",
              "    <tr>\n",
              "      <th>2480</th>\n",
              "      <td>0.518111</td>\n",
              "      <td>-0.128814</td>\n",
              "      <td>-0.326788</td>\n",
              "      <td>0.938622</td>\n",
              "      <td>0.141762</td>\n",
              "      <td>0.959616</td>\n",
              "      <td>0.078721</td>\n",
              "      <td>0.326486</td>\n",
              "      <td>-0.199789</td>\n",
              "      <td>-0.069931</td>\n",
              "      <td>0.736684</td>\n",
              "      <td>0.020554</td>\n",
              "    </tr>\n",
              "    <tr>\n",
              "      <th>10614</th>\n",
              "      <td>0.518111</td>\n",
              "      <td>0.246506</td>\n",
              "      <td>-1.779055</td>\n",
              "      <td>-1.044336</td>\n",
              "      <td>-0.675639</td>\n",
              "      <td>-1.668796</td>\n",
              "      <td>0.078721</td>\n",
              "      <td>-0.937829</td>\n",
              "      <td>-0.199789</td>\n",
              "      <td>-0.069931</td>\n",
              "      <td>-0.403993</td>\n",
              "      <td>0.020554</td>\n",
              "    </tr>\n",
              "    <tr>\n",
              "      <th>31047</th>\n",
              "      <td>0.672863</td>\n",
              "      <td>-0.128814</td>\n",
              "      <td>0.790213</td>\n",
              "      <td>0.938622</td>\n",
              "      <td>0.940308</td>\n",
              "      <td>0.959616</td>\n",
              "      <td>0.152543</td>\n",
              "      <td>0.326486</td>\n",
              "      <td>-0.199789</td>\n",
              "      <td>-0.069931</td>\n",
              "      <td>-0.403993</td>\n",
              "      <td>0.543619</td>\n",
              "    </tr>\n",
              "  </tbody>\n",
              "</table>\n",
              "</div>\n",
              "      <button class=\"colab-df-convert\" onclick=\"convertToInteractive('df-802ca428-2637-452b-90ab-59ecfd44794b')\"\n",
              "              title=\"Convert this dataframe to an interactive table.\"\n",
              "              style=\"display:none;\">\n",
              "        \n",
              "  <svg xmlns=\"http://www.w3.org/2000/svg\" height=\"24px\"viewBox=\"0 0 24 24\"\n",
              "       width=\"24px\">\n",
              "    <path d=\"M0 0h24v24H0V0z\" fill=\"none\"/>\n",
              "    <path d=\"M18.56 5.44l.94 2.06.94-2.06 2.06-.94-2.06-.94-.94-2.06-.94 2.06-2.06.94zm-11 1L8.5 8.5l.94-2.06 2.06-.94-2.06-.94L8.5 2.5l-.94 2.06-2.06.94zm10 10l.94 2.06.94-2.06 2.06-.94-2.06-.94-.94-2.06-.94 2.06-2.06.94z\"/><path d=\"M17.41 7.96l-1.37-1.37c-.4-.4-.92-.59-1.43-.59-.52 0-1.04.2-1.43.59L10.3 9.45l-7.72 7.72c-.78.78-.78 2.05 0 2.83L4 21.41c.39.39.9.59 1.41.59.51 0 1.02-.2 1.41-.59l7.78-7.78 2.81-2.81c.8-.78.8-2.07 0-2.86zM5.41 20L4 18.59l7.72-7.72 1.47 1.35L5.41 20z\"/>\n",
              "  </svg>\n",
              "      </button>\n",
              "      \n",
              "  <style>\n",
              "    .colab-df-container {\n",
              "      display:flex;\n",
              "      flex-wrap:wrap;\n",
              "      gap: 12px;\n",
              "    }\n",
              "\n",
              "    .colab-df-convert {\n",
              "      background-color: #E8F0FE;\n",
              "      border: none;\n",
              "      border-radius: 50%;\n",
              "      cursor: pointer;\n",
              "      display: none;\n",
              "      fill: #1967D2;\n",
              "      height: 32px;\n",
              "      padding: 0 0 0 0;\n",
              "      width: 32px;\n",
              "    }\n",
              "\n",
              "    .colab-df-convert:hover {\n",
              "      background-color: #E2EBFA;\n",
              "      box-shadow: 0px 1px 2px rgba(60, 64, 67, 0.3), 0px 1px 3px 1px rgba(60, 64, 67, 0.15);\n",
              "      fill: #174EA6;\n",
              "    }\n",
              "\n",
              "    [theme=dark] .colab-df-convert {\n",
              "      background-color: #3B4455;\n",
              "      fill: #D2E3FC;\n",
              "    }\n",
              "\n",
              "    [theme=dark] .colab-df-convert:hover {\n",
              "      background-color: #434B5C;\n",
              "      box-shadow: 0px 1px 3px 1px rgba(0, 0, 0, 0.15);\n",
              "      filter: drop-shadow(0px 1px 2px rgba(0, 0, 0, 0.3));\n",
              "      fill: #FFFFFF;\n",
              "    }\n",
              "  </style>\n",
              "\n",
              "      <script>\n",
              "        const buttonEl =\n",
              "          document.querySelector('#df-802ca428-2637-452b-90ab-59ecfd44794b button.colab-df-convert');\n",
              "        buttonEl.style.display =\n",
              "          google.colab.kernel.accessAllowed ? 'block' : 'none';\n",
              "\n",
              "        async function convertToInteractive(key) {\n",
              "          const element = document.querySelector('#df-802ca428-2637-452b-90ab-59ecfd44794b');\n",
              "          const dataTable =\n",
              "            await google.colab.kernel.invokeFunction('convertToInteractive',\n",
              "                                                     [key], {});\n",
              "          if (!dataTable) return;\n",
              "\n",
              "          const docLinkHtml = 'Like what you see? Visit the ' +\n",
              "            '<a target=\"_blank\" href=https://colab.research.google.com/notebooks/data_table.ipynb>data table notebook</a>'\n",
              "            + ' to learn more about interactive tables.';\n",
              "          element.innerHTML = '';\n",
              "          dataTable['output_type'] = 'display_data';\n",
              "          await google.colab.output.renderOutput(dataTable, element);\n",
              "          const docLink = document.createElement('div');\n",
              "          docLink.innerHTML = docLinkHtml;\n",
              "          element.appendChild(docLink);\n",
              "        }\n",
              "      </script>\n",
              "    </div>\n",
              "  </div>\n",
              "  "
            ]
          },
          "metadata": {},
          "execution_count": 38
        }
      ]
    },
    {
      "cell_type": "code",
      "source": [
        "X_test.head()"
      ],
      "metadata": {
        "id": "sdOnpRgg7ZZ5",
        "colab": {
          "base_uri": "https://localhost:8080/",
          "height": 248
        },
        "outputId": "95678dc8-7670-4eaf-c186-6898fedc1eda"
      },
      "execution_count": null,
      "outputs": [
        {
          "output_type": "execute_result",
          "data": {
            "text/plain": [
              "            age  workclass  education  marital_status  occupation  \\\n",
              "33032 -0.556018   0.143746   1.338300       -1.044336    0.940308   \n",
              "8650   0.193943   0.246506   0.095021       -1.835591    0.940308   \n",
              "14474 -0.160709  -0.128814   0.095021        0.938622    0.940308   \n",
              "28363  0.616156   1.386080  -0.326788        0.938622    0.141762   \n",
              "34599  0.753663  -0.128814  -0.492290       -1.397176    1.083736   \n",
              "\n",
              "       relationship      race       sex  capital_gain  capital_loss  \\\n",
              "33032     -0.999529  0.078721  0.326486     -0.199789     -0.069931   \n",
              "8650      -0.999529  0.078721 -0.937829     -0.199789     -0.069931   \n",
              "14474      0.959616  0.078721 -0.937829     -0.199789     -0.069931   \n",
              "28363      0.959616  0.078721  0.326486     -0.199789     -0.069931   \n",
              "34599     -0.999529  0.078721  0.326486      1.651643     -0.069931   \n",
              "\n",
              "       hours_per_week  native_country  \n",
              "33032       -0.403993        0.044770  \n",
              "8650        -0.403993        0.020554  \n",
              "14474       -0.403993        0.020554  \n",
              "28363        0.736684        0.020554  \n",
              "34599        0.736684        0.020554  "
            ],
            "text/html": [
              "\n",
              "  <div id=\"df-14599ee0-19ab-4777-95db-cce766a5e740\">\n",
              "    <div class=\"colab-df-container\">\n",
              "      <div>\n",
              "<style scoped>\n",
              "    .dataframe tbody tr th:only-of-type {\n",
              "        vertical-align: middle;\n",
              "    }\n",
              "\n",
              "    .dataframe tbody tr th {\n",
              "        vertical-align: top;\n",
              "    }\n",
              "\n",
              "    .dataframe thead th {\n",
              "        text-align: right;\n",
              "    }\n",
              "</style>\n",
              "<table border=\"1\" class=\"dataframe\">\n",
              "  <thead>\n",
              "    <tr style=\"text-align: right;\">\n",
              "      <th></th>\n",
              "      <th>age</th>\n",
              "      <th>workclass</th>\n",
              "      <th>education</th>\n",
              "      <th>marital_status</th>\n",
              "      <th>occupation</th>\n",
              "      <th>relationship</th>\n",
              "      <th>race</th>\n",
              "      <th>sex</th>\n",
              "      <th>capital_gain</th>\n",
              "      <th>capital_loss</th>\n",
              "      <th>hours_per_week</th>\n",
              "      <th>native_country</th>\n",
              "    </tr>\n",
              "  </thead>\n",
              "  <tbody>\n",
              "    <tr>\n",
              "      <th>33032</th>\n",
              "      <td>-0.556018</td>\n",
              "      <td>0.143746</td>\n",
              "      <td>1.338300</td>\n",
              "      <td>-1.044336</td>\n",
              "      <td>0.940308</td>\n",
              "      <td>-0.999529</td>\n",
              "      <td>0.078721</td>\n",
              "      <td>0.326486</td>\n",
              "      <td>-0.199789</td>\n",
              "      <td>-0.069931</td>\n",
              "      <td>-0.403993</td>\n",
              "      <td>0.044770</td>\n",
              "    </tr>\n",
              "    <tr>\n",
              "      <th>8650</th>\n",
              "      <td>0.193943</td>\n",
              "      <td>0.246506</td>\n",
              "      <td>0.095021</td>\n",
              "      <td>-1.835591</td>\n",
              "      <td>0.940308</td>\n",
              "      <td>-0.999529</td>\n",
              "      <td>0.078721</td>\n",
              "      <td>-0.937829</td>\n",
              "      <td>-0.199789</td>\n",
              "      <td>-0.069931</td>\n",
              "      <td>-0.403993</td>\n",
              "      <td>0.020554</td>\n",
              "    </tr>\n",
              "    <tr>\n",
              "      <th>14474</th>\n",
              "      <td>-0.160709</td>\n",
              "      <td>-0.128814</td>\n",
              "      <td>0.095021</td>\n",
              "      <td>0.938622</td>\n",
              "      <td>0.940308</td>\n",
              "      <td>0.959616</td>\n",
              "      <td>0.078721</td>\n",
              "      <td>-0.937829</td>\n",
              "      <td>-0.199789</td>\n",
              "      <td>-0.069931</td>\n",
              "      <td>-0.403993</td>\n",
              "      <td>0.020554</td>\n",
              "    </tr>\n",
              "    <tr>\n",
              "      <th>28363</th>\n",
              "      <td>0.616156</td>\n",
              "      <td>1.386080</td>\n",
              "      <td>-0.326788</td>\n",
              "      <td>0.938622</td>\n",
              "      <td>0.141762</td>\n",
              "      <td>0.959616</td>\n",
              "      <td>0.078721</td>\n",
              "      <td>0.326486</td>\n",
              "      <td>-0.199789</td>\n",
              "      <td>-0.069931</td>\n",
              "      <td>0.736684</td>\n",
              "      <td>0.020554</td>\n",
              "    </tr>\n",
              "    <tr>\n",
              "      <th>34599</th>\n",
              "      <td>0.753663</td>\n",
              "      <td>-0.128814</td>\n",
              "      <td>-0.492290</td>\n",
              "      <td>-1.397176</td>\n",
              "      <td>1.083736</td>\n",
              "      <td>-0.999529</td>\n",
              "      <td>0.078721</td>\n",
              "      <td>0.326486</td>\n",
              "      <td>1.651643</td>\n",
              "      <td>-0.069931</td>\n",
              "      <td>0.736684</td>\n",
              "      <td>0.020554</td>\n",
              "    </tr>\n",
              "  </tbody>\n",
              "</table>\n",
              "</div>\n",
              "      <button class=\"colab-df-convert\" onclick=\"convertToInteractive('df-14599ee0-19ab-4777-95db-cce766a5e740')\"\n",
              "              title=\"Convert this dataframe to an interactive table.\"\n",
              "              style=\"display:none;\">\n",
              "        \n",
              "  <svg xmlns=\"http://www.w3.org/2000/svg\" height=\"24px\"viewBox=\"0 0 24 24\"\n",
              "       width=\"24px\">\n",
              "    <path d=\"M0 0h24v24H0V0z\" fill=\"none\"/>\n",
              "    <path d=\"M18.56 5.44l.94 2.06.94-2.06 2.06-.94-2.06-.94-.94-2.06-.94 2.06-2.06.94zm-11 1L8.5 8.5l.94-2.06 2.06-.94-2.06-.94L8.5 2.5l-.94 2.06-2.06.94zm10 10l.94 2.06.94-2.06 2.06-.94-2.06-.94-.94-2.06-.94 2.06-2.06.94z\"/><path d=\"M17.41 7.96l-1.37-1.37c-.4-.4-.92-.59-1.43-.59-.52 0-1.04.2-1.43.59L10.3 9.45l-7.72 7.72c-.78.78-.78 2.05 0 2.83L4 21.41c.39.39.9.59 1.41.59.51 0 1.02-.2 1.41-.59l7.78-7.78 2.81-2.81c.8-.78.8-2.07 0-2.86zM5.41 20L4 18.59l7.72-7.72 1.47 1.35L5.41 20z\"/>\n",
              "  </svg>\n",
              "      </button>\n",
              "      \n",
              "  <style>\n",
              "    .colab-df-container {\n",
              "      display:flex;\n",
              "      flex-wrap:wrap;\n",
              "      gap: 12px;\n",
              "    }\n",
              "\n",
              "    .colab-df-convert {\n",
              "      background-color: #E8F0FE;\n",
              "      border: none;\n",
              "      border-radius: 50%;\n",
              "      cursor: pointer;\n",
              "      display: none;\n",
              "      fill: #1967D2;\n",
              "      height: 32px;\n",
              "      padding: 0 0 0 0;\n",
              "      width: 32px;\n",
              "    }\n",
              "\n",
              "    .colab-df-convert:hover {\n",
              "      background-color: #E2EBFA;\n",
              "      box-shadow: 0px 1px 2px rgba(60, 64, 67, 0.3), 0px 1px 3px 1px rgba(60, 64, 67, 0.15);\n",
              "      fill: #174EA6;\n",
              "    }\n",
              "\n",
              "    [theme=dark] .colab-df-convert {\n",
              "      background-color: #3B4455;\n",
              "      fill: #D2E3FC;\n",
              "    }\n",
              "\n",
              "    [theme=dark] .colab-df-convert:hover {\n",
              "      background-color: #434B5C;\n",
              "      box-shadow: 0px 1px 3px 1px rgba(0, 0, 0, 0.15);\n",
              "      filter: drop-shadow(0px 1px 2px rgba(0, 0, 0, 0.3));\n",
              "      fill: #FFFFFF;\n",
              "    }\n",
              "  </style>\n",
              "\n",
              "      <script>\n",
              "        const buttonEl =\n",
              "          document.querySelector('#df-14599ee0-19ab-4777-95db-cce766a5e740 button.colab-df-convert');\n",
              "        buttonEl.style.display =\n",
              "          google.colab.kernel.accessAllowed ? 'block' : 'none';\n",
              "\n",
              "        async function convertToInteractive(key) {\n",
              "          const element = document.querySelector('#df-14599ee0-19ab-4777-95db-cce766a5e740');\n",
              "          const dataTable =\n",
              "            await google.colab.kernel.invokeFunction('convertToInteractive',\n",
              "                                                     [key], {});\n",
              "          if (!dataTable) return;\n",
              "\n",
              "          const docLinkHtml = 'Like what you see? Visit the ' +\n",
              "            '<a target=\"_blank\" href=https://colab.research.google.com/notebooks/data_table.ipynb>data table notebook</a>'\n",
              "            + ' to learn more about interactive tables.';\n",
              "          element.innerHTML = '';\n",
              "          dataTable['output_type'] = 'display_data';\n",
              "          await google.colab.output.renderOutput(dataTable, element);\n",
              "          const docLink = document.createElement('div');\n",
              "          docLink.innerHTML = docLinkHtml;\n",
              "          element.appendChild(docLink);\n",
              "        }\n",
              "      </script>\n",
              "    </div>\n",
              "  </div>\n",
              "  "
            ]
          },
          "metadata": {},
          "execution_count": 39
        }
      ]
    },
    {
      "cell_type": "markdown",
      "source": [
        "## Modelowanie"
      ],
      "metadata": {
        "id": "SmHAvoiX9C4S"
      }
    },
    {
      "cell_type": "markdown",
      "source": [
        "Zaimportujmy niezbędne biblioteki."
      ],
      "metadata": {
        "id": "TzdLIYdrpNKs"
      }
    },
    {
      "cell_type": "code",
      "source": [
        "from sklearn.model_selection import GridSearchCV\n",
        "from sklearn.linear_model import LogisticRegression\n",
        "from sklearn.neighbors import KNeighborsClassifier\n",
        "from sklearn.ensemble import RandomForestClassifier\n",
        "warnings.filterwarnings('ignore')"
      ],
      "metadata": {
        "id": "QsGkcMmw9E2-"
      },
      "execution_count": null,
      "outputs": []
    },
    {
      "cell_type": "code",
      "source": [
        "from sklearn.metrics import accuracy_score\n",
        "from sklearn.metrics import f1_score\n",
        "from sklearn.metrics import roc_auc_score\n",
        "from sklearn.pipeline import Pipeline\n",
        "from sklearn.preprocessing import StandardScaler"
      ],
      "metadata": {
        "id": "nsicqsEoGBFG"
      },
      "execution_count": null,
      "outputs": []
    },
    {
      "cell_type": "code",
      "source": [
        "X_ez"
      ],
      "metadata": {
        "colab": {
          "base_uri": "https://localhost:8080/",
          "height": 424
        },
        "id": "DpCk6JAQzSop",
        "outputId": "badd77a4-63b8-4bad-f022-543dfb9eb0cd"
      },
      "execution_count": null,
      "outputs": [
        {
          "output_type": "execute_result",
          "data": {
            "text/plain": [
              "            age  workclass  education  marital_status  occupation  \\\n",
              "20969  0.356148  -0.128814   1.338300       -1.835591    0.940308   \n",
              "14393 -2.649743  -0.128814  -0.492290       -1.835591   -2.569896   \n",
              "2480   0.356148  -0.128814  -0.326788        0.938622    0.141762   \n",
              "10614  0.356148   0.246506  -1.779055       -1.044336   -0.675639   \n",
              "31047  0.709235  -0.128814   0.790213        0.938622    0.940308   \n",
              "...         ...        ...        ...             ...         ...   \n",
              "45031 -0.373307   0.246506  -0.492290        0.938622    0.410286   \n",
              "24143  0.356148  -0.128814  -0.492290       -1.835591    1.083736   \n",
              "23994  0.709235  -0.128814  -1.638772        0.938622   -0.777338   \n",
              "1398   0.709235  -0.128814  -1.638772        0.938622   -1.426652   \n",
              "12337 -0.373307  -0.128814   0.790213        0.938622    1.083736   \n",
              "\n",
              "       relationship      race       sex  capital_gain  capital_loss  \\\n",
              "20969     -0.999529  0.078721  0.326486     -0.199789      1.142456   \n",
              "14393     -1.668796 -0.975090 -0.937829     -0.199789     -0.069931   \n",
              "2480       0.959616  0.078721  0.326486     -0.199789     -0.069931   \n",
              "10614     -1.668796  0.078721 -0.937829     -0.199789     -0.069931   \n",
              "31047      0.959616  0.152543  0.326486     -0.199789     -0.069931   \n",
              "...             ...       ...       ...           ...           ...   \n",
              "45031      0.959616  0.078721  0.326486     -0.199789     -0.069931   \n",
              "24143     -0.999529 -0.803166  0.326486      1.651643     -0.069931   \n",
              "23994      0.959616 -0.803166  0.326486     -0.199789      1.142456   \n",
              "1398       0.959616  0.078721  0.326486      1.651643     -0.069931   \n",
              "12337      0.959616 -0.803166 -0.937829     -0.199789     -0.069931   \n",
              "\n",
              "       hours_per_week  native_country  \n",
              "20969        0.736684        0.020554  \n",
              "14393       -0.403993       -1.852651  \n",
              "2480         0.736684        0.020554  \n",
              "10614       -0.403993        0.020554  \n",
              "31047       -0.403993        0.543619  \n",
              "...               ...             ...  \n",
              "45031        0.736684        0.020554  \n",
              "24143        0.736684        0.020554  \n",
              "23994       -0.403993        0.020554  \n",
              "1398         0.736684        0.020554  \n",
              "12337        0.736684        0.020554  \n",
              "\n",
              "[23932 rows x 12 columns]"
            ],
            "text/html": [
              "\n",
              "  <div id=\"df-983c067a-03d0-4a4e-9205-4d13e88fe032\">\n",
              "    <div class=\"colab-df-container\">\n",
              "      <div>\n",
              "<style scoped>\n",
              "    .dataframe tbody tr th:only-of-type {\n",
              "        vertical-align: middle;\n",
              "    }\n",
              "\n",
              "    .dataframe tbody tr th {\n",
              "        vertical-align: top;\n",
              "    }\n",
              "\n",
              "    .dataframe thead th {\n",
              "        text-align: right;\n",
              "    }\n",
              "</style>\n",
              "<table border=\"1\" class=\"dataframe\">\n",
              "  <thead>\n",
              "    <tr style=\"text-align: right;\">\n",
              "      <th></th>\n",
              "      <th>age</th>\n",
              "      <th>workclass</th>\n",
              "      <th>education</th>\n",
              "      <th>marital_status</th>\n",
              "      <th>occupation</th>\n",
              "      <th>relationship</th>\n",
              "      <th>race</th>\n",
              "      <th>sex</th>\n",
              "      <th>capital_gain</th>\n",
              "      <th>capital_loss</th>\n",
              "      <th>hours_per_week</th>\n",
              "      <th>native_country</th>\n",
              "    </tr>\n",
              "  </thead>\n",
              "  <tbody>\n",
              "    <tr>\n",
              "      <th>20969</th>\n",
              "      <td>0.356148</td>\n",
              "      <td>-0.128814</td>\n",
              "      <td>1.338300</td>\n",
              "      <td>-1.835591</td>\n",
              "      <td>0.940308</td>\n",
              "      <td>-0.999529</td>\n",
              "      <td>0.078721</td>\n",
              "      <td>0.326486</td>\n",
              "      <td>-0.199789</td>\n",
              "      <td>1.142456</td>\n",
              "      <td>0.736684</td>\n",
              "      <td>0.020554</td>\n",
              "    </tr>\n",
              "    <tr>\n",
              "      <th>14393</th>\n",
              "      <td>-2.649743</td>\n",
              "      <td>-0.128814</td>\n",
              "      <td>-0.492290</td>\n",
              "      <td>-1.835591</td>\n",
              "      <td>-2.569896</td>\n",
              "      <td>-1.668796</td>\n",
              "      <td>-0.975090</td>\n",
              "      <td>-0.937829</td>\n",
              "      <td>-0.199789</td>\n",
              "      <td>-0.069931</td>\n",
              "      <td>-0.403993</td>\n",
              "      <td>-1.852651</td>\n",
              "    </tr>\n",
              "    <tr>\n",
              "      <th>2480</th>\n",
              "      <td>0.356148</td>\n",
              "      <td>-0.128814</td>\n",
              "      <td>-0.326788</td>\n",
              "      <td>0.938622</td>\n",
              "      <td>0.141762</td>\n",
              "      <td>0.959616</td>\n",
              "      <td>0.078721</td>\n",
              "      <td>0.326486</td>\n",
              "      <td>-0.199789</td>\n",
              "      <td>-0.069931</td>\n",
              "      <td>0.736684</td>\n",
              "      <td>0.020554</td>\n",
              "    </tr>\n",
              "    <tr>\n",
              "      <th>10614</th>\n",
              "      <td>0.356148</td>\n",
              "      <td>0.246506</td>\n",
              "      <td>-1.779055</td>\n",
              "      <td>-1.044336</td>\n",
              "      <td>-0.675639</td>\n",
              "      <td>-1.668796</td>\n",
              "      <td>0.078721</td>\n",
              "      <td>-0.937829</td>\n",
              "      <td>-0.199789</td>\n",
              "      <td>-0.069931</td>\n",
              "      <td>-0.403993</td>\n",
              "      <td>0.020554</td>\n",
              "    </tr>\n",
              "    <tr>\n",
              "      <th>31047</th>\n",
              "      <td>0.709235</td>\n",
              "      <td>-0.128814</td>\n",
              "      <td>0.790213</td>\n",
              "      <td>0.938622</td>\n",
              "      <td>0.940308</td>\n",
              "      <td>0.959616</td>\n",
              "      <td>0.152543</td>\n",
              "      <td>0.326486</td>\n",
              "      <td>-0.199789</td>\n",
              "      <td>-0.069931</td>\n",
              "      <td>-0.403993</td>\n",
              "      <td>0.543619</td>\n",
              "    </tr>\n",
              "    <tr>\n",
              "      <th>...</th>\n",
              "      <td>...</td>\n",
              "      <td>...</td>\n",
              "      <td>...</td>\n",
              "      <td>...</td>\n",
              "      <td>...</td>\n",
              "      <td>...</td>\n",
              "      <td>...</td>\n",
              "      <td>...</td>\n",
              "      <td>...</td>\n",
              "      <td>...</td>\n",
              "      <td>...</td>\n",
              "      <td>...</td>\n",
              "    </tr>\n",
              "    <tr>\n",
              "      <th>45031</th>\n",
              "      <td>-0.373307</td>\n",
              "      <td>0.246506</td>\n",
              "      <td>-0.492290</td>\n",
              "      <td>0.938622</td>\n",
              "      <td>0.410286</td>\n",
              "      <td>0.959616</td>\n",
              "      <td>0.078721</td>\n",
              "      <td>0.326486</td>\n",
              "      <td>-0.199789</td>\n",
              "      <td>-0.069931</td>\n",
              "      <td>0.736684</td>\n",
              "      <td>0.020554</td>\n",
              "    </tr>\n",
              "    <tr>\n",
              "      <th>24143</th>\n",
              "      <td>0.356148</td>\n",
              "      <td>-0.128814</td>\n",
              "      <td>-0.492290</td>\n",
              "      <td>-1.835591</td>\n",
              "      <td>1.083736</td>\n",
              "      <td>-0.999529</td>\n",
              "      <td>-0.803166</td>\n",
              "      <td>0.326486</td>\n",
              "      <td>1.651643</td>\n",
              "      <td>-0.069931</td>\n",
              "      <td>0.736684</td>\n",
              "      <td>0.020554</td>\n",
              "    </tr>\n",
              "    <tr>\n",
              "      <th>23994</th>\n",
              "      <td>0.709235</td>\n",
              "      <td>-0.128814</td>\n",
              "      <td>-1.638772</td>\n",
              "      <td>0.938622</td>\n",
              "      <td>-0.777338</td>\n",
              "      <td>0.959616</td>\n",
              "      <td>-0.803166</td>\n",
              "      <td>0.326486</td>\n",
              "      <td>-0.199789</td>\n",
              "      <td>1.142456</td>\n",
              "      <td>-0.403993</td>\n",
              "      <td>0.020554</td>\n",
              "    </tr>\n",
              "    <tr>\n",
              "      <th>1398</th>\n",
              "      <td>0.709235</td>\n",
              "      <td>-0.128814</td>\n",
              "      <td>-1.638772</td>\n",
              "      <td>0.938622</td>\n",
              "      <td>-1.426652</td>\n",
              "      <td>0.959616</td>\n",
              "      <td>0.078721</td>\n",
              "      <td>0.326486</td>\n",
              "      <td>1.651643</td>\n",
              "      <td>-0.069931</td>\n",
              "      <td>0.736684</td>\n",
              "      <td>0.020554</td>\n",
              "    </tr>\n",
              "    <tr>\n",
              "      <th>12337</th>\n",
              "      <td>-0.373307</td>\n",
              "      <td>-0.128814</td>\n",
              "      <td>0.790213</td>\n",
              "      <td>0.938622</td>\n",
              "      <td>1.083736</td>\n",
              "      <td>0.959616</td>\n",
              "      <td>-0.803166</td>\n",
              "      <td>-0.937829</td>\n",
              "      <td>-0.199789</td>\n",
              "      <td>-0.069931</td>\n",
              "      <td>0.736684</td>\n",
              "      <td>0.020554</td>\n",
              "    </tr>\n",
              "  </tbody>\n",
              "</table>\n",
              "<p>23932 rows × 12 columns</p>\n",
              "</div>\n",
              "      <button class=\"colab-df-convert\" onclick=\"convertToInteractive('df-983c067a-03d0-4a4e-9205-4d13e88fe032')\"\n",
              "              title=\"Convert this dataframe to an interactive table.\"\n",
              "              style=\"display:none;\">\n",
              "        \n",
              "  <svg xmlns=\"http://www.w3.org/2000/svg\" height=\"24px\"viewBox=\"0 0 24 24\"\n",
              "       width=\"24px\">\n",
              "    <path d=\"M0 0h24v24H0V0z\" fill=\"none\"/>\n",
              "    <path d=\"M18.56 5.44l.94 2.06.94-2.06 2.06-.94-2.06-.94-.94-2.06-.94 2.06-2.06.94zm-11 1L8.5 8.5l.94-2.06 2.06-.94-2.06-.94L8.5 2.5l-.94 2.06-2.06.94zm10 10l.94 2.06.94-2.06 2.06-.94-2.06-.94-.94-2.06-.94 2.06-2.06.94z\"/><path d=\"M17.41 7.96l-1.37-1.37c-.4-.4-.92-.59-1.43-.59-.52 0-1.04.2-1.43.59L10.3 9.45l-7.72 7.72c-.78.78-.78 2.05 0 2.83L4 21.41c.39.39.9.59 1.41.59.51 0 1.02-.2 1.41-.59l7.78-7.78 2.81-2.81c.8-.78.8-2.07 0-2.86zM5.41 20L4 18.59l7.72-7.72 1.47 1.35L5.41 20z\"/>\n",
              "  </svg>\n",
              "      </button>\n",
              "      \n",
              "  <style>\n",
              "    .colab-df-container {\n",
              "      display:flex;\n",
              "      flex-wrap:wrap;\n",
              "      gap: 12px;\n",
              "    }\n",
              "\n",
              "    .colab-df-convert {\n",
              "      background-color: #E8F0FE;\n",
              "      border: none;\n",
              "      border-radius: 50%;\n",
              "      cursor: pointer;\n",
              "      display: none;\n",
              "      fill: #1967D2;\n",
              "      height: 32px;\n",
              "      padding: 0 0 0 0;\n",
              "      width: 32px;\n",
              "    }\n",
              "\n",
              "    .colab-df-convert:hover {\n",
              "      background-color: #E2EBFA;\n",
              "      box-shadow: 0px 1px 2px rgba(60, 64, 67, 0.3), 0px 1px 3px 1px rgba(60, 64, 67, 0.15);\n",
              "      fill: #174EA6;\n",
              "    }\n",
              "\n",
              "    [theme=dark] .colab-df-convert {\n",
              "      background-color: #3B4455;\n",
              "      fill: #D2E3FC;\n",
              "    }\n",
              "\n",
              "    [theme=dark] .colab-df-convert:hover {\n",
              "      background-color: #434B5C;\n",
              "      box-shadow: 0px 1px 3px 1px rgba(0, 0, 0, 0.15);\n",
              "      filter: drop-shadow(0px 1px 2px rgba(0, 0, 0, 0.3));\n",
              "      fill: #FFFFFF;\n",
              "    }\n",
              "  </style>\n",
              "\n",
              "      <script>\n",
              "        const buttonEl =\n",
              "          document.querySelector('#df-983c067a-03d0-4a4e-9205-4d13e88fe032 button.colab-df-convert');\n",
              "        buttonEl.style.display =\n",
              "          google.colab.kernel.accessAllowed ? 'block' : 'none';\n",
              "\n",
              "        async function convertToInteractive(key) {\n",
              "          const element = document.querySelector('#df-983c067a-03d0-4a4e-9205-4d13e88fe032');\n",
              "          const dataTable =\n",
              "            await google.colab.kernel.invokeFunction('convertToInteractive',\n",
              "                                                     [key], {});\n",
              "          if (!dataTable) return;\n",
              "\n",
              "          const docLinkHtml = 'Like what you see? Visit the ' +\n",
              "            '<a target=\"_blank\" href=https://colab.research.google.com/notebooks/data_table.ipynb>data table notebook</a>'\n",
              "            + ' to learn more about interactive tables.';\n",
              "          element.innerHTML = '';\n",
              "          dataTable['output_type'] = 'display_data';\n",
              "          await google.colab.output.renderOutput(dataTable, element);\n",
              "          const docLink = document.createElement('div');\n",
              "          docLink.innerHTML = docLinkHtml;\n",
              "          element.appendChild(docLink);\n",
              "        }\n",
              "      </script>\n",
              "    </div>\n",
              "  </div>\n",
              "  "
            ]
          },
          "metadata": {},
          "execution_count": 128
        }
      ]
    },
    {
      "cell_type": "code",
      "source": [
        "y_train"
      ],
      "metadata": {
        "colab": {
          "base_uri": "https://localhost:8080/"
        },
        "id": "XO6QxpnTzWSD",
        "outputId": "5adc629e-92cb-41fc-c866-77d6fa7ad3cd"
      },
      "execution_count": null,
      "outputs": [
        {
          "output_type": "execute_result",
          "data": {
            "text/plain": [
              "20969    0\n",
              "14393    0\n",
              "2480     0\n",
              "10614    0\n",
              "31047    0\n",
              "        ..\n",
              "45031    0\n",
              "24143    0\n",
              "23994    1\n",
              "1398     0\n",
              "12337    1\n",
              "Name: income_level, Length: 23932, dtype: int64"
            ]
          },
          "metadata": {},
          "execution_count": 100
        }
      ]
    },
    {
      "cell_type": "markdown",
      "source": [
        "### LogisticRegression"
      ],
      "metadata": {
        "id": "izAvx5-Xo_X0"
      }
    },
    {
      "cell_type": "code",
      "source": [
        "lr_base = LogisticRegression(random_state=42)\n",
        "lr_base.fit(X_ez, y_train)\n",
        "lr_base.score(X_ez,y_train)"
      ],
      "metadata": {
        "colab": {
          "base_uri": "https://localhost:8080/"
        },
        "id": "KnlvZuhyKvmd",
        "outputId": "3b4f6761-ed7a-40e2-f3f1-13cf4ac7516b"
      },
      "execution_count": null,
      "outputs": [
        {
          "output_type": "execute_result",
          "data": {
            "text/plain": [
              "0.8420106969747618"
            ]
          },
          "metadata": {},
          "execution_count": 40
        }
      ]
    },
    {
      "cell_type": "code",
      "source": [
        "print(lr_base.score(X_ez,y_train), f1_score(lr_base.predict(X_test),y_test))"
      ],
      "metadata": {
        "colab": {
          "base_uri": "https://localhost:8080/"
        },
        "id": "8rLeh3BrgieE",
        "outputId": "5895b109-f345-433f-8268-64fd923ac740"
      },
      "execution_count": null,
      "outputs": [
        {
          "output_type": "stream",
          "name": "stdout",
          "text": [
            "0.8420106969747618 0.6353954226150011\n"
          ]
        }
      ]
    },
    {
      "cell_type": "code",
      "source": [
        ""
      ],
      "metadata": {
        "id": "5_MqBbITh-P0"
      },
      "execution_count": null,
      "outputs": []
    },
    {
      "cell_type": "code",
      "source": [
        "param_grid_lr = {\n",
        "    'C': [0.001, 0.01, 0.1, 1, 10, 100, 1000],\n",
        "    'penalty': ['l1', 'l2'],\n",
        "    'solver': ['newton-cg', 'lbfgs', 'liblinear', 'sag', 'saga'],\n",
        "    'tol': [1e-4, 1e-3, 1e-5, 3e-4]\n",
        "}\n",
        "\n",
        "lr_model = LogisticRegression(random_state=42)\n",
        "grid = GridSearchCV(estimator = lr_model, param_grid = param_grid_lr, error_score=0.0,\n",
        "                    cv = 4, n_jobs = -1, verbose = 2)\n",
        "\n",
        "grid_result = grid.fit(X_ez, y_train)\n",
        "print(\"Best: %f using %s\" % (grid_result.best_score_, grid_result.best_params_))"
      ],
      "metadata": {
        "colab": {
          "base_uri": "https://localhost:8080/"
        },
        "id": "hqR8y_TSp1JU",
        "outputId": "4ad564c2-5b7c-4d71-990e-c924dbafeb99"
      },
      "execution_count": null,
      "outputs": [
        {
          "output_type": "stream",
          "name": "stdout",
          "text": [
            "Fitting 4 folds for each of 280 candidates, totalling 1120 fits\n",
            "Best: 0.842220 using {'C': 1, 'penalty': 'l2', 'solver': 'saga', 'tol': 0.001}\n"
          ]
        }
      ]
    },
    {
      "cell_type": "code",
      "source": [
        "lr_best = LogisticRegression(penalty = 'l2', solver = 'saga', C = 1, tol = 0.001, random_state=42, max_iter=1000)"
      ],
      "metadata": {
        "id": "D29M9SN3-S5p"
      },
      "execution_count": 149,
      "outputs": []
    },
    {
      "cell_type": "code",
      "source": [
        "lr_best.fit(X_ez, y_train)\n",
        "lr_best.score(X_ez,y_train)"
      ],
      "metadata": {
        "colab": {
          "base_uri": "https://localhost:8080/"
        },
        "id": "4GMfHaBhmH5W",
        "outputId": "d694bfb2-0133-4a85-e44c-e0a5d7c17e82"
      },
      "execution_count": 150,
      "outputs": [
        {
          "output_type": "execute_result",
          "data": {
            "text/plain": [
              "0.842136052147752"
            ]
          },
          "metadata": {},
          "execution_count": 150
        }
      ]
    },
    {
      "cell_type": "code",
      "source": [
        "lr_test_xd = LogisticRegression(penalty = 'l2', solver = 'saga', C = 1, tol = 0.001, random_state=1, max_iter=1000)\n",
        "lr_test_xd.fit(X_ez, y_train)\n",
        "lr_test_xd.score(X_ez,y_train)"
      ],
      "metadata": {
        "colab": {
          "base_uri": "https://localhost:8080/"
        },
        "id": "CT4J0ZBee5NK",
        "outputId": "65e21adc-c89e-495a-f23b-4fc0f67e006d"
      },
      "execution_count": null,
      "outputs": [
        {
          "output_type": "execute_result",
          "data": {
            "text/plain": [
              "0.842136052147752"
            ]
          },
          "metadata": {},
          "execution_count": 148
        }
      ]
    },
    {
      "cell_type": "code",
      "source": [
        "from sklearn.preprocessing import StandardScaler\n",
        "X_ez_scaler_applied = X_ez.copy()\n",
        "scaler = StandardScaler()\n",
        "X_ez_scaler_applied = scaler.fit_transform(X_ez_scaler_applied)"
      ],
      "metadata": {
        "id": "Jq2y7uz2WPWs"
      },
      "execution_count": null,
      "outputs": []
    },
    {
      "cell_type": "code",
      "source": [
        "lr_base2 = LogisticRegression(random_state=42)\n",
        "lr_base2.fit(X_ez_scaler_applied, y_train)\n",
        "lr_base2.score(X_ez_scaler_applied,y_train)"
      ],
      "metadata": {
        "colab": {
          "base_uri": "https://localhost:8080/"
        },
        "id": "uU1906VUW7k9",
        "outputId": "7837c4fd-2479-441c-f235-cb67c2f2822b"
      },
      "execution_count": null,
      "outputs": [
        {
          "output_type": "execute_result",
          "data": {
            "text/plain": [
              "0.8420942670900886"
            ]
          },
          "metadata": {},
          "execution_count": 142
        }
      ]
    },
    {
      "cell_type": "code",
      "source": [
        "lr_model2 = LogisticRegression(random_state=42)\n",
        "grid2 = GridSearchCV(estimator = lr_model, param_grid = param_grid_lr, error_score=0.0,\n",
        "                    cv = 4, n_jobs = -1, verbose = 2)\n",
        "\n",
        "grid_result2 = grid.fit(X_ez_scaler_applied, y_train)\n",
        "print(\"Best: %f using %s\" % (grid_result2.best_score_, grid_result2.best_params_))"
      ],
      "metadata": {
        "colab": {
          "base_uri": "https://localhost:8080/"
        },
        "id": "EhsExjU2XJ6u",
        "outputId": "297ac4c1-2d5c-406e-f25f-7a7c6b853048"
      },
      "execution_count": null,
      "outputs": [
        {
          "output_type": "stream",
          "name": "stdout",
          "text": [
            "Fitting 4 folds for each of 280 candidates, totalling 1120 fits\n",
            "Best: 0.842303 using {'C': 0.1, 'penalty': 'l2', 'solver': 'sag', 'tol': 0.001}\n"
          ]
        }
      ]
    },
    {
      "cell_type": "markdown",
      "source": [
        "### KNeighbours"
      ],
      "metadata": {
        "id": "3YTBVxzbym1C"
      }
    },
    {
      "cell_type": "code",
      "source": [
        "n_neighbors = [5, 7, 9, 11, 13, 15]\n",
        "weights = ['uniform', 'distance']\n",
        "metric = ['minkowski', 'euclidean', 'manhattan']\n",
        "param_grid = dict(n_neighbors = n_neighbors, weights = weights, metric = metric)\n",
        "\n",
        "knn_model = KNeighborsClassifier()\n",
        "grid = GridSearchCV(estimator = knn_model, param_grid = param_grid,\n",
        "                    cv = 3, n_jobs = -1, verbose = 2)\n",
        "\n",
        "grid_result = grid.fit(X_ez, y_train)\n",
        "print(\"Best: %f using %s\" % (grid_result.best_score_, grid_result.best_params_))"
      ],
      "metadata": {
        "id": "4qIK8rr8vAj2",
        "colab": {
          "base_uri": "https://localhost:8080/"
        },
        "outputId": "9286793d-f1ce-40f4-9e53-b5202aab716c"
      },
      "execution_count": null,
      "outputs": [
        {
          "output_type": "stream",
          "name": "stdout",
          "text": [
            "Fitting 3 folds for each of 36 candidates, totalling 108 fits\n",
            "Best: 0.837498 using {'metric': 'manhattan', 'n_neighbors': 15, 'weights': 'uniform'}\n"
          ]
        }
      ]
    },
    {
      "cell_type": "code",
      "source": [
        "kn_best = KNeighborsClassifier(metric = 'manhattan', n_neighbors = 15, weights = 'uniform')"
      ],
      "metadata": {
        "id": "th8VHxyZ-dz6"
      },
      "execution_count": null,
      "outputs": []
    },
    {
      "cell_type": "markdown",
      "source": [
        "### Random forest"
      ],
      "metadata": {
        "id": "Owbt1wFsyq7l"
      }
    },
    {
      "cell_type": "code",
      "source": [
        "param_grid = {\n",
        "    'criterion': ['gini', 'entropy'],\n",
        "    'max_depth': [80, 90, 100, 110],\n",
        "#    'max_features': [2, 3],\n",
        "    'min_samples_leaf': [3, 4, 5],\n",
        "    'min_samples_split': [8, 10, 12],\n",
        "    'n_estimators': [100, 200, 300, 1000]\n",
        "}\n",
        "rf = RandomForestClassifier()\n",
        "grid = GridSearchCV(estimator = rf, param_grid = param_grid, \n",
        "                          cv = 3, n_jobs = -1, verbose = 2)\n",
        "grid_result = grid.fit(X_ez, y_train)\n",
        "print(\"Best: %f using %s\" % (grid_result.best_score_, grid_result.best_params_))"
      ],
      "metadata": {
        "id": "gKKNxrqHwKHQ",
        "colab": {
          "base_uri": "https://localhost:8080/"
        },
        "outputId": "580a7352-839e-417f-adbb-8e516580eed8"
      },
      "execution_count": null,
      "outputs": [
        {
          "output_type": "stream",
          "name": "stdout",
          "text": [
            "Fitting 3 folds for each of 288 candidates, totalling 864 fits\n",
            "Best: 0.844392 using {'criterion': 'gini', 'max_depth': 80, 'min_samples_leaf': 5, 'min_samples_split': 8, 'n_estimators': 1000}\n"
          ]
        }
      ]
    },
    {
      "cell_type": "code",
      "source": [
        "rf_best = RandomForestClassifier(criterion = 'gini', max_depth = 80, min_samples_leaf = 5, min_samples_split = 8, n_estimators = 1000)"
      ],
      "metadata": {
        "id": "-3Q1rG2_-j-5"
      },
      "execution_count": null,
      "outputs": []
    },
    {
      "cell_type": "markdown",
      "source": [
        "### XGBoost"
      ],
      "metadata": {
        "id": "NDu0MBHP6t91"
      }
    },
    {
      "cell_type": "code",
      "source": [
        "! pip install xgboost\n",
        "import xgboost\n",
        "from xgboost import XGBClassifier"
      ],
      "metadata": {
        "colab": {
          "base_uri": "https://localhost:8080/"
        },
        "id": "F2pykw-T6x_c",
        "outputId": "fb7846f9-ee4c-4bdb-dcf0-a3311b024f91"
      },
      "execution_count": null,
      "outputs": [
        {
          "output_type": "stream",
          "name": "stdout",
          "text": [
            "Requirement already satisfied: xgboost in /usr/local/lib/python3.7/dist-packages (0.90)\n",
            "Requirement already satisfied: numpy in /usr/local/lib/python3.7/dist-packages (from xgboost) (1.21.6)\n",
            "Requirement already satisfied: scipy in /usr/local/lib/python3.7/dist-packages (from xgboost) (1.4.1)\n"
          ]
        }
      ]
    },
    {
      "cell_type": "code",
      "source": [
        "model=XGBClassifier()\n",
        "model.fit(X_ez, y_train)\n",
        "model.score(X_test,y_test)"
      ],
      "metadata": {
        "colab": {
          "base_uri": "https://localhost:8080/"
        },
        "id": "wEnp25X07Dh-",
        "outputId": "3b8a2e27-7c04-4e55-d42b-255c9aba1a91"
      },
      "execution_count": null,
      "outputs": [
        {
          "output_type": "execute_result",
          "data": {
            "text/plain": [
              "0.8479087452471483"
            ]
          },
          "metadata": {},
          "execution_count": 126
        }
      ]
    },
    {
      "cell_type": "code",
      "source": [
        "param_grid_xgboost = {\n",
        "    'max_depth': [8, 10, 12, 14, 16, 18, None],\n",
        "    'learning_rate': [0.03, 0.1, 0.3, 0.001],\n",
        "    'splitter': [\"best\", \"random\"],\n",
        "    'max_features': [\"auto\", None]\n",
        "}\n",
        "\n",
        "xgboost = XGBClassifier(random_state = 42)\n",
        "xgboost_grid = GridSearchCV(xgboost, param_grid_xgboost, cv = 2)\n",
        "result = xgboost_grid.fit(X_ez, y_train)"
      ],
      "metadata": {
        "colab": {
          "base_uri": "https://localhost:8080/"
        },
        "id": "lXG8ScCOFEe-",
        "outputId": "648d9c62-2e85-4908-d396-45f6633c8f0d"
      },
      "execution_count": null,
      "outputs": [
        {
          "output_type": "stream",
          "name": "stdout",
          "text": [
            "Best: 0.844392 using {'criterion': 'gini', 'max_depth': 80, 'min_samples_leaf': 5, 'min_samples_split': 8, 'n_estimators': 1000}\n"
          ]
        }
      ]
    },
    {
      "cell_type": "code",
      "source": [
        "print(\"Best: %f using %s\" % (result.best_score_, result.best_params_))"
      ],
      "metadata": {
        "colab": {
          "base_uri": "https://localhost:8080/"
        },
        "id": "U6NkuakwIEo_",
        "outputId": "88fbde22-9e77-43ca-da65-df14b3f6c762"
      },
      "execution_count": null,
      "outputs": [
        {
          "output_type": "stream",
          "name": "stdout",
          "text": [
            "Best: 0.842554 using {'learning_rate': 0.03, 'max_depth': 8, 'max_features': 'auto', 'splitter': 'best'}\n"
          ]
        }
      ]
    },
    {
      "cell_type": "code",
      "source": [
        "xgb_best = XGBClassifier(learning_rate = 0.03, max_depth = 8, max_features = 'auto', splitter = 'best')"
      ],
      "metadata": {
        "id": "PVuvtMYSFutD"
      },
      "execution_count": null,
      "outputs": []
    },
    {
      "cell_type": "markdown",
      "source": [
        "### Podsumowanie"
      ],
      "metadata": {
        "id": "8AzLWS4yYN9m"
      }
    },
    {
      "cell_type": "code",
      "source": [
        "test_results = []\n",
        "for model, model_name in [(lr_best, \"LogisticRegression\"), (rf_best, \"RandomForest\"), (kn_best, \"KNeighbors\"), (xgb_best, \"XGBoost\")]:\n",
        "    model.fit(X_ez, y_train)\n",
        "    y_pred = model.predict(X_test)\n",
        "    measures_results = {\"model\": model_name}\n",
        "    for measure in [accuracy_score, f1_score, roc_auc_score]:\n",
        "        measures_results[measure.__name__] = measure(y_test, y_pred)\n",
        "    test_results.append(measures_results)\n",
        "    \n",
        "test_results_df = pd.DataFrame(test_results)"
      ],
      "metadata": {
        "id": "6Ig9I_spYQeq"
      },
      "execution_count": null,
      "outputs": []
    },
    {
      "cell_type": "code",
      "source": [
        "test_results_df = pd.melt(test_results_df, id_vars=\"model\", var_name=\"measure\", value_name=\"value\")\n",
        "sns.catplot(x='measure', y='value', hue='model', data=test_results_df, kind='bar', aspect=2)\n",
        "plt.show()"
      ],
      "metadata": {
        "colab": {
          "base_uri": "https://localhost:8080/",
          "height": 369
        },
        "id": "bvy_IHyRYsBf",
        "outputId": "b224b201-d2fd-4eae-f068-43eae1c8c5f9"
      },
      "execution_count": null,
      "outputs": [
        {
          "output_type": "display_data",
          "data": {
            "text/plain": [
              "<Figure size 848.75x360 with 1 Axes>"
            ],
            "image/png": "[encoded data removed]"
          },
          "metadata": {
            "needs_background": "light"
          }
        }
      ]
    },
    {
      "cell_type": "code",
      "source": [
        "sns.catplot(x='measure', y='value', hue='model', data=test_results_df, kind='bar', aspect=2)\n",
        "plt.ylim(0.60, 0.9)\n",
        "plt.show()"
      ],
      "metadata": {
        "colab": {
          "base_uri": "https://localhost:8080/",
          "height": 373
        },
        "id": "6fBAUQqfY4t4",
        "outputId": "7d89082b-10be-4324-f1fe-e9c01c5fc411"
      },
      "execution_count": null,
      "outputs": [
        {
          "output_type": "display_data",
          "data": {
            "text/plain": [
              "<Figure size 848.75x360 with 1 Axes>"
            ],
            "image/png": "[encoded data removed]"
          },
          "metadata": {
            "needs_background": "light"
          }
        }
      ]
    }
  ]
}