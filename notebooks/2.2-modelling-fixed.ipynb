{
  "nbformat": 4,
  "nbformat_minor": 0,
  "metadata": {
    "colab": {
      "name": "ProjektEz2.ipynb",
      "provenance": [],
      "collapsed_sections": [
        "H89KBQWJbLzK",
        "fBOON35ubgFG"
      ]
    },
    "kernelspec": {
      "name": "python3",
      "display_name": "Python 3"
    },
    "language_info": {
      "name": "python"
    }
  },
  "cells": [
    {
      "cell_type": "markdown",
      "source": [
        "# TEST PROJEKT1\n"
      ],
      "metadata": {
        "id": "GYPmb6M_bHei"
      }
    },
    {
      "cell_type": "markdown",
      "source": [
        "## Dane i importy"
      ],
      "metadata": {
        "id": "H89KBQWJbLzK"
      }
    },
    {
      "cell_type": "code",
      "source": [
        "import pandas as pd\n",
        "import numpy as np\n",
        "import matplotlib.pyplot as plt\n",
        "import warnings\n",
        "import seaborn as sns\n",
        "warnings.filterwarnings('ignore')"
      ],
      "metadata": {
        "id": "YHelDIF4bQej"
      },
      "execution_count": 1,
      "outputs": []
    },
    {
      "cell_type": "code",
      "source": [
        "! pip install category_encoders"
      ],
      "metadata": {
        "colab": {
          "base_uri": "https://localhost:8080/"
        },
        "id": "eDsKxvODiqLR",
        "outputId": "4d6ef1a6-2d29-4c0b-9e7a-53f00d150f97"
      },
      "execution_count": 2,
      "outputs": [
        {
          "output_type": "stream",
          "name": "stdout",
          "text": [
            "Collecting category_encoders\n",
            "  Downloading category_encoders-2.4.0-py2.py3-none-any.whl (86 kB)\n",
            "\u001b[?25l\r\u001b[K     |███▉                            | 10 kB 25.8 MB/s eta 0:00:01\r\u001b[K     |███████▋                        | 20 kB 9.4 MB/s eta 0:00:01\r\u001b[K     |███████████▍                    | 30 kB 8.0 MB/s eta 0:00:01\r\u001b[K     |███████████████▏                | 40 kB 3.6 MB/s eta 0:00:01\r\u001b[K     |███████████████████             | 51 kB 3.7 MB/s eta 0:00:01\r\u001b[K     |██████████████████████▊         | 61 kB 4.3 MB/s eta 0:00:01\r\u001b[K     |██████████████████████████▌     | 71 kB 4.5 MB/s eta 0:00:01\r\u001b[K     |██████████████████████████████▎ | 81 kB 4.8 MB/s eta 0:00:01\r\u001b[K     |████████████████████████████████| 86 kB 3.1 MB/s \n",
            "\u001b[?25hRequirement already satisfied: pandas>=0.21.1 in /usr/local/lib/python3.7/dist-packages (from category_encoders) (1.3.5)\n",
            "Requirement already satisfied: scipy>=1.0.0 in /usr/local/lib/python3.7/dist-packages (from category_encoders) (1.4.1)\n",
            "Requirement already satisfied: patsy>=0.5.1 in /usr/local/lib/python3.7/dist-packages (from category_encoders) (0.5.2)\n",
            "Requirement already satisfied: scikit-learn>=0.20.0 in /usr/local/lib/python3.7/dist-packages (from category_encoders) (1.0.2)\n",
            "Requirement already satisfied: numpy>=1.14.0 in /usr/local/lib/python3.7/dist-packages (from category_encoders) (1.21.6)\n",
            "Requirement already satisfied: statsmodels>=0.9.0 in /usr/local/lib/python3.7/dist-packages (from category_encoders) (0.10.2)\n",
            "Requirement already satisfied: pytz>=2017.3 in /usr/local/lib/python3.7/dist-packages (from pandas>=0.21.1->category_encoders) (2022.1)\n",
            "Requirement already satisfied: python-dateutil>=2.7.3 in /usr/local/lib/python3.7/dist-packages (from pandas>=0.21.1->category_encoders) (2.8.2)\n",
            "Requirement already satisfied: six in /usr/local/lib/python3.7/dist-packages (from patsy>=0.5.1->category_encoders) (1.15.0)\n",
            "Requirement already satisfied: joblib>=0.11 in /usr/local/lib/python3.7/dist-packages (from scikit-learn>=0.20.0->category_encoders) (1.1.0)\n",
            "Requirement already satisfied: threadpoolctl>=2.0.0 in /usr/local/lib/python3.7/dist-packages (from scikit-learn>=0.20.0->category_encoders) (3.1.0)\n",
            "Installing collected packages: category-encoders\n",
            "Successfully installed category-encoders-2.4.0\n"
          ]
        }
      ]
    },
    {
      "cell_type": "code",
      "source": [
        "import category_encoders as ce"
      ],
      "metadata": {
        "id": "Vvy4ifTkitvp"
      },
      "execution_count": 3,
      "outputs": []
    },
    {
      "cell_type": "code",
      "source": [
        "from sklearn.model_selection import train_test_split"
      ],
      "metadata": {
        "id": "5yTnPe0uDPDt"
      },
      "execution_count": 4,
      "outputs": []
    },
    {
      "cell_type": "code",
      "source": [
        "!wget https://lovespreadsheet-tutorials.s3.amazonaws.com/APIDatasets/census_income_dataset.csv\n",
        "df_raw = pd.read_csv('census_income_dataset.csv')"
      ],
      "metadata": {
        "colab": {
          "base_uri": "https://localhost:8080/"
        },
        "id": "u9VWDmwNbRr6",
        "outputId": "d9bdf265-5ca0-4fba-a7ad-7133a8a7daca"
      },
      "execution_count": 5,
      "outputs": [
        {
          "output_type": "stream",
          "name": "stdout",
          "text": [
            "--2022-04-21 22:03:45--  https://lovespreadsheet-tutorials.s3.amazonaws.com/APIDatasets/census_income_dataset.csv\n",
            "Resolving lovespreadsheet-tutorials.s3.amazonaws.com (lovespreadsheet-tutorials.s3.amazonaws.com)... 52.217.101.252\n",
            "Connecting to lovespreadsheet-tutorials.s3.amazonaws.com (lovespreadsheet-tutorials.s3.amazonaws.com)|52.217.101.252|:443... connected.\n",
            "HTTP request sent, awaiting response... 200 OK\n",
            "Length: 5717107 (5.5M) [text/csv]\n",
            "Saving to: ‘census_income_dataset.csv’\n",
            "\n",
            "census_income_datas 100%[===================>]   5.45M  3.74MB/s    in 1.5s    \n",
            "\n",
            "2022-04-21 22:03:47 (3.74 MB/s) - ‘census_income_dataset.csv’ saved [5717107/5717107]\n",
            "\n"
          ]
        }
      ]
    },
    {
      "cell_type": "code",
      "source": [
        "y = df_raw['income_level']\n",
        "del df_raw['income_level']"
      ],
      "metadata": {
        "id": "7foe1VcVDyvP"
      },
      "execution_count": 6,
      "outputs": []
    },
    {
      "cell_type": "code",
      "source": [
        "X_build, X_val, y_build, y_val = train_test_split(df_raw, y, test_size=0.2, random_state=500, stratify=y)"
      ],
      "metadata": {
        "id": "sS8raJSEDiBN"
      },
      "execution_count": 7,
      "outputs": []
    },
    {
      "cell_type": "code",
      "source": [
        "X_train, X_test, y_train, y_test = train_test_split(X_build, y_build, test_size=0.2, random_state=500, stratify=y_build)"
      ],
      "metadata": {
        "id": "IkcjlO5QENiZ"
      },
      "execution_count": 8,
      "outputs": []
    },
    {
      "cell_type": "markdown",
      "source": [
        "Teraz mamy df do trainu i df_test do testowania"
      ],
      "metadata": {
        "id": "wszz2BaZbYra"
      }
    },
    {
      "cell_type": "markdown",
      "source": [
        "## Preprocessing"
      ],
      "metadata": {
        "id": "8llLtn1mxhMq"
      }
    },
    {
      "cell_type": "code",
      "source": [
        "woeEncoder = ce.WOEEncoder()"
      ],
      "metadata": {
        "id": "3SaLONjf-80L"
      },
      "execution_count": 9,
      "outputs": []
    },
    {
      "cell_type": "code",
      "source": [
        "y_train = y_train.apply(lambda x: 1 if x=='>50K' else 0)"
      ],
      "metadata": {
        "id": "9OohpE_Sm8G8"
      },
      "execution_count": 10,
      "outputs": []
    },
    {
      "cell_type": "code",
      "source": [
        "X_train['age'],bins = pd.qcut(X_train['age'], q = 10, labels=False, retbins=True)\n",
        "X_train = X_train.astype({\"age\": str})\n",
        "del X_train['education_num']\n",
        "del X_train['fnlwgt']\n",
        "X_train['capital_gain']=X_train['capital_gain'].apply(lambda x: \"1\" if x>0 else \"2\" )\n",
        "X_train['capital_loss']=X_train['capital_loss'].apply(lambda x: \"1\" if x>0 else \"2\")\n",
        "X_train['hours_per_week']=X_train['hours_per_week'].apply(lambda x: \"1\" if x>40 else (\"2\" if x==40 else \"3\"))\n",
        "#del X_train['income_level']"
      ],
      "metadata": {
        "id": "DwLSUc0E5Pd9"
      },
      "execution_count": 11,
      "outputs": []
    },
    {
      "cell_type": "code",
      "source": [
        "y_test = y_test.apply(lambda x: 1 if x=='>50K' else 0)"
      ],
      "metadata": {
        "id": "Mc9zVWEUBMYh"
      },
      "execution_count": 12,
      "outputs": []
    },
    {
      "cell_type": "code",
      "source": [
        "bins"
      ],
      "metadata": {
        "colab": {
          "base_uri": "https://localhost:8080/"
        },
        "id": "I8JSVbA-ET7K",
        "outputId": "a63166b6-2b07-42e3-cf7c-e3c41eea9d18"
      },
      "execution_count": 13,
      "outputs": [
        {
          "output_type": "execute_result",
          "data": {
            "text/plain": [
              "array([17., 22., 26., 30., 33., 37., 41., 45., 51., 58., 90.])"
            ]
          },
          "metadata": {},
          "execution_count": 13
        }
      ]
    },
    {
      "cell_type": "code",
      "source": [
        "X_test['age'] = pd.cut(X_test['age'], bins=[0., 22., 26., 30., 33., 37., 41., 46., 51., 58., 100.], labels=False,)\n",
        "X_test = X_test.astype({\"age\": str})\n",
        "del X_test['education_num']\n",
        "del X_test['fnlwgt']\n",
        "X_test['capital_gain']=X_test['capital_gain'].apply(lambda x: \"1\" if x>0 else \"2\" )\n",
        "X_test['capital_loss']=X_test['capital_loss'].apply(lambda x: \"1\" if x>0 else \"2\")\n",
        "X_test['hours_per_week']=X_test['hours_per_week'].apply(lambda x: \"1\" if x>40 else (\"2\" if x==40 else \"3\"))\n",
        "#del X_test['income_level']"
      ],
      "metadata": {
        "id": "QafsJwN3ApNq"
      },
      "execution_count": 14,
      "outputs": []
    },
    {
      "cell_type": "code",
      "source": [
        "X_ez = woeEncoder.fit_transform(X_train, y_train)"
      ],
      "metadata": {
        "id": "CZXCGpp60P_w"
      },
      "execution_count": 15,
      "outputs": []
    },
    {
      "cell_type": "markdown",
      "source": [
        "ZLaczenie bliskich WOE i znowu WOE"
      ],
      "metadata": {
        "id": "v3msk65EyFvc"
      }
    },
    {
      "cell_type": "code",
      "source": [
        "for col in X_ez.columns:\n",
        "  X_ez[col] = round(X_ez[col],2)\n",
        "  X_ez = X_ez.astype({col: str})"
      ],
      "metadata": {
        "id": "XjVW0dz1tP3C"
      },
      "execution_count": 16,
      "outputs": []
    },
    {
      "cell_type": "code",
      "source": [
        "woeEncoder = ce.WOEEncoder()\n",
        "X_ez = woeEncoder.fit_transform(X_ez, y_train)"
      ],
      "metadata": {
        "id": "CN5o5aXXtj78"
      },
      "execution_count": 17,
      "outputs": []
    },
    {
      "cell_type": "markdown",
      "source": [
        "Zakodowanie przy pomocy dictionaries"
      ],
      "metadata": {
        "id": "g7axWjuQpq0I"
      }
    },
    {
      "cell_type": "code",
      "source": [
        "for col in X_test.columns:\n",
        "  X_test[col] = X_test[col].map(dict(zip(X_train[col],X_ez[col])))\n"
      ],
      "metadata": {
        "id": "pMGOfnzBBmuI"
      },
      "execution_count": 18,
      "outputs": []
    },
    {
      "cell_type": "code",
      "source": [
        "X_train.nunique()"
      ],
      "metadata": {
        "id": "N-kOkidqDm36",
        "colab": {
          "base_uri": "https://localhost:8080/"
        },
        "outputId": "3010af1e-5e15-4078-8adb-8f11a403060a"
      },
      "execution_count": 19,
      "outputs": [
        {
          "output_type": "execute_result",
          "data": {
            "text/plain": [
              "age               10\n",
              "workclass          9\n",
              "education         16\n",
              "marital_status     7\n",
              "occupation        15\n",
              "relationship       6\n",
              "race               5\n",
              "sex                2\n",
              "capital_gain       2\n",
              "capital_loss       2\n",
              "hours_per_week     3\n",
              "native_country    42\n",
              "dtype: int64"
            ]
          },
          "metadata": {},
          "execution_count": 19
        }
      ]
    },
    {
      "cell_type": "code",
      "source": [
        "X_train.nunique()"
      ],
      "metadata": {
        "id": "VshSL2JlzYuG",
        "colab": {
          "base_uri": "https://localhost:8080/"
        },
        "outputId": "9000baef-7cc3-46bd-c632-9dcfdc527414"
      },
      "execution_count": 20,
      "outputs": [
        {
          "output_type": "execute_result",
          "data": {
            "text/plain": [
              "age               10\n",
              "workclass          9\n",
              "education         16\n",
              "marital_status     7\n",
              "occupation        15\n",
              "relationship       6\n",
              "race               5\n",
              "sex                2\n",
              "capital_gain       2\n",
              "capital_loss       2\n",
              "hours_per_week     3\n",
              "native_country    42\n",
              "dtype: int64"
            ]
          },
          "metadata": {},
          "execution_count": 20
        }
      ]
    },
    {
      "cell_type": "code",
      "source": [
        "X_train.head()"
      ],
      "metadata": {
        "id": "VczNvpY1zuKW",
        "colab": {
          "base_uri": "https://localhost:8080/",
          "height": 340
        },
        "outputId": "534446de-54fa-477d-fead-1b66a22c426e"
      },
      "execution_count": 21,
      "outputs": [
        {
          "output_type": "execute_result",
          "data": {
            "text/plain": [
              "      age  workclass     education      marital_status         occupation  \\\n",
              "33927   2    Private  Some-college  Married-civ-spouse       Adm-clerical   \n",
              "11872   4    Private       HS-grad           Separated       Adm-clerical   \n",
              "34269   6  State-gov     Assoc-voc  Married-civ-spouse    Protective-serv   \n",
              "29168   5    Private       HS-grad  Married-civ-spouse       Craft-repair   \n",
              "7987    2    Private  Some-college       Never-married  Machine-op-inspct   \n",
              "\n",
              "        relationship   race     sex capital_gain capital_loss hours_per_week  \\\n",
              "33927      Own-child  White    Male            2            2              2   \n",
              "11872      Unmarried  White  Female            1            2              3   \n",
              "34269        Husband  White    Male            2            2              1   \n",
              "29168        Husband  White    Male            2            2              2   \n",
              "7987   Not-in-family  White    Male            2            2              2   \n",
              "\n",
              "      native_country  \n",
              "33927  United-States  \n",
              "11872  United-States  \n",
              "34269  United-States  \n",
              "29168  United-States  \n",
              "7987   United-States  "
            ],
            "text/html": [
              "\n",
              "  <div id=\"df-b03a891f-1394-48e0-8397-b637ae91172b\">\n",
              "    <div class=\"colab-df-container\">\n",
              "      <div>\n",
              "<style scoped>\n",
              "    .dataframe tbody tr th:only-of-type {\n",
              "        vertical-align: middle;\n",
              "    }\n",
              "\n",
              "    .dataframe tbody tr th {\n",
              "        vertical-align: top;\n",
              "    }\n",
              "\n",
              "    .dataframe thead th {\n",
              "        text-align: right;\n",
              "    }\n",
              "</style>\n",
              "<table border=\"1\" class=\"dataframe\">\n",
              "  <thead>\n",
              "    <tr style=\"text-align: right;\">\n",
              "      <th></th>\n",
              "      <th>age</th>\n",
              "      <th>workclass</th>\n",
              "      <th>education</th>\n",
              "      <th>marital_status</th>\n",
              "      <th>occupation</th>\n",
              "      <th>relationship</th>\n",
              "      <th>race</th>\n",
              "      <th>sex</th>\n",
              "      <th>capital_gain</th>\n",
              "      <th>capital_loss</th>\n",
              "      <th>hours_per_week</th>\n",
              "      <th>native_country</th>\n",
              "    </tr>\n",
              "  </thead>\n",
              "  <tbody>\n",
              "    <tr>\n",
              "      <th>33927</th>\n",
              "      <td>2</td>\n",
              "      <td>Private</td>\n",
              "      <td>Some-college</td>\n",
              "      <td>Married-civ-spouse</td>\n",
              "      <td>Adm-clerical</td>\n",
              "      <td>Own-child</td>\n",
              "      <td>White</td>\n",
              "      <td>Male</td>\n",
              "      <td>2</td>\n",
              "      <td>2</td>\n",
              "      <td>2</td>\n",
              "      <td>United-States</td>\n",
              "    </tr>\n",
              "    <tr>\n",
              "      <th>11872</th>\n",
              "      <td>4</td>\n",
              "      <td>Private</td>\n",
              "      <td>HS-grad</td>\n",
              "      <td>Separated</td>\n",
              "      <td>Adm-clerical</td>\n",
              "      <td>Unmarried</td>\n",
              "      <td>White</td>\n",
              "      <td>Female</td>\n",
              "      <td>1</td>\n",
              "      <td>2</td>\n",
              "      <td>3</td>\n",
              "      <td>United-States</td>\n",
              "    </tr>\n",
              "    <tr>\n",
              "      <th>34269</th>\n",
              "      <td>6</td>\n",
              "      <td>State-gov</td>\n",
              "      <td>Assoc-voc</td>\n",
              "      <td>Married-civ-spouse</td>\n",
              "      <td>Protective-serv</td>\n",
              "      <td>Husband</td>\n",
              "      <td>White</td>\n",
              "      <td>Male</td>\n",
              "      <td>2</td>\n",
              "      <td>2</td>\n",
              "      <td>1</td>\n",
              "      <td>United-States</td>\n",
              "    </tr>\n",
              "    <tr>\n",
              "      <th>29168</th>\n",
              "      <td>5</td>\n",
              "      <td>Private</td>\n",
              "      <td>HS-grad</td>\n",
              "      <td>Married-civ-spouse</td>\n",
              "      <td>Craft-repair</td>\n",
              "      <td>Husband</td>\n",
              "      <td>White</td>\n",
              "      <td>Male</td>\n",
              "      <td>2</td>\n",
              "      <td>2</td>\n",
              "      <td>2</td>\n",
              "      <td>United-States</td>\n",
              "    </tr>\n",
              "    <tr>\n",
              "      <th>7987</th>\n",
              "      <td>2</td>\n",
              "      <td>Private</td>\n",
              "      <td>Some-college</td>\n",
              "      <td>Never-married</td>\n",
              "      <td>Machine-op-inspct</td>\n",
              "      <td>Not-in-family</td>\n",
              "      <td>White</td>\n",
              "      <td>Male</td>\n",
              "      <td>2</td>\n",
              "      <td>2</td>\n",
              "      <td>2</td>\n",
              "      <td>United-States</td>\n",
              "    </tr>\n",
              "  </tbody>\n",
              "</table>\n",
              "</div>\n",
              "      <button class=\"colab-df-convert\" onclick=\"convertToInteractive('df-b03a891f-1394-48e0-8397-b637ae91172b')\"\n",
              "              title=\"Convert this dataframe to an interactive table.\"\n",
              "              style=\"display:none;\">\n",
              "        \n",
              "  <svg xmlns=\"http://www.w3.org/2000/svg\" height=\"24px\"viewBox=\"0 0 24 24\"\n",
              "       width=\"24px\">\n",
              "    <path d=\"M0 0h24v24H0V0z\" fill=\"none\"/>\n",
              "    <path d=\"M18.56 5.44l.94 2.06.94-2.06 2.06-.94-2.06-.94-.94-2.06-.94 2.06-2.06.94zm-11 1L8.5 8.5l.94-2.06 2.06-.94-2.06-.94L8.5 2.5l-.94 2.06-2.06.94zm10 10l.94 2.06.94-2.06 2.06-.94-2.06-.94-.94-2.06-.94 2.06-2.06.94z\"/><path d=\"M17.41 7.96l-1.37-1.37c-.4-.4-.92-.59-1.43-.59-.52 0-1.04.2-1.43.59L10.3 9.45l-7.72 7.72c-.78.78-.78 2.05 0 2.83L4 21.41c.39.39.9.59 1.41.59.51 0 1.02-.2 1.41-.59l7.78-7.78 2.81-2.81c.8-.78.8-2.07 0-2.86zM5.41 20L4 18.59l7.72-7.72 1.47 1.35L5.41 20z\"/>\n",
              "  </svg>\n",
              "      </button>\n",
              "      \n",
              "  <style>\n",
              "    .colab-df-container {\n",
              "      display:flex;\n",
              "      flex-wrap:wrap;\n",
              "      gap: 12px;\n",
              "    }\n",
              "\n",
              "    .colab-df-convert {\n",
              "      background-color: #E8F0FE;\n",
              "      border: none;\n",
              "      border-radius: 50%;\n",
              "      cursor: pointer;\n",
              "      display: none;\n",
              "      fill: #1967D2;\n",
              "      height: 32px;\n",
              "      padding: 0 0 0 0;\n",
              "      width: 32px;\n",
              "    }\n",
              "\n",
              "    .colab-df-convert:hover {\n",
              "      background-color: #E2EBFA;\n",
              "      box-shadow: 0px 1px 2px rgba(60, 64, 67, 0.3), 0px 1px 3px 1px rgba(60, 64, 67, 0.15);\n",
              "      fill: #174EA6;\n",
              "    }\n",
              "\n",
              "    [theme=dark] .colab-df-convert {\n",
              "      background-color: #3B4455;\n",
              "      fill: #D2E3FC;\n",
              "    }\n",
              "\n",
              "    [theme=dark] .colab-df-convert:hover {\n",
              "      background-color: #434B5C;\n",
              "      box-shadow: 0px 1px 3px 1px rgba(0, 0, 0, 0.15);\n",
              "      filter: drop-shadow(0px 1px 2px rgba(0, 0, 0, 0.3));\n",
              "      fill: #FFFFFF;\n",
              "    }\n",
              "  </style>\n",
              "\n",
              "      <script>\n",
              "        const buttonEl =\n",
              "          document.querySelector('#df-b03a891f-1394-48e0-8397-b637ae91172b button.colab-df-convert');\n",
              "        buttonEl.style.display =\n",
              "          google.colab.kernel.accessAllowed ? 'block' : 'none';\n",
              "\n",
              "        async function convertToInteractive(key) {\n",
              "          const element = document.querySelector('#df-b03a891f-1394-48e0-8397-b637ae91172b');\n",
              "          const dataTable =\n",
              "            await google.colab.kernel.invokeFunction('convertToInteractive',\n",
              "                                                     [key], {});\n",
              "          if (!dataTable) return;\n",
              "\n",
              "          const docLinkHtml = 'Like what you see? Visit the ' +\n",
              "            '<a target=\"_blank\" href=https://colab.research.google.com/notebooks/data_table.ipynb>data table notebook</a>'\n",
              "            + ' to learn more about interactive tables.';\n",
              "          element.innerHTML = '';\n",
              "          dataTable['output_type'] = 'display_data';\n",
              "          await google.colab.output.renderOutput(dataTable, element);\n",
              "          const docLink = document.createElement('div');\n",
              "          docLink.innerHTML = docLinkHtml;\n",
              "          element.appendChild(docLink);\n",
              "        }\n",
              "      </script>\n",
              "    </div>\n",
              "  </div>\n",
              "  "
            ]
          },
          "metadata": {},
          "execution_count": 21
        }
      ]
    },
    {
      "cell_type": "code",
      "source": [
        "X_ez.head()"
      ],
      "metadata": {
        "id": "usZlwvrI0mkX",
        "colab": {
          "base_uri": "https://localhost:8080/",
          "height": 270
        },
        "outputId": "a479c079-34d5-4c62-8aae-4ddd1c3bd60b"
      },
      "execution_count": 22,
      "outputs": [
        {
          "output_type": "execute_result",
          "data": {
            "text/plain": [
              "            age  workclass  education  marital_status  occupation  \\\n",
              "33927 -0.586708  -0.122944  -0.275818        0.938695   -0.644110   \n",
              "11872  0.302531  -0.122944  -0.515200       -1.399724   -0.644110   \n",
              "34269  0.591473   0.248227   0.079427        0.938695    0.359995   \n",
              "29168  0.483320  -0.122944  -0.515200        0.938695   -0.080783   \n",
              "7987  -0.586708  -0.122944  -0.275818       -1.852886   -0.841575   \n",
              "\n",
              "       relationship     race       sex  capital_gain  capital_loss  \\\n",
              "33927     -3.074009  0.07633  0.327258     -0.196463     -0.072022   \n",
              "11872     -1.584320  0.07633 -0.930171      1.631315     -0.072022   \n",
              "34269      0.946833  0.07633  0.327258     -0.196463     -0.072022   \n",
              "29168      0.946833  0.07633  0.327258     -0.196463     -0.072022   \n",
              "7987      -1.003472  0.07633  0.327258     -0.196463     -0.072022   \n",
              "\n",
              "       hours_per_week  native_country  \n",
              "33927       -0.148115        0.020452  \n",
              "11872       -1.114427        0.020452  \n",
              "34269        0.755635        0.020452  \n",
              "29168       -0.148115        0.020452  \n",
              "7987        -0.148115        0.020452  "
            ],
            "text/html": [
              "\n",
              "  <div id=\"df-3d28ffa0-759e-4bef-883e-f7df06e358d8\">\n",
              "    <div class=\"colab-df-container\">\n",
              "      <div>\n",
              "<style scoped>\n",
              "    .dataframe tbody tr th:only-of-type {\n",
              "        vertical-align: middle;\n",
              "    }\n",
              "\n",
              "    .dataframe tbody tr th {\n",
              "        vertical-align: top;\n",
              "    }\n",
              "\n",
              "    .dataframe thead th {\n",
              "        text-align: right;\n",
              "    }\n",
              "</style>\n",
              "<table border=\"1\" class=\"dataframe\">\n",
              "  <thead>\n",
              "    <tr style=\"text-align: right;\">\n",
              "      <th></th>\n",
              "      <th>age</th>\n",
              "      <th>workclass</th>\n",
              "      <th>education</th>\n",
              "      <th>marital_status</th>\n",
              "      <th>occupation</th>\n",
              "      <th>relationship</th>\n",
              "      <th>race</th>\n",
              "      <th>sex</th>\n",
              "      <th>capital_gain</th>\n",
              "      <th>capital_loss</th>\n",
              "      <th>hours_per_week</th>\n",
              "      <th>native_country</th>\n",
              "    </tr>\n",
              "  </thead>\n",
              "  <tbody>\n",
              "    <tr>\n",
              "      <th>33927</th>\n",
              "      <td>-0.586708</td>\n",
              "      <td>-0.122944</td>\n",
              "      <td>-0.275818</td>\n",
              "      <td>0.938695</td>\n",
              "      <td>-0.644110</td>\n",
              "      <td>-3.074009</td>\n",
              "      <td>0.07633</td>\n",
              "      <td>0.327258</td>\n",
              "      <td>-0.196463</td>\n",
              "      <td>-0.072022</td>\n",
              "      <td>-0.148115</td>\n",
              "      <td>0.020452</td>\n",
              "    </tr>\n",
              "    <tr>\n",
              "      <th>11872</th>\n",
              "      <td>0.302531</td>\n",
              "      <td>-0.122944</td>\n",
              "      <td>-0.515200</td>\n",
              "      <td>-1.399724</td>\n",
              "      <td>-0.644110</td>\n",
              "      <td>-1.584320</td>\n",
              "      <td>0.07633</td>\n",
              "      <td>-0.930171</td>\n",
              "      <td>1.631315</td>\n",
              "      <td>-0.072022</td>\n",
              "      <td>-1.114427</td>\n",
              "      <td>0.020452</td>\n",
              "    </tr>\n",
              "    <tr>\n",
              "      <th>34269</th>\n",
              "      <td>0.591473</td>\n",
              "      <td>0.248227</td>\n",
              "      <td>0.079427</td>\n",
              "      <td>0.938695</td>\n",
              "      <td>0.359995</td>\n",
              "      <td>0.946833</td>\n",
              "      <td>0.07633</td>\n",
              "      <td>0.327258</td>\n",
              "      <td>-0.196463</td>\n",
              "      <td>-0.072022</td>\n",
              "      <td>0.755635</td>\n",
              "      <td>0.020452</td>\n",
              "    </tr>\n",
              "    <tr>\n",
              "      <th>29168</th>\n",
              "      <td>0.483320</td>\n",
              "      <td>-0.122944</td>\n",
              "      <td>-0.515200</td>\n",
              "      <td>0.938695</td>\n",
              "      <td>-0.080783</td>\n",
              "      <td>0.946833</td>\n",
              "      <td>0.07633</td>\n",
              "      <td>0.327258</td>\n",
              "      <td>-0.196463</td>\n",
              "      <td>-0.072022</td>\n",
              "      <td>-0.148115</td>\n",
              "      <td>0.020452</td>\n",
              "    </tr>\n",
              "    <tr>\n",
              "      <th>7987</th>\n",
              "      <td>-0.586708</td>\n",
              "      <td>-0.122944</td>\n",
              "      <td>-0.275818</td>\n",
              "      <td>-1.852886</td>\n",
              "      <td>-0.841575</td>\n",
              "      <td>-1.003472</td>\n",
              "      <td>0.07633</td>\n",
              "      <td>0.327258</td>\n",
              "      <td>-0.196463</td>\n",
              "      <td>-0.072022</td>\n",
              "      <td>-0.148115</td>\n",
              "      <td>0.020452</td>\n",
              "    </tr>\n",
              "  </tbody>\n",
              "</table>\n",
              "</div>\n",
              "      <button class=\"colab-df-convert\" onclick=\"convertToInteractive('df-3d28ffa0-759e-4bef-883e-f7df06e358d8')\"\n",
              "              title=\"Convert this dataframe to an interactive table.\"\n",
              "              style=\"display:none;\">\n",
              "        \n",
              "  <svg xmlns=\"http://www.w3.org/2000/svg\" height=\"24px\"viewBox=\"0 0 24 24\"\n",
              "       width=\"24px\">\n",
              "    <path d=\"M0 0h24v24H0V0z\" fill=\"none\"/>\n",
              "    <path d=\"M18.56 5.44l.94 2.06.94-2.06 2.06-.94-2.06-.94-.94-2.06-.94 2.06-2.06.94zm-11 1L8.5 8.5l.94-2.06 2.06-.94-2.06-.94L8.5 2.5l-.94 2.06-2.06.94zm10 10l.94 2.06.94-2.06 2.06-.94-2.06-.94-.94-2.06-.94 2.06-2.06.94z\"/><path d=\"M17.41 7.96l-1.37-1.37c-.4-.4-.92-.59-1.43-.59-.52 0-1.04.2-1.43.59L10.3 9.45l-7.72 7.72c-.78.78-.78 2.05 0 2.83L4 21.41c.39.39.9.59 1.41.59.51 0 1.02-.2 1.41-.59l7.78-7.78 2.81-2.81c.8-.78.8-2.07 0-2.86zM5.41 20L4 18.59l7.72-7.72 1.47 1.35L5.41 20z\"/>\n",
              "  </svg>\n",
              "      </button>\n",
              "      \n",
              "  <style>\n",
              "    .colab-df-container {\n",
              "      display:flex;\n",
              "      flex-wrap:wrap;\n",
              "      gap: 12px;\n",
              "    }\n",
              "\n",
              "    .colab-df-convert {\n",
              "      background-color: #E8F0FE;\n",
              "      border: none;\n",
              "      border-radius: 50%;\n",
              "      cursor: pointer;\n",
              "      display: none;\n",
              "      fill: #1967D2;\n",
              "      height: 32px;\n",
              "      padding: 0 0 0 0;\n",
              "      width: 32px;\n",
              "    }\n",
              "\n",
              "    .colab-df-convert:hover {\n",
              "      background-color: #E2EBFA;\n",
              "      box-shadow: 0px 1px 2px rgba(60, 64, 67, 0.3), 0px 1px 3px 1px rgba(60, 64, 67, 0.15);\n",
              "      fill: #174EA6;\n",
              "    }\n",
              "\n",
              "    [theme=dark] .colab-df-convert {\n",
              "      background-color: #3B4455;\n",
              "      fill: #D2E3FC;\n",
              "    }\n",
              "\n",
              "    [theme=dark] .colab-df-convert:hover {\n",
              "      background-color: #434B5C;\n",
              "      box-shadow: 0px 1px 3px 1px rgba(0, 0, 0, 0.15);\n",
              "      filter: drop-shadow(0px 1px 2px rgba(0, 0, 0, 0.3));\n",
              "      fill: #FFFFFF;\n",
              "    }\n",
              "  </style>\n",
              "\n",
              "      <script>\n",
              "        const buttonEl =\n",
              "          document.querySelector('#df-3d28ffa0-759e-4bef-883e-f7df06e358d8 button.colab-df-convert');\n",
              "        buttonEl.style.display =\n",
              "          google.colab.kernel.accessAllowed ? 'block' : 'none';\n",
              "\n",
              "        async function convertToInteractive(key) {\n",
              "          const element = document.querySelector('#df-3d28ffa0-759e-4bef-883e-f7df06e358d8');\n",
              "          const dataTable =\n",
              "            await google.colab.kernel.invokeFunction('convertToInteractive',\n",
              "                                                     [key], {});\n",
              "          if (!dataTable) return;\n",
              "\n",
              "          const docLinkHtml = 'Like what you see? Visit the ' +\n",
              "            '<a target=\"_blank\" href=https://colab.research.google.com/notebooks/data_table.ipynb>data table notebook</a>'\n",
              "            + ' to learn more about interactive tables.';\n",
              "          element.innerHTML = '';\n",
              "          dataTable['output_type'] = 'display_data';\n",
              "          await google.colab.output.renderOutput(dataTable, element);\n",
              "          const docLink = document.createElement('div');\n",
              "          docLink.innerHTML = docLinkHtml;\n",
              "          element.appendChild(docLink);\n",
              "        }\n",
              "      </script>\n",
              "    </div>\n",
              "  </div>\n",
              "  "
            ]
          },
          "metadata": {},
          "execution_count": 22
        }
      ]
    },
    {
      "cell_type": "code",
      "source": [
        "X_test.head()"
      ],
      "metadata": {
        "id": "sdOnpRgg7ZZ5",
        "colab": {
          "base_uri": "https://localhost:8080/",
          "height": 270
        },
        "outputId": "35e9d3a5-d61b-4ba8-e930-2ae027753eec"
      },
      "execution_count": 23,
      "outputs": [
        {
          "output_type": "execute_result",
          "data": {
            "text/plain": [
              "            age  workclass  education  marital_status  occupation  \\\n",
              "36963  0.747833  -0.122944   1.348203       -1.852886   -0.841575   \n",
              "39383  0.591473  -0.122944   1.348203       -1.852886    0.986621   \n",
              "18272  0.070128  -0.122944   2.139751        0.938695    0.986621   \n",
              "26474 -0.586708  -0.122944  -0.515200       -1.399724   -1.930533   \n",
              "19066  0.611153   0.248227  -0.515200        0.938695   -0.644110   \n",
              "\n",
              "       relationship     race       sex  capital_gain  capital_loss  \\\n",
              "36963     -1.003472  0.07633  0.327258     -0.196463     -0.072022   \n",
              "39383     -1.003472  0.07633  0.327258     -0.196463     -0.072022   \n",
              "18272      0.946833  0.07633  0.327258     -0.196463     -0.072022   \n",
              "26474     -1.584320  0.07633 -0.930171     -0.196463     -0.072022   \n",
              "19066      0.946833  0.07633  0.327258     -0.196463     -0.072022   \n",
              "\n",
              "       hours_per_week  native_country  \n",
              "36963       -0.148115        0.020452  \n",
              "39383       -0.148115       -0.096242  \n",
              "18272       -1.114427        0.020452  \n",
              "26474       -1.114427        0.020452  \n",
              "19066       -0.148115        0.020452  "
            ],
            "text/html": [
              "\n",
              "  <div id=\"df-7f735328-2634-433a-bba8-af2ac8a29e1d\">\n",
              "    <div class=\"colab-df-container\">\n",
              "      <div>\n",
              "<style scoped>\n",
              "    .dataframe tbody tr th:only-of-type {\n",
              "        vertical-align: middle;\n",
              "    }\n",
              "\n",
              "    .dataframe tbody tr th {\n",
              "        vertical-align: top;\n",
              "    }\n",
              "\n",
              "    .dataframe thead th {\n",
              "        text-align: right;\n",
              "    }\n",
              "</style>\n",
              "<table border=\"1\" class=\"dataframe\">\n",
              "  <thead>\n",
              "    <tr style=\"text-align: right;\">\n",
              "      <th></th>\n",
              "      <th>age</th>\n",
              "      <th>workclass</th>\n",
              "      <th>education</th>\n",
              "      <th>marital_status</th>\n",
              "      <th>occupation</th>\n",
              "      <th>relationship</th>\n",
              "      <th>race</th>\n",
              "      <th>sex</th>\n",
              "      <th>capital_gain</th>\n",
              "      <th>capital_loss</th>\n",
              "      <th>hours_per_week</th>\n",
              "      <th>native_country</th>\n",
              "    </tr>\n",
              "  </thead>\n",
              "  <tbody>\n",
              "    <tr>\n",
              "      <th>36963</th>\n",
              "      <td>0.747833</td>\n",
              "      <td>-0.122944</td>\n",
              "      <td>1.348203</td>\n",
              "      <td>-1.852886</td>\n",
              "      <td>-0.841575</td>\n",
              "      <td>-1.003472</td>\n",
              "      <td>0.07633</td>\n",
              "      <td>0.327258</td>\n",
              "      <td>-0.196463</td>\n",
              "      <td>-0.072022</td>\n",
              "      <td>-0.148115</td>\n",
              "      <td>0.020452</td>\n",
              "    </tr>\n",
              "    <tr>\n",
              "      <th>39383</th>\n",
              "      <td>0.591473</td>\n",
              "      <td>-0.122944</td>\n",
              "      <td>1.348203</td>\n",
              "      <td>-1.852886</td>\n",
              "      <td>0.986621</td>\n",
              "      <td>-1.003472</td>\n",
              "      <td>0.07633</td>\n",
              "      <td>0.327258</td>\n",
              "      <td>-0.196463</td>\n",
              "      <td>-0.072022</td>\n",
              "      <td>-0.148115</td>\n",
              "      <td>-0.096242</td>\n",
              "    </tr>\n",
              "    <tr>\n",
              "      <th>18272</th>\n",
              "      <td>0.070128</td>\n",
              "      <td>-0.122944</td>\n",
              "      <td>2.139751</td>\n",
              "      <td>0.938695</td>\n",
              "      <td>0.986621</td>\n",
              "      <td>0.946833</td>\n",
              "      <td>0.07633</td>\n",
              "      <td>0.327258</td>\n",
              "      <td>-0.196463</td>\n",
              "      <td>-0.072022</td>\n",
              "      <td>-1.114427</td>\n",
              "      <td>0.020452</td>\n",
              "    </tr>\n",
              "    <tr>\n",
              "      <th>26474</th>\n",
              "      <td>-0.586708</td>\n",
              "      <td>-0.122944</td>\n",
              "      <td>-0.515200</td>\n",
              "      <td>-1.399724</td>\n",
              "      <td>-1.930533</td>\n",
              "      <td>-1.584320</td>\n",
              "      <td>0.07633</td>\n",
              "      <td>-0.930171</td>\n",
              "      <td>-0.196463</td>\n",
              "      <td>-0.072022</td>\n",
              "      <td>-1.114427</td>\n",
              "      <td>0.020452</td>\n",
              "    </tr>\n",
              "    <tr>\n",
              "      <th>19066</th>\n",
              "      <td>0.611153</td>\n",
              "      <td>0.248227</td>\n",
              "      <td>-0.515200</td>\n",
              "      <td>0.938695</td>\n",
              "      <td>-0.644110</td>\n",
              "      <td>0.946833</td>\n",
              "      <td>0.07633</td>\n",
              "      <td>0.327258</td>\n",
              "      <td>-0.196463</td>\n",
              "      <td>-0.072022</td>\n",
              "      <td>-0.148115</td>\n",
              "      <td>0.020452</td>\n",
              "    </tr>\n",
              "  </tbody>\n",
              "</table>\n",
              "</div>\n",
              "      <button class=\"colab-df-convert\" onclick=\"convertToInteractive('df-7f735328-2634-433a-bba8-af2ac8a29e1d')\"\n",
              "              title=\"Convert this dataframe to an interactive table.\"\n",
              "              style=\"display:none;\">\n",
              "        \n",
              "  <svg xmlns=\"http://www.w3.org/2000/svg\" height=\"24px\"viewBox=\"0 0 24 24\"\n",
              "       width=\"24px\">\n",
              "    <path d=\"M0 0h24v24H0V0z\" fill=\"none\"/>\n",
              "    <path d=\"M18.56 5.44l.94 2.06.94-2.06 2.06-.94-2.06-.94-.94-2.06-.94 2.06-2.06.94zm-11 1L8.5 8.5l.94-2.06 2.06-.94-2.06-.94L8.5 2.5l-.94 2.06-2.06.94zm10 10l.94 2.06.94-2.06 2.06-.94-2.06-.94-.94-2.06-.94 2.06-2.06.94z\"/><path d=\"M17.41 7.96l-1.37-1.37c-.4-.4-.92-.59-1.43-.59-.52 0-1.04.2-1.43.59L10.3 9.45l-7.72 7.72c-.78.78-.78 2.05 0 2.83L4 21.41c.39.39.9.59 1.41.59.51 0 1.02-.2 1.41-.59l7.78-7.78 2.81-2.81c.8-.78.8-2.07 0-2.86zM5.41 20L4 18.59l7.72-7.72 1.47 1.35L5.41 20z\"/>\n",
              "  </svg>\n",
              "      </button>\n",
              "      \n",
              "  <style>\n",
              "    .colab-df-container {\n",
              "      display:flex;\n",
              "      flex-wrap:wrap;\n",
              "      gap: 12px;\n",
              "    }\n",
              "\n",
              "    .colab-df-convert {\n",
              "      background-color: #E8F0FE;\n",
              "      border: none;\n",
              "      border-radius: 50%;\n",
              "      cursor: pointer;\n",
              "      display: none;\n",
              "      fill: #1967D2;\n",
              "      height: 32px;\n",
              "      padding: 0 0 0 0;\n",
              "      width: 32px;\n",
              "    }\n",
              "\n",
              "    .colab-df-convert:hover {\n",
              "      background-color: #E2EBFA;\n",
              "      box-shadow: 0px 1px 2px rgba(60, 64, 67, 0.3), 0px 1px 3px 1px rgba(60, 64, 67, 0.15);\n",
              "      fill: #174EA6;\n",
              "    }\n",
              "\n",
              "    [theme=dark] .colab-df-convert {\n",
              "      background-color: #3B4455;\n",
              "      fill: #D2E3FC;\n",
              "    }\n",
              "\n",
              "    [theme=dark] .colab-df-convert:hover {\n",
              "      background-color: #434B5C;\n",
              "      box-shadow: 0px 1px 3px 1px rgba(0, 0, 0, 0.15);\n",
              "      filter: drop-shadow(0px 1px 2px rgba(0, 0, 0, 0.3));\n",
              "      fill: #FFFFFF;\n",
              "    }\n",
              "  </style>\n",
              "\n",
              "      <script>\n",
              "        const buttonEl =\n",
              "          document.querySelector('#df-7f735328-2634-433a-bba8-af2ac8a29e1d button.colab-df-convert');\n",
              "        buttonEl.style.display =\n",
              "          google.colab.kernel.accessAllowed ? 'block' : 'none';\n",
              "\n",
              "        async function convertToInteractive(key) {\n",
              "          const element = document.querySelector('#df-7f735328-2634-433a-bba8-af2ac8a29e1d');\n",
              "          const dataTable =\n",
              "            await google.colab.kernel.invokeFunction('convertToInteractive',\n",
              "                                                     [key], {});\n",
              "          if (!dataTable) return;\n",
              "\n",
              "          const docLinkHtml = 'Like what you see? Visit the ' +\n",
              "            '<a target=\"_blank\" href=https://colab.research.google.com/notebooks/data_table.ipynb>data table notebook</a>'\n",
              "            + ' to learn more about interactive tables.';\n",
              "          element.innerHTML = '';\n",
              "          dataTable['output_type'] = 'display_data';\n",
              "          await google.colab.output.renderOutput(dataTable, element);\n",
              "          const docLink = document.createElement('div');\n",
              "          docLink.innerHTML = docLinkHtml;\n",
              "          element.appendChild(docLink);\n",
              "        }\n",
              "      </script>\n",
              "    </div>\n",
              "  </div>\n",
              "  "
            ]
          },
          "metadata": {},
          "execution_count": 23
        }
      ]
    },
    {
      "cell_type": "markdown",
      "source": [
        "## Modelowanie"
      ],
      "metadata": {
        "id": "SmHAvoiX9C4S"
      }
    },
    {
      "cell_type": "markdown",
      "source": [
        "Zaimportujmy niezbędne biblioteki."
      ],
      "metadata": {
        "id": "TzdLIYdrpNKs"
      }
    },
    {
      "cell_type": "code",
      "source": [
        "from sklearn.model_selection import GridSearchCV\n",
        "from sklearn.linear_model import LogisticRegression\n",
        "from sklearn.neighbors import KNeighborsClassifier\n",
        "from sklearn.ensemble import RandomForestClassifier\n",
        "warnings.filterwarnings('ignore')"
      ],
      "metadata": {
        "id": "QsGkcMmw9E2-"
      },
      "execution_count": 24,
      "outputs": []
    },
    {
      "cell_type": "code",
      "source": [
        "from sklearn.metrics import accuracy_score\n",
        "from sklearn.metrics import f1_score\n",
        "from sklearn.metrics import roc_auc_score\n",
        "from sklearn.pipeline import Pipeline\n",
        "from sklearn.preprocessing import StandardScaler\n",
        "from sklearn.metrics import precision_score\n",
        "from sklearn.metrics import recall_score"
      ],
      "metadata": {
        "id": "nsicqsEoGBFG"
      },
      "execution_count": 25,
      "outputs": []
    },
    {
      "cell_type": "markdown",
      "source": [
        "### LogisticRegression"
      ],
      "metadata": {
        "id": "izAvx5-Xo_X0"
      }
    },
    {
      "cell_type": "code",
      "source": [
        "lr_base = LogisticRegression(random_state=42)\n",
        "lr_base.fit(X_ez, y_train)\n",
        "lr_base.score(X_ez,y_train)"
      ],
      "metadata": {
        "colab": {
          "base_uri": "https://localhost:8080/"
        },
        "id": "KnlvZuhyKvmd",
        "outputId": "53965e67-18bc-4362-8376-b56c3ffa33d1"
      },
      "execution_count": 26,
      "outputs": [
        {
          "output_type": "execute_result",
          "data": {
            "text/plain": [
              "0.8451276473222855"
            ]
          },
          "metadata": {},
          "execution_count": 26
        }
      ]
    },
    {
      "cell_type": "code",
      "source": [
        "print(lr_base.score(X_ez,y_train), f1_score(lr_base.predict(X_test),y_test))"
      ],
      "metadata": {
        "colab": {
          "base_uri": "https://localhost:8080/"
        },
        "id": "8rLeh3BrgieE",
        "outputId": "830f01d9-43e3-463a-f15e-f67c7b49ff0d"
      },
      "execution_count": 27,
      "outputs": [
        {
          "output_type": "stream",
          "name": "stdout",
          "text": [
            "0.8451276473222855 0.6452953398634609\n"
          ]
        }
      ]
    },
    {
      "cell_type": "code",
      "source": [
        "param_grid_lr = {\n",
        "    'C': [0.001, 0.01, 0.1, 1, 10, 100, 1000],\n",
        "    'penalty': ['l1', 'l2'],\n",
        "    'solver': ['newton-cg', 'lbfgs', 'liblinear', 'sag', 'saga'],\n",
        "    'tol': [1e-4, 1e-3, 1e-5, 3e-4]\n",
        "}\n",
        "\n",
        "lr_model = LogisticRegression(random_state=42)\n",
        "grid = GridSearchCV(estimator = lr_model, param_grid = param_grid_lr, error_score=0.0,\n",
        "                    cv = 5)\n",
        "\n",
        "grid_result = grid.fit(X_ez, y_train)\n",
        "print(\"Best: %f using %s\" % (grid_result.best_score_, grid_result.best_params_))"
      ],
      "metadata": {
        "colab": {
          "base_uri": "https://localhost:8080/"
        },
        "id": "hqR8y_TSp1JU",
        "outputId": "1ff90d62-036d-413a-fb8a-28debad0bdd0"
      },
      "execution_count": 34,
      "outputs": [
        {
          "output_type": "stream",
          "name": "stdout",
          "text": [
            "Best: 0.844936 using {'C': 10, 'penalty': 'l1', 'solver': 'liblinear', 'tol': 0.001}\n"
          ]
        }
      ]
    },
    {
      "cell_type": "code",
      "source": [
        "lr_best = LogisticRegression(penalty = 'l1', solver = 'liblinear', C = 10, tol = 0.001, random_state=42)\n",
        "lr_best.fit(X_ez, y_train)"
      ],
      "metadata": {
        "id": "D29M9SN3-S5p",
        "colab": {
          "base_uri": "https://localhost:8080/"
        },
        "outputId": "2d6a63b0-4f9f-4a0c-ebce-e58cfc1c320b"
      },
      "execution_count": 41,
      "outputs": [
        {
          "output_type": "execute_result",
          "data": {
            "text/plain": [
              "LogisticRegression(C=10, penalty='l1', random_state=42, solver='liblinear',\n",
              "                   tol=0.001)"
            ]
          },
          "metadata": {},
          "execution_count": 41
        }
      ]
    },
    {
      "cell_type": "code",
      "source": [
        "! pip install scikit-optimize"
      ],
      "metadata": {
        "colab": {
          "base_uri": "https://localhost:8080/"
        },
        "id": "yCBaChRhLJCl",
        "outputId": "c8bde399-3c6b-4012-a80b-98cd7b975c3a"
      },
      "execution_count": 30,
      "outputs": [
        {
          "output_type": "stream",
          "name": "stdout",
          "text": [
            "Collecting scikit-optimize\n",
            "  Downloading scikit_optimize-0.9.0-py2.py3-none-any.whl (100 kB)\n",
            "\u001b[?25l\r\u001b[K     |███▎                            | 10 kB 29.7 MB/s eta 0:00:01\r\u001b[K     |██████▌                         | 20 kB 34.3 MB/s eta 0:00:01\r\u001b[K     |█████████▉                      | 30 kB 15.7 MB/s eta 0:00:01\r\u001b[K     |█████████████                   | 40 kB 11.3 MB/s eta 0:00:01\r\u001b[K     |████████████████▍               | 51 kB 3.9 MB/s eta 0:00:01\r\u001b[K     |███████████████████▋            | 61 kB 4.7 MB/s eta 0:00:01\r\u001b[K     |██████████████████████▉         | 71 kB 4.8 MB/s eta 0:00:01\r\u001b[K     |██████████████████████████▏     | 81 kB 4.6 MB/s eta 0:00:01\r\u001b[K     |█████████████████████████████▍  | 92 kB 5.1 MB/s eta 0:00:01\r\u001b[K     |████████████████████████████████| 100 kB 3.8 MB/s \n",
            "\u001b[?25hRequirement already satisfied: scikit-learn>=0.20.0 in /usr/local/lib/python3.7/dist-packages (from scikit-optimize) (1.0.2)\n",
            "Requirement already satisfied: scipy>=0.19.1 in /usr/local/lib/python3.7/dist-packages (from scikit-optimize) (1.4.1)\n",
            "Collecting pyaml>=16.9\n",
            "  Downloading pyaml-21.10.1-py2.py3-none-any.whl (24 kB)\n",
            "Requirement already satisfied: joblib>=0.11 in /usr/local/lib/python3.7/dist-packages (from scikit-optimize) (1.1.0)\n",
            "Requirement already satisfied: numpy>=1.13.3 in /usr/local/lib/python3.7/dist-packages (from scikit-optimize) (1.21.6)\n",
            "Requirement already satisfied: PyYAML in /usr/local/lib/python3.7/dist-packages (from pyaml>=16.9->scikit-optimize) (3.13)\n",
            "Requirement already satisfied: threadpoolctl>=2.0.0 in /usr/local/lib/python3.7/dist-packages (from scikit-learn>=0.20.0->scikit-optimize) (3.1.0)\n",
            "Installing collected packages: pyaml, scikit-optimize\n",
            "Successfully installed pyaml-21.10.1 scikit-optimize-0.9.0\n"
          ]
        }
      ]
    },
    {
      "cell_type": "code",
      "source": [
        "from skopt import BayesSearchCV\n",
        "\n",
        "opt = BayesSearchCV(\n",
        "    LogisticRegression(),\n",
        "    {\n",
        "        'C': (0.0001, 10000),\n",
        "        'penalty': ['l1', 'l2', 'none'],\n",
        "        'solver': ['newton-cg', 'lbfgs', 'liblinear', 'sag', 'saga'],\n",
        "        'tol': (1e-5, 10)\n",
        "    },\n",
        "    error_score = 0.0,\n",
        "    n_iter=50, #generalnie powinno być więcej, ale wtedy długo trwa\n",
        "    cv=5\n",
        ")\n",
        "\n",
        "opt.fit(X_ez, y_train)\n",
        "\n",
        "print(\"val. score: %s\" % opt.best_score_)\n",
        "print(\"test score: %s\" % opt.score(X_test, y_test))\n",
        "print(\"Best params: %s\" % opt.best_params_)"
      ],
      "metadata": {
        "colab": {
          "base_uri": "https://localhost:8080/"
        },
        "id": "6oTd1017LNI8",
        "outputId": "174fe0fb-9744-4e6c-974a-f26d581023d4"
      },
      "execution_count": 36,
      "outputs": [
        {
          "output_type": "stream",
          "name": "stdout",
          "text": [
            "val. score: 0.8448397917241751\n",
            "test score: 0.8470889315419066\n",
            "Best params: OrderedDict([('C', 4067.7906336938345), ('penalty', 'l2'), ('solver', 'saga'), ('tol', 1e-05)])\n"
          ]
        }
      ]
    },
    {
      "cell_type": "code",
      "source": [
        "print(lr_best.score(X_ez,y_train), f1_score(lr_best.predict(X_ez),y_train), roc_auc_score(lr_best.predict(X_test),y_test), precision_score(lr_best.predict(X_test),y_test), recall_score(lr_best.predict(X_test),y_test))"
      ],
      "metadata": {
        "colab": {
          "base_uri": "https://localhost:8080/"
        },
        "id": "PYmXoYO0zBxr",
        "outputId": "ff6a2d76-4bfe-4192-a70d-bca990424a08"
      },
      "execution_count": 42,
      "outputs": [
        {
          "output_type": "stream",
          "name": "stdout",
          "text": [
            "0.8451916309424787 0.640463630284568 0.8008414681133602 0.5812834224598931 0.725634178905207\n"
          ]
        }
      ]
    },
    {
      "cell_type": "code",
      "source": [
        "X_test['native_country']"
      ],
      "metadata": {
        "colab": {
          "base_uri": "https://localhost:8080/"
        },
        "id": "PRW4WgdGFWNq",
        "outputId": "cba1c73d-22ef-4938-c0e2-29c12cb6554f"
      },
      "execution_count": null,
      "outputs": [
        {
          "output_type": "execute_result",
          "data": {
            "text/plain": [
              "2218     0.022158\n",
              "37566    0.022158\n",
              "18158    0.022158\n",
              "5592    -0.508487\n",
              "14619    0.022158\n",
              "           ...   \n",
              "43185    0.022158\n",
              "18339    0.022158\n",
              "23803   -1.551530\n",
              "20427    0.022158\n",
              "19419    0.022158\n",
              "Name: native_country, Length: 7815, dtype: float64"
            ]
          },
          "metadata": {},
          "execution_count": 216
        }
      ]
    },
    {
      "cell_type": "code",
      "source": [
        "f1_score(lr_best.predict(X_test),y_test)"
      ],
      "metadata": {
        "colab": {
          "base_uri": "https://localhost:8080/"
        },
        "id": "fnpuRKSHFURc",
        "outputId": "f43e066c-818d-4db2-ee4f-515041752fea"
      },
      "execution_count": 43,
      "outputs": [
        {
          "output_type": "execute_result",
          "data": {
            "text/plain": [
              "0.6454869358669835"
            ]
          },
          "metadata": {},
          "execution_count": 43
        }
      ]
    },
    {
      "cell_type": "markdown",
      "source": [
        "z laczeniem 0.843891024569614 0.640234287001577 0.8007503940163941"
      ],
      "metadata": {
        "id": "3nvIjclHwyHF"
      }
    },
    {
      "cell_type": "markdown",
      "source": [
        ""
      ],
      "metadata": {
        "id": "Od7i-LPOp9Of"
      }
    },
    {
      "cell_type": "markdown",
      "source": [
        "bez laczenia woe 0.843891024569614 0.6400900900900901 0.8005549116235828"
      ],
      "metadata": {
        "id": "7AVpHRFGp4u4"
      }
    },
    {
      "cell_type": "markdown",
      "source": [
        "0.8435985291659702 0.6397837350754675 0.8004331706134287"
      ],
      "metadata": {
        "id": "_BvErEBKnrdA"
      }
    },
    {
      "cell_type": "markdown",
      "source": [
        "0.843891024569614 0.6405405405405405 0.8008720101629819"
      ],
      "metadata": {
        "id": "oKXkqo8BnwOP"
      }
    },
    {
      "cell_type": "code",
      "source": [
        "lr_test_xd = LogisticRegression(penalty = 'l2', solver = 'saga', C = 1, tol = 0.001, random_state=1, max_iter=1000)\n",
        "lr_test_xd.fit(X_ez, y_train)\n",
        "lr_test_xd.score(X_ez,y_train)"
      ],
      "metadata": {
        "colab": {
          "base_uri": "https://localhost:8080/"
        },
        "id": "CT4J0ZBee5NK",
        "outputId": "65e21adc-c89e-495a-f23b-4fc0f67e006d"
      },
      "execution_count": null,
      "outputs": [
        {
          "output_type": "execute_result",
          "data": {
            "text/plain": [
              "0.842136052147752"
            ]
          },
          "metadata": {},
          "execution_count": 148
        }
      ]
    },
    {
      "cell_type": "code",
      "source": [
        "from sklearn.preprocessing import StandardScaler\n",
        "X_ez_scaler_applied = X_ez.copy()\n",
        "scaler = StandardScaler()\n",
        "X_ez_scaler_applied = scaler.fit_transform(X_ez_scaler_applied)"
      ],
      "metadata": {
        "id": "Jq2y7uz2WPWs"
      },
      "execution_count": null,
      "outputs": []
    },
    {
      "cell_type": "code",
      "source": [
        "lr_base2 = LogisticRegression(random_state=42)\n",
        "lr_base2.fit(X_ez_scaler_applied, y_train)\n",
        "lr_base2.score(X_ez_scaler_applied,y_train)"
      ],
      "metadata": {
        "colab": {
          "base_uri": "https://localhost:8080/"
        },
        "id": "uU1906VUW7k9",
        "outputId": "7837c4fd-2479-441c-f235-cb67c2f2822b"
      },
      "execution_count": null,
      "outputs": [
        {
          "output_type": "execute_result",
          "data": {
            "text/plain": [
              "0.8420942670900886"
            ]
          },
          "metadata": {},
          "execution_count": 142
        }
      ]
    },
    {
      "cell_type": "code",
      "source": [
        "lr_model2 = LogisticRegression(random_state=42)\n",
        "grid2 = GridSearchCV(estimator = lr_model, param_grid = param_grid_lr, error_score=0.0,\n",
        "                    cv = 4, n_jobs = -1, verbose = 2)\n",
        "\n",
        "grid_result2 = grid.fit(X_ez_scaler_applied, y_train)\n",
        "print(\"Best: %f using %s\" % (grid_result2.best_score_, grid_result2.best_params_))"
      ],
      "metadata": {
        "colab": {
          "base_uri": "https://localhost:8080/"
        },
        "id": "EhsExjU2XJ6u",
        "outputId": "297ac4c1-2d5c-406e-f25f-7a7c6b853048"
      },
      "execution_count": null,
      "outputs": [
        {
          "output_type": "stream",
          "name": "stdout",
          "text": [
            "Fitting 4 folds for each of 280 candidates, totalling 1120 fits\n",
            "Best: 0.842303 using {'C': 0.1, 'penalty': 'l2', 'solver': 'sag', 'tol': 0.001}\n"
          ]
        }
      ]
    },
    {
      "cell_type": "markdown",
      "source": [
        "### KNeighbours"
      ],
      "metadata": {
        "id": "3YTBVxzbym1C"
      }
    },
    {
      "cell_type": "code",
      "source": [
        "n_neighbors = [5, 7, 9, 11, 13, 15]\n",
        "weights = ['uniform', 'distance']\n",
        "metric = ['minkowski', 'euclidean', 'manhattan']\n",
        "param_grid = dict(n_neighbors = n_neighbors, weights = weights, metric = metric)\n",
        "\n",
        "knn_model = KNeighborsClassifier()\n",
        "grid = GridSearchCV(estimator = knn_model, param_grid = param_grid,\n",
        "                    cv = 3, n_jobs = -1, verbose = 2)\n",
        "\n",
        "grid_result = grid.fit(X_ez, y_train)\n",
        "print(\"Best: %f using %s\" % (grid_result.best_score_, grid_result.best_params_))"
      ],
      "metadata": {
        "id": "4qIK8rr8vAj2",
        "colab": {
          "base_uri": "https://localhost:8080/"
        },
        "outputId": "9286793d-f1ce-40f4-9e53-b5202aab716c"
      },
      "execution_count": null,
      "outputs": [
        {
          "output_type": "stream",
          "name": "stdout",
          "text": [
            "Fitting 3 folds for each of 36 candidates, totalling 108 fits\n",
            "Best: 0.837498 using {'metric': 'manhattan', 'n_neighbors': 15, 'weights': 'uniform'}\n"
          ]
        }
      ]
    },
    {
      "cell_type": "code",
      "source": [
        "kn_best = KNeighborsClassifier(metric = 'manhattan', n_neighbors = 15, weights = 'uniform')"
      ],
      "metadata": {
        "id": "th8VHxyZ-dz6"
      },
      "execution_count": null,
      "outputs": []
    },
    {
      "cell_type": "markdown",
      "source": [
        "### Random forest"
      ],
      "metadata": {
        "id": "Owbt1wFsyq7l"
      }
    },
    {
      "cell_type": "code",
      "source": [
        "param_grid = {\n",
        "    'criterion': ['gini', 'entropy'],\n",
        "    'max_depth': [80, 90, 100, 110],\n",
        "#    'max_features': [2, 3],\n",
        "    'min_samples_leaf': [3, 4, 5],\n",
        "    'min_samples_split': [8, 10, 12],\n",
        "    'n_estimators': [100, 200, 300, 1000]\n",
        "}\n",
        "rf = RandomForestClassifier()\n",
        "grid = GridSearchCV(estimator = rf, param_grid = param_grid, \n",
        "                          cv = 3, n_jobs = -1, verbose = 2)\n",
        "grid_result = grid.fit(X_ez, y_train)\n",
        "print(\"Best: %f using %s\" % (grid_result.best_score_, grid_result.best_params_))"
      ],
      "metadata": {
        "id": "gKKNxrqHwKHQ",
        "colab": {
          "base_uri": "https://localhost:8080/"
        },
        "outputId": "580a7352-839e-417f-adbb-8e516580eed8"
      },
      "execution_count": null,
      "outputs": [
        {
          "output_type": "stream",
          "name": "stdout",
          "text": [
            "Fitting 3 folds for each of 288 candidates, totalling 864 fits\n",
            "Best: 0.844392 using {'criterion': 'gini', 'max_depth': 80, 'min_samples_leaf': 5, 'min_samples_split': 8, 'n_estimators': 1000}\n"
          ]
        }
      ]
    },
    {
      "cell_type": "code",
      "source": [
        "rf_best = RandomForestClassifier(criterion = 'gini', max_depth = 80, min_samples_leaf = 5, min_samples_split = 8, n_estimators = 1000)"
      ],
      "metadata": {
        "id": "-3Q1rG2_-j-5"
      },
      "execution_count": null,
      "outputs": []
    },
    {
      "cell_type": "markdown",
      "source": [
        "### XGBoost"
      ],
      "metadata": {
        "id": "NDu0MBHP6t91"
      }
    },
    {
      "cell_type": "code",
      "source": [
        "! pip install xgboost\n",
        "import xgboost\n",
        "from xgboost import XGBClassifier"
      ],
      "metadata": {
        "colab": {
          "base_uri": "https://localhost:8080/"
        },
        "id": "F2pykw-T6x_c",
        "outputId": "fb7846f9-ee4c-4bdb-dcf0-a3311b024f91"
      },
      "execution_count": null,
      "outputs": [
        {
          "output_type": "stream",
          "name": "stdout",
          "text": [
            "Requirement already satisfied: xgboost in /usr/local/lib/python3.7/dist-packages (0.90)\n",
            "Requirement already satisfied: numpy in /usr/local/lib/python3.7/dist-packages (from xgboost) (1.21.6)\n",
            "Requirement already satisfied: scipy in /usr/local/lib/python3.7/dist-packages (from xgboost) (1.4.1)\n"
          ]
        }
      ]
    },
    {
      "cell_type": "code",
      "source": [
        "model=XGBClassifier()\n",
        "model.fit(X_ez, y_train)\n",
        "model.score(X_test,y_test)"
      ],
      "metadata": {
        "colab": {
          "base_uri": "https://localhost:8080/"
        },
        "id": "wEnp25X07Dh-",
        "outputId": "3b8a2e27-7c04-4e55-d42b-255c9aba1a91"
      },
      "execution_count": null,
      "outputs": [
        {
          "output_type": "execute_result",
          "data": {
            "text/plain": [
              "0.8479087452471483"
            ]
          },
          "metadata": {},
          "execution_count": 126
        }
      ]
    },
    {
      "cell_type": "code",
      "source": [
        "param_grid_xgboost = {\n",
        "    'max_depth': [8, 10, 12, 14, 16, 18, None],\n",
        "    'learning_rate': [0.03, 0.1, 0.3, 0.001],\n",
        "    'splitter': [\"best\", \"random\"],\n",
        "    'max_features': [\"auto\", None]\n",
        "}\n",
        "\n",
        "xgboost = XGBClassifier(random_state = 42)\n",
        "xgboost_grid = GridSearchCV(xgboost, param_grid_xgboost, cv = 2)\n",
        "result = xgboost_grid.fit(X_ez, y_train)"
      ],
      "metadata": {
        "colab": {
          "base_uri": "https://localhost:8080/"
        },
        "id": "lXG8ScCOFEe-",
        "outputId": "648d9c62-2e85-4908-d396-45f6633c8f0d"
      },
      "execution_count": null,
      "outputs": [
        {
          "output_type": "stream",
          "name": "stdout",
          "text": [
            "Best: 0.844392 using {'criterion': 'gini', 'max_depth': 80, 'min_samples_leaf': 5, 'min_samples_split': 8, 'n_estimators': 1000}\n"
          ]
        }
      ]
    },
    {
      "cell_type": "code",
      "source": [
        "print(\"Best: %f using %s\" % (result.best_score_, result.best_params_))"
      ],
      "metadata": {
        "colab": {
          "base_uri": "https://localhost:8080/"
        },
        "id": "U6NkuakwIEo_",
        "outputId": "88fbde22-9e77-43ca-da65-df14b3f6c762"
      },
      "execution_count": null,
      "outputs": [
        {
          "output_type": "stream",
          "name": "stdout",
          "text": [
            "Best: 0.842554 using {'learning_rate': 0.03, 'max_depth': 8, 'max_features': 'auto', 'splitter': 'best'}\n"
          ]
        }
      ]
    },
    {
      "cell_type": "code",
      "source": [
        "xgb_best = XGBClassifier(learning_rate = 0.03, max_depth = 8, max_features = 'auto', splitter = 'best')"
      ],
      "metadata": {
        "id": "PVuvtMYSFutD"
      },
      "execution_count": null,
      "outputs": []
    },
    {
      "cell_type": "markdown",
      "source": [
        "### Podsumowanie"
      ],
      "metadata": {
        "id": "8AzLWS4yYN9m"
      }
    },
    {
      "cell_type": "code",
      "source": [
        "test_results = []\n",
        "for model, model_name in [(lr_best, \"LogisticRegression\"), (rf_best, \"RandomForest\"), (kn_best, \"KNeighbors\"), (xgb_best, \"XGBoost\")]:\n",
        "    model.fit(X_ez, y_train)\n",
        "    y_pred = model.predict(X_test)\n",
        "    measures_results = {\"model\": model_name}\n",
        "    for measure in [accuracy_score, f1_score, roc_auc_score]:\n",
        "        measures_results[measure.__name__] = measure(y_test, y_pred)\n",
        "    test_results.append(measures_results)\n",
        "    \n",
        "test_results_df = pd.DataFrame(test_results)"
      ],
      "metadata": {
        "id": "6Ig9I_spYQeq"
      },
      "execution_count": null,
      "outputs": []
    },
    {
      "cell_type": "code",
      "source": [
        "test_results_df = pd.melt(test_results_df, id_vars=\"model\", var_name=\"measure\", value_name=\"value\")\n",
        "sns.catplot(x='measure', y='value', hue='model', data=test_results_df, kind='bar', aspect=2)\n",
        "plt.show()"
      ],
      "metadata": {
        "colab": {
          "base_uri": "https://localhost:8080/",
          "height": 369
        },
        "id": "bvy_IHyRYsBf",
        "outputId": "b224b201-d2fd-4eae-f068-43eae1c8c5f9"
      },
      "execution_count": null,
      "outputs": [
        {
          "output_type": "display_data",
          "data": {
            "text/plain": [
              "<Figure size 848.75x360 with 1 Axes>"
            ],
            "image/png": "[encoded data removed]"
          },
          "metadata": {
            "needs_background": "light"
          }
        }
      ]
    },
    {
      "cell_type": "code",
      "source": [
        "sns.catplot(x='measure', y='value', hue='model', data=test_results_df, kind='bar', aspect=2)\n",
        "plt.ylim(0.60, 0.9)\n",
        "plt.show()"
      ],
      "metadata": {
        "colab": {
          "base_uri": "https://localhost:8080/",
          "height": 373
        },
        "id": "6fBAUQqfY4t4",
        "outputId": "7d89082b-10be-4324-f1fe-e9c01c5fc411"
      },
      "execution_count": null,
      "outputs": [
        {
          "output_type": "display_data",
          "data": {
            "text/plain": [
              "<Figure size 848.75x360 with 1 Axes>"
            ],
            "image/png": "[encoded data removed]"
          },
          "metadata": {
            "needs_background": "light"
          }
        }
      ]
    }
  ]
}