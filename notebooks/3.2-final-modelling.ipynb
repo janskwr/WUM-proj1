{
  "nbformat": 4,
  "nbformat_minor": 0,
  "metadata": {
    "colab": {
      "name": "ProjektEz2.ipynb",
      "provenance": [],
      "collapsed_sections": []
    },
    "kernelspec": {
      "name": "python3",
      "display_name": "Python 3"
    },
    "language_info": {
      "name": "python"
    }
  },
  "cells": [
    {
      "cell_type": "markdown",
      "source": [
        "# TEST PROJEKT1\n"
      ],
      "metadata": {
        "id": "GYPmb6M_bHei"
      }
    },
    {
      "cell_type": "markdown",
      "source": [
        "## Dane i importy"
      ],
      "metadata": {
        "id": "H89KBQWJbLzK"
      }
    },
    {
      "cell_type": "code",
      "source": [
        "import pandas as pd\n",
        "import numpy as np\n",
        "import matplotlib.pyplot as plt\n",
        "import warnings\n",
        "import seaborn as sns\n",
        "warnings.filterwarnings('ignore')"
      ],
      "metadata": {
        "id": "YHelDIF4bQej"
      },
      "execution_count": 1,
      "outputs": []
    },
    {
      "cell_type": "code",
      "source": [
        "! pip install category_encoders"
      ],
      "metadata": {
        "colab": {
          "base_uri": "https://localhost:8080/"
        },
        "id": "eDsKxvODiqLR",
        "outputId": "1df6effd-2173-4600-da0e-a8f406e9c9a4"
      },
      "execution_count": 2,
      "outputs": [
        {
          "output_type": "stream",
          "name": "stdout",
          "text": [
            "Collecting category_encoders\n",
            "  Downloading category_encoders-2.4.0-py2.py3-none-any.whl (86 kB)\n",
            "\u001b[?25l\r\u001b[K     |███▉                            | 10 kB 31.6 MB/s eta 0:00:01\r\u001b[K     |███████▋                        | 20 kB 40.2 MB/s eta 0:00:01\r\u001b[K     |███████████▍                    | 30 kB 48.0 MB/s eta 0:00:01\r\u001b[K     |███████████████▏                | 40 kB 16.5 MB/s eta 0:00:01\r\u001b[K     |███████████████████             | 51 kB 12.6 MB/s eta 0:00:01\r\u001b[K     |██████████████████████▊         | 61 kB 14.6 MB/s eta 0:00:01\r\u001b[K     |██████████████████████████▌     | 71 kB 14.4 MB/s eta 0:00:01\r\u001b[K     |██████████████████████████████▎ | 81 kB 15.9 MB/s eta 0:00:01\r\u001b[K     |████████████████████████████████| 86 kB 4.5 MB/s \n",
            "\u001b[?25hRequirement already satisfied: scikit-learn>=0.20.0 in /usr/local/lib/python3.7/dist-packages (from category_encoders) (1.0.2)\n",
            "Requirement already satisfied: statsmodels>=0.9.0 in /usr/local/lib/python3.7/dist-packages (from category_encoders) (0.10.2)\n",
            "Requirement already satisfied: scipy>=1.0.0 in /usr/local/lib/python3.7/dist-packages (from category_encoders) (1.4.1)\n",
            "Requirement already satisfied: patsy>=0.5.1 in /usr/local/lib/python3.7/dist-packages (from category_encoders) (0.5.2)\n",
            "Requirement already satisfied: numpy>=1.14.0 in /usr/local/lib/python3.7/dist-packages (from category_encoders) (1.21.6)\n",
            "Requirement already satisfied: pandas>=0.21.1 in /usr/local/lib/python3.7/dist-packages (from category_encoders) (1.3.5)\n",
            "Requirement already satisfied: python-dateutil>=2.7.3 in /usr/local/lib/python3.7/dist-packages (from pandas>=0.21.1->category_encoders) (2.8.2)\n",
            "Requirement already satisfied: pytz>=2017.3 in /usr/local/lib/python3.7/dist-packages (from pandas>=0.21.1->category_encoders) (2022.1)\n",
            "Requirement already satisfied: six in /usr/local/lib/python3.7/dist-packages (from patsy>=0.5.1->category_encoders) (1.15.0)\n",
            "Requirement already satisfied: threadpoolctl>=2.0.0 in /usr/local/lib/python3.7/dist-packages (from scikit-learn>=0.20.0->category_encoders) (3.1.0)\n",
            "Requirement already satisfied: joblib>=0.11 in /usr/local/lib/python3.7/dist-packages (from scikit-learn>=0.20.0->category_encoders) (1.1.0)\n",
            "Installing collected packages: category-encoders\n",
            "Successfully installed category-encoders-2.4.0\n"
          ]
        }
      ]
    },
    {
      "cell_type": "code",
      "source": [
        "import category_encoders as ce"
      ],
      "metadata": {
        "id": "Vvy4ifTkitvp"
      },
      "execution_count": 3,
      "outputs": []
    },
    {
      "cell_type": "code",
      "source": [
        "from sklearn.model_selection import train_test_split"
      ],
      "metadata": {
        "id": "5yTnPe0uDPDt"
      },
      "execution_count": 4,
      "outputs": []
    },
    {
      "cell_type": "code",
      "source": [
        "!wget https://lovespreadsheet-tutorials.s3.amazonaws.com/APIDatasets/census_income_dataset.csv\n",
        "df_raw = pd.read_csv('census_income_dataset.csv')"
      ],
      "metadata": {
        "colab": {
          "base_uri": "https://localhost:8080/"
        },
        "id": "u9VWDmwNbRr6",
        "outputId": "e7192913-12b7-4e04-f68a-196254faf7f8"
      },
      "execution_count": 5,
      "outputs": [
        {
          "output_type": "stream",
          "name": "stdout",
          "text": [
            "--2022-04-24 18:11:25--  https://lovespreadsheet-tutorials.s3.amazonaws.com/APIDatasets/census_income_dataset.csv\n",
            "Resolving lovespreadsheet-tutorials.s3.amazonaws.com (lovespreadsheet-tutorials.s3.amazonaws.com)... 52.216.107.148\n",
            "Connecting to lovespreadsheet-tutorials.s3.amazonaws.com (lovespreadsheet-tutorials.s3.amazonaws.com)|52.216.107.148|:443... connected.\n",
            "HTTP request sent, awaiting response... 200 OK\n",
            "Length: 5717107 (5.5M) [text/csv]\n",
            "Saving to: ‘census_income_dataset.csv’\n",
            "\n",
            "census_income_datas 100%[===================>]   5.45M  8.02MB/s    in 0.7s    \n",
            "\n",
            "2022-04-24 18:11:26 (8.02 MB/s) - ‘census_income_dataset.csv’ saved [5717107/5717107]\n",
            "\n"
          ]
        }
      ]
    },
    {
      "cell_type": "code",
      "source": [
        "y = df_raw['income_level']\n",
        "del df_raw['income_level']"
      ],
      "metadata": {
        "id": "7foe1VcVDyvP"
      },
      "execution_count": 6,
      "outputs": []
    },
    {
      "cell_type": "code",
      "source": [
        "X_build, X_val, y_build, y_val = train_test_split(df_raw, y, test_size=0.2, random_state=500, stratify=y)"
      ],
      "metadata": {
        "id": "sS8raJSEDiBN"
      },
      "execution_count": 7,
      "outputs": []
    },
    {
      "cell_type": "code",
      "source": [
        "X_train, X_test, y_train, y_test = train_test_split(X_build, y_build, test_size=0.2, random_state=500, stratify=y_build)"
      ],
      "metadata": {
        "id": "IkcjlO5QENiZ"
      },
      "execution_count": 337,
      "outputs": []
    },
    {
      "cell_type": "markdown",
      "source": [
        "Teraz mamy df do trainu i df_test do testowania"
      ],
      "metadata": {
        "id": "wszz2BaZbYra"
      }
    },
    {
      "cell_type": "markdown",
      "source": [
        "## Wybór zmiennych"
      ],
      "metadata": {
        "id": "nai8zsQPXKOk"
      }
    },
    {
      "cell_type": "markdown",
      "source": [
        "Do oceny jakości zmiennych użyjemy Information Value"
      ],
      "metadata": {
        "id": "L4Vr7xSXXgtu"
      }
    },
    {
      "cell_type": "code",
      "source": [
        "def genTab(col):\n",
        "  racetab = pd.crosstab(X_train[col], y_train)\n",
        "  racetab.columns=['bads','goods']\n",
        "  racetab['%good']=racetab['goods']/racetab['goods'].sum()\n",
        "  racetab['%bad']=racetab['bads']/racetab['bads'].sum()\n",
        "  racetab['%bad']=racetab['%bad'].apply(lambda x: 0.00001 if x==0 else x)\n",
        "  racetab['%good']=racetab['%good'].apply(lambda x: 0.00001 if x==0 else x)\n",
        "  racetab['woe']=np.log(racetab['%good']/racetab['%bad'])\n",
        "  racetab['iv']=(racetab['%good']-racetab['%bad'])*racetab['woe']\n",
        "  return racetab"
      ],
      "metadata": {
        "id": "UhbVbZNOXOk7"
      },
      "execution_count": 338,
      "outputs": []
    },
    {
      "cell_type": "code",
      "source": [
        "X_train['age'],bins = pd.qcut(X_train['age'], q = 10, labels=False, retbins=True)\n",
        "X_train = X_train.astype({\"age\": str})\n",
        "del X_train['education']\n",
        "del X_train['fnlwgt']\n",
        "X_train['capital_gain']=X_train['capital_gain'].apply(lambda x: \"1\" if x>0 else \"2\" )\n",
        "X_train['capital_loss']=X_train['capital_loss'].apply(lambda x: \"1\" if x>0 else \"2\")\n",
        "#X_train['hours_per_week']=X_train['hours_per_week'].apply(lambda x: \"1\" if x>40 else (\"2\" if x==40 else \"3\"))"
      ],
      "metadata": {
        "id": "IYVfpQZ0XQho"
      },
      "execution_count": 339,
      "outputs": []
    },
    {
      "cell_type": "code",
      "source": [
        "ivs = []\n",
        "for col in X_train.columns:\n",
        "  print(col,genTab(col)['iv'].sum())\n",
        "  ivs.append(genTab(col)['iv'].sum())"
      ],
      "metadata": {
        "colab": {
          "base_uri": "https://localhost:8080/"
        },
        "id": "WA2YTGKzaNeS",
        "outputId": "cf7681a4-2455-40ed-9ba9-5ff220c2ca3f"
      },
      "execution_count": 340,
      "outputs": [
        {
          "output_type": "stream",
          "name": "stdout",
          "text": [
            "age 1.062335395478548\n",
            "workclass 0.17744074082401887\n",
            "education_num 0.7474264598100362\n",
            "marital_status 1.3269871344481838\n",
            "occupation 0.7783111520997515\n",
            "relationship 1.5220698177589431\n",
            "race 0.06328036474067357\n",
            "sex 0.29721911989763894\n",
            "capital_gain 0.3124767560683434\n",
            "capital_loss 0.0826558864224394\n",
            "hours_per_week 0.5094515106407002\n",
            "native_country 0.09495237339859568\n"
          ]
        }
      ]
    },
    {
      "cell_type": "code",
      "source": [
        "pd.DataFrame(zip(X_train.columns, ivs))"
      ],
      "metadata": {
        "colab": {
          "base_uri": "https://localhost:8080/",
          "height": 421
        },
        "id": "ZI6pDVwiQfKJ",
        "outputId": "40fd3808-2e3a-4462-e2d6-a887ed74e802"
      },
      "execution_count": 12,
      "outputs": [
        {
          "output_type": "execute_result",
          "data": {
            "text/plain": [
              "                 0         1\n",
              "0              age  1.263336\n",
              "1        workclass  0.177441\n",
              "2    education_num  0.747426\n",
              "3   marital_status  1.326987\n",
              "4       occupation  0.778311\n",
              "5     relationship  1.522070\n",
              "6             race  0.063280\n",
              "7              sex  0.297219\n",
              "8     capital_gain  0.312477\n",
              "9     capital_loss  0.082656\n",
              "10  hours_per_week  0.509452\n",
              "11  native_country  0.094952"
            ],
            "text/html": [
              "\n",
              "  <div id=\"df-1643f22f-1286-4d3e-bfd2-b1235fcd230d\">\n",
              "    <div class=\"colab-df-container\">\n",
              "      <div>\n",
              "<style scoped>\n",
              "    .dataframe tbody tr th:only-of-type {\n",
              "        vertical-align: middle;\n",
              "    }\n",
              "\n",
              "    .dataframe tbody tr th {\n",
              "        vertical-align: top;\n",
              "    }\n",
              "\n",
              "    .dataframe thead th {\n",
              "        text-align: right;\n",
              "    }\n",
              "</style>\n",
              "<table border=\"1\" class=\"dataframe\">\n",
              "  <thead>\n",
              "    <tr style=\"text-align: right;\">\n",
              "      <th></th>\n",
              "      <th>0</th>\n",
              "      <th>1</th>\n",
              "    </tr>\n",
              "  </thead>\n",
              "  <tbody>\n",
              "    <tr>\n",
              "      <th>0</th>\n",
              "      <td>age</td>\n",
              "      <td>1.263336</td>\n",
              "    </tr>\n",
              "    <tr>\n",
              "      <th>1</th>\n",
              "      <td>workclass</td>\n",
              "      <td>0.177441</td>\n",
              "    </tr>\n",
              "    <tr>\n",
              "      <th>2</th>\n",
              "      <td>education_num</td>\n",
              "      <td>0.747426</td>\n",
              "    </tr>\n",
              "    <tr>\n",
              "      <th>3</th>\n",
              "      <td>marital_status</td>\n",
              "      <td>1.326987</td>\n",
              "    </tr>\n",
              "    <tr>\n",
              "      <th>4</th>\n",
              "      <td>occupation</td>\n",
              "      <td>0.778311</td>\n",
              "    </tr>\n",
              "    <tr>\n",
              "      <th>5</th>\n",
              "      <td>relationship</td>\n",
              "      <td>1.522070</td>\n",
              "    </tr>\n",
              "    <tr>\n",
              "      <th>6</th>\n",
              "      <td>race</td>\n",
              "      <td>0.063280</td>\n",
              "    </tr>\n",
              "    <tr>\n",
              "      <th>7</th>\n",
              "      <td>sex</td>\n",
              "      <td>0.297219</td>\n",
              "    </tr>\n",
              "    <tr>\n",
              "      <th>8</th>\n",
              "      <td>capital_gain</td>\n",
              "      <td>0.312477</td>\n",
              "    </tr>\n",
              "    <tr>\n",
              "      <th>9</th>\n",
              "      <td>capital_loss</td>\n",
              "      <td>0.082656</td>\n",
              "    </tr>\n",
              "    <tr>\n",
              "      <th>10</th>\n",
              "      <td>hours_per_week</td>\n",
              "      <td>0.509452</td>\n",
              "    </tr>\n",
              "    <tr>\n",
              "      <th>11</th>\n",
              "      <td>native_country</td>\n",
              "      <td>0.094952</td>\n",
              "    </tr>\n",
              "  </tbody>\n",
              "</table>\n",
              "</div>\n",
              "      <button class=\"colab-df-convert\" onclick=\"convertToInteractive('df-1643f22f-1286-4d3e-bfd2-b1235fcd230d')\"\n",
              "              title=\"Convert this dataframe to an interactive table.\"\n",
              "              style=\"display:none;\">\n",
              "        \n",
              "  <svg xmlns=\"http://www.w3.org/2000/svg\" height=\"24px\"viewBox=\"0 0 24 24\"\n",
              "       width=\"24px\">\n",
              "    <path d=\"M0 0h24v24H0V0z\" fill=\"none\"/>\n",
              "    <path d=\"M18.56 5.44l.94 2.06.94-2.06 2.06-.94-2.06-.94-.94-2.06-.94 2.06-2.06.94zm-11 1L8.5 8.5l.94-2.06 2.06-.94-2.06-.94L8.5 2.5l-.94 2.06-2.06.94zm10 10l.94 2.06.94-2.06 2.06-.94-2.06-.94-.94-2.06-.94 2.06-2.06.94z\"/><path d=\"M17.41 7.96l-1.37-1.37c-.4-.4-.92-.59-1.43-.59-.52 0-1.04.2-1.43.59L10.3 9.45l-7.72 7.72c-.78.78-.78 2.05 0 2.83L4 21.41c.39.39.9.59 1.41.59.51 0 1.02-.2 1.41-.59l7.78-7.78 2.81-2.81c.8-.78.8-2.07 0-2.86zM5.41 20L4 18.59l7.72-7.72 1.47 1.35L5.41 20z\"/>\n",
              "  </svg>\n",
              "      </button>\n",
              "      \n",
              "  <style>\n",
              "    .colab-df-container {\n",
              "      display:flex;\n",
              "      flex-wrap:wrap;\n",
              "      gap: 12px;\n",
              "    }\n",
              "\n",
              "    .colab-df-convert {\n",
              "      background-color: #E8F0FE;\n",
              "      border: none;\n",
              "      border-radius: 50%;\n",
              "      cursor: pointer;\n",
              "      display: none;\n",
              "      fill: #1967D2;\n",
              "      height: 32px;\n",
              "      padding: 0 0 0 0;\n",
              "      width: 32px;\n",
              "    }\n",
              "\n",
              "    .colab-df-convert:hover {\n",
              "      background-color: #E2EBFA;\n",
              "      box-shadow: 0px 1px 2px rgba(60, 64, 67, 0.3), 0px 1px 3px 1px rgba(60, 64, 67, 0.15);\n",
              "      fill: #174EA6;\n",
              "    }\n",
              "\n",
              "    [theme=dark] .colab-df-convert {\n",
              "      background-color: #3B4455;\n",
              "      fill: #D2E3FC;\n",
              "    }\n",
              "\n",
              "    [theme=dark] .colab-df-convert:hover {\n",
              "      background-color: #434B5C;\n",
              "      box-shadow: 0px 1px 3px 1px rgba(0, 0, 0, 0.15);\n",
              "      filter: drop-shadow(0px 1px 2px rgba(0, 0, 0, 0.3));\n",
              "      fill: #FFFFFF;\n",
              "    }\n",
              "  </style>\n",
              "\n",
              "      <script>\n",
              "        const buttonEl =\n",
              "          document.querySelector('#df-1643f22f-1286-4d3e-bfd2-b1235fcd230d button.colab-df-convert');\n",
              "        buttonEl.style.display =\n",
              "          google.colab.kernel.accessAllowed ? 'block' : 'none';\n",
              "\n",
              "        async function convertToInteractive(key) {\n",
              "          const element = document.querySelector('#df-1643f22f-1286-4d3e-bfd2-b1235fcd230d');\n",
              "          const dataTable =\n",
              "            await google.colab.kernel.invokeFunction('convertToInteractive',\n",
              "                                                     [key], {});\n",
              "          if (!dataTable) return;\n",
              "\n",
              "          const docLinkHtml = 'Like what you see? Visit the ' +\n",
              "            '<a target=\"_blank\" href=https://colab.research.google.com/notebooks/data_table.ipynb>data table notebook</a>'\n",
              "            + ' to learn more about interactive tables.';\n",
              "          element.innerHTML = '';\n",
              "          dataTable['output_type'] = 'display_data';\n",
              "          await google.colab.output.renderOutput(dataTable, element);\n",
              "          const docLink = document.createElement('div');\n",
              "          docLink.innerHTML = docLinkHtml;\n",
              "          element.appendChild(docLink);\n",
              "        }\n",
              "      </script>\n",
              "    </div>\n",
              "  </div>\n",
              "  "
            ]
          },
          "metadata": {},
          "execution_count": 12
        }
      ]
    },
    {
      "cell_type": "code",
      "source": [
        "plt.figure(figsize = (15,8))\n",
        "sns.barplot(y=X_train.columns, x=ivs).set(title=\"Information Value\")"
      ],
      "metadata": {
        "colab": {
          "base_uri": "https://localhost:8080/",
          "height": 516
        },
        "id": "VVgkUQGoRL0O",
        "outputId": "88702cf3-36b2-45a9-c9ef-e3bea91a18a0"
      },
      "execution_count": 113,
      "outputs": [
        {
          "output_type": "execute_result",
          "data": {
            "text/plain": [
              "[Text(0.5, 1.0, 'Information Value')]"
            ]
          },
          "metadata": {},
          "execution_count": 113
        },
        {
          "output_type": "display_data",
          "data": {
            "text/plain": [
              "<Figure size 1080x576 with 1 Axes>"
            ],
            "image/png": "[encoded data removed]"
          },
          "metadata": {
            "needs_background": "light"
          }
        }
      ]
    },
    {
      "cell_type": "markdown",
      "source": [
        "Monotoniczna zależność z targetem, podobnie to wygląda dla hours_per_week, capital_loss i capital_gain"
      ],
      "metadata": {
        "id": "vDO7YPtxNecg"
      }
    },
    {
      "cell_type": "code",
      "source": [
        "genTab('education_num')"
      ],
      "metadata": {
        "colab": {
          "base_uri": "https://localhost:8080/",
          "height": 576
        },
        "id": "5yDP0TkQNQZ8",
        "outputId": "5e02c6a2-77a6-40b9-e6a3-b66fbf0d5d1f"
      },
      "execution_count": 341,
      "outputs": [
        {
          "output_type": "execute_result",
          "data": {
            "text/plain": [
              "               bads  goods     %good      %bad       woe        iv\n",
              "education_num                                                     \n",
              "1                53      1  0.000134  0.002229 -2.813588  0.005895\n",
              "2               145      5  0.000669  0.006098 -2.210592  0.012002\n",
              "3               334     16  0.002139  0.014046 -1.881849  0.022407\n",
              "4               577     39  0.005215  0.024265 -1.537577  0.029292\n",
              "5               453     23  0.003075  0.019050 -1.823694  0.029134\n",
              "6               837     56  0.007488  0.035199 -1.547769  0.042891\n",
              "7              1123     57  0.007621  0.047227 -1.824004  0.072240\n",
              "8               380     34  0.004546  0.015980 -1.257107  0.014374\n",
              "9              8561   1608  0.215002  0.360024 -0.515522  0.074762\n",
              "10             5599   1336  0.178634  0.235460 -0.276204  0.015696\n",
              "11              996    339  0.045327  0.041886  0.078957  0.000272\n",
              "12              750    255  0.034095  0.031540  0.077894  0.000199\n",
              "13             2971   2111  0.282257  0.124942  0.814967  0.128206\n",
              "14              761    922  0.123279  0.032003  1.348616  0.123096\n",
              "15              136    400  0.053483  0.005719  2.235513  0.106777\n",
              "16              103    277  0.037037  0.004332  2.145992  0.070186"
            ],
            "text/html": [
              "\n",
              "  <div id=\"df-1f20dc3d-29bc-4a68-83c8-26950efcdf07\">\n",
              "    <div class=\"colab-df-container\">\n",
              "      <div>\n",
              "<style scoped>\n",
              "    .dataframe tbody tr th:only-of-type {\n",
              "        vertical-align: middle;\n",
              "    }\n",
              "\n",
              "    .dataframe tbody tr th {\n",
              "        vertical-align: top;\n",
              "    }\n",
              "\n",
              "    .dataframe thead th {\n",
              "        text-align: right;\n",
              "    }\n",
              "</style>\n",
              "<table border=\"1\" class=\"dataframe\">\n",
              "  <thead>\n",
              "    <tr style=\"text-align: right;\">\n",
              "      <th></th>\n",
              "      <th>bads</th>\n",
              "      <th>goods</th>\n",
              "      <th>%good</th>\n",
              "      <th>%bad</th>\n",
              "      <th>woe</th>\n",
              "      <th>iv</th>\n",
              "    </tr>\n",
              "    <tr>\n",
              "      <th>education_num</th>\n",
              "      <th></th>\n",
              "      <th></th>\n",
              "      <th></th>\n",
              "      <th></th>\n",
              "      <th></th>\n",
              "      <th></th>\n",
              "    </tr>\n",
              "  </thead>\n",
              "  <tbody>\n",
              "    <tr>\n",
              "      <th>1</th>\n",
              "      <td>53</td>\n",
              "      <td>1</td>\n",
              "      <td>0.000134</td>\n",
              "      <td>0.002229</td>\n",
              "      <td>-2.813588</td>\n",
              "      <td>0.005895</td>\n",
              "    </tr>\n",
              "    <tr>\n",
              "      <th>2</th>\n",
              "      <td>145</td>\n",
              "      <td>5</td>\n",
              "      <td>0.000669</td>\n",
              "      <td>0.006098</td>\n",
              "      <td>-2.210592</td>\n",
              "      <td>0.012002</td>\n",
              "    </tr>\n",
              "    <tr>\n",
              "      <th>3</th>\n",
              "      <td>334</td>\n",
              "      <td>16</td>\n",
              "      <td>0.002139</td>\n",
              "      <td>0.014046</td>\n",
              "      <td>-1.881849</td>\n",
              "      <td>0.022407</td>\n",
              "    </tr>\n",
              "    <tr>\n",
              "      <th>4</th>\n",
              "      <td>577</td>\n",
              "      <td>39</td>\n",
              "      <td>0.005215</td>\n",
              "      <td>0.024265</td>\n",
              "      <td>-1.537577</td>\n",
              "      <td>0.029292</td>\n",
              "    </tr>\n",
              "    <tr>\n",
              "      <th>5</th>\n",
              "      <td>453</td>\n",
              "      <td>23</td>\n",
              "      <td>0.003075</td>\n",
              "      <td>0.019050</td>\n",
              "      <td>-1.823694</td>\n",
              "      <td>0.029134</td>\n",
              "    </tr>\n",
              "    <tr>\n",
              "      <th>6</th>\n",
              "      <td>837</td>\n",
              "      <td>56</td>\n",
              "      <td>0.007488</td>\n",
              "      <td>0.035199</td>\n",
              "      <td>-1.547769</td>\n",
              "      <td>0.042891</td>\n",
              "    </tr>\n",
              "    <tr>\n",
              "      <th>7</th>\n",
              "      <td>1123</td>\n",
              "      <td>57</td>\n",
              "      <td>0.007621</td>\n",
              "      <td>0.047227</td>\n",
              "      <td>-1.824004</td>\n",
              "      <td>0.072240</td>\n",
              "    </tr>\n",
              "    <tr>\n",
              "      <th>8</th>\n",
              "      <td>380</td>\n",
              "      <td>34</td>\n",
              "      <td>0.004546</td>\n",
              "      <td>0.015980</td>\n",
              "      <td>-1.257107</td>\n",
              "      <td>0.014374</td>\n",
              "    </tr>\n",
              "    <tr>\n",
              "      <th>9</th>\n",
              "      <td>8561</td>\n",
              "      <td>1608</td>\n",
              "      <td>0.215002</td>\n",
              "      <td>0.360024</td>\n",
              "      <td>-0.515522</td>\n",
              "      <td>0.074762</td>\n",
              "    </tr>\n",
              "    <tr>\n",
              "      <th>10</th>\n",
              "      <td>5599</td>\n",
              "      <td>1336</td>\n",
              "      <td>0.178634</td>\n",
              "      <td>0.235460</td>\n",
              "      <td>-0.276204</td>\n",
              "      <td>0.015696</td>\n",
              "    </tr>\n",
              "    <tr>\n",
              "      <th>11</th>\n",
              "      <td>996</td>\n",
              "      <td>339</td>\n",
              "      <td>0.045327</td>\n",
              "      <td>0.041886</td>\n",
              "      <td>0.078957</td>\n",
              "      <td>0.000272</td>\n",
              "    </tr>\n",
              "    <tr>\n",
              "      <th>12</th>\n",
              "      <td>750</td>\n",
              "      <td>255</td>\n",
              "      <td>0.034095</td>\n",
              "      <td>0.031540</td>\n",
              "      <td>0.077894</td>\n",
              "      <td>0.000199</td>\n",
              "    </tr>\n",
              "    <tr>\n",
              "      <th>13</th>\n",
              "      <td>2971</td>\n",
              "      <td>2111</td>\n",
              "      <td>0.282257</td>\n",
              "      <td>0.124942</td>\n",
              "      <td>0.814967</td>\n",
              "      <td>0.128206</td>\n",
              "    </tr>\n",
              "    <tr>\n",
              "      <th>14</th>\n",
              "      <td>761</td>\n",
              "      <td>922</td>\n",
              "      <td>0.123279</td>\n",
              "      <td>0.032003</td>\n",
              "      <td>1.348616</td>\n",
              "      <td>0.123096</td>\n",
              "    </tr>\n",
              "    <tr>\n",
              "      <th>15</th>\n",
              "      <td>136</td>\n",
              "      <td>400</td>\n",
              "      <td>0.053483</td>\n",
              "      <td>0.005719</td>\n",
              "      <td>2.235513</td>\n",
              "      <td>0.106777</td>\n",
              "    </tr>\n",
              "    <tr>\n",
              "      <th>16</th>\n",
              "      <td>103</td>\n",
              "      <td>277</td>\n",
              "      <td>0.037037</td>\n",
              "      <td>0.004332</td>\n",
              "      <td>2.145992</td>\n",
              "      <td>0.070186</td>\n",
              "    </tr>\n",
              "  </tbody>\n",
              "</table>\n",
              "</div>\n",
              "      <button class=\"colab-df-convert\" onclick=\"convertToInteractive('df-1f20dc3d-29bc-4a68-83c8-26950efcdf07')\"\n",
              "              title=\"Convert this dataframe to an interactive table.\"\n",
              "              style=\"display:none;\">\n",
              "        \n",
              "  <svg xmlns=\"http://www.w3.org/2000/svg\" height=\"24px\"viewBox=\"0 0 24 24\"\n",
              "       width=\"24px\">\n",
              "    <path d=\"M0 0h24v24H0V0z\" fill=\"none\"/>\n",
              "    <path d=\"M18.56 5.44l.94 2.06.94-2.06 2.06-.94-2.06-.94-.94-2.06-.94 2.06-2.06.94zm-11 1L8.5 8.5l.94-2.06 2.06-.94-2.06-.94L8.5 2.5l-.94 2.06-2.06.94zm10 10l.94 2.06.94-2.06 2.06-.94-2.06-.94-.94-2.06-.94 2.06-2.06.94z\"/><path d=\"M17.41 7.96l-1.37-1.37c-.4-.4-.92-.59-1.43-.59-.52 0-1.04.2-1.43.59L10.3 9.45l-7.72 7.72c-.78.78-.78 2.05 0 2.83L4 21.41c.39.39.9.59 1.41.59.51 0 1.02-.2 1.41-.59l7.78-7.78 2.81-2.81c.8-.78.8-2.07 0-2.86zM5.41 20L4 18.59l7.72-7.72 1.47 1.35L5.41 20z\"/>\n",
              "  </svg>\n",
              "      </button>\n",
              "      \n",
              "  <style>\n",
              "    .colab-df-container {\n",
              "      display:flex;\n",
              "      flex-wrap:wrap;\n",
              "      gap: 12px;\n",
              "    }\n",
              "\n",
              "    .colab-df-convert {\n",
              "      background-color: #E8F0FE;\n",
              "      border: none;\n",
              "      border-radius: 50%;\n",
              "      cursor: pointer;\n",
              "      display: none;\n",
              "      fill: #1967D2;\n",
              "      height: 32px;\n",
              "      padding: 0 0 0 0;\n",
              "      width: 32px;\n",
              "    }\n",
              "\n",
              "    .colab-df-convert:hover {\n",
              "      background-color: #E2EBFA;\n",
              "      box-shadow: 0px 1px 2px rgba(60, 64, 67, 0.3), 0px 1px 3px 1px rgba(60, 64, 67, 0.15);\n",
              "      fill: #174EA6;\n",
              "    }\n",
              "\n",
              "    [theme=dark] .colab-df-convert {\n",
              "      background-color: #3B4455;\n",
              "      fill: #D2E3FC;\n",
              "    }\n",
              "\n",
              "    [theme=dark] .colab-df-convert:hover {\n",
              "      background-color: #434B5C;\n",
              "      box-shadow: 0px 1px 3px 1px rgba(0, 0, 0, 0.15);\n",
              "      filter: drop-shadow(0px 1px 2px rgba(0, 0, 0, 0.3));\n",
              "      fill: #FFFFFF;\n",
              "    }\n",
              "  </style>\n",
              "\n",
              "      <script>\n",
              "        const buttonEl =\n",
              "          document.querySelector('#df-1f20dc3d-29bc-4a68-83c8-26950efcdf07 button.colab-df-convert');\n",
              "        buttonEl.style.display =\n",
              "          google.colab.kernel.accessAllowed ? 'block' : 'none';\n",
              "\n",
              "        async function convertToInteractive(key) {\n",
              "          const element = document.querySelector('#df-1f20dc3d-29bc-4a68-83c8-26950efcdf07');\n",
              "          const dataTable =\n",
              "            await google.colab.kernel.invokeFunction('convertToInteractive',\n",
              "                                                     [key], {});\n",
              "          if (!dataTable) return;\n",
              "\n",
              "          const docLinkHtml = 'Like what you see? Visit the ' +\n",
              "            '<a target=\"_blank\" href=https://colab.research.google.com/notebooks/data_table.ipynb>data table notebook</a>'\n",
              "            + ' to learn more about interactive tables.';\n",
              "          element.innerHTML = '';\n",
              "          dataTable['output_type'] = 'display_data';\n",
              "          await google.colab.output.renderOutput(dataTable, element);\n",
              "          const docLink = document.createElement('div');\n",
              "          docLink.innerHTML = docLinkHtml;\n",
              "          element.appendChild(docLink);\n",
              "        }\n",
              "      </script>\n",
              "    </div>\n",
              "  </div>\n",
              "  "
            ]
          },
          "metadata": {},
          "execution_count": 341
        }
      ]
    },
    {
      "cell_type": "code",
      "source": [
        "sns.regplot(x=X_train['education_num'], y=y_train, logistic=True)"
      ],
      "metadata": {
        "colab": {
          "base_uri": "https://localhost:8080/",
          "height": 297
        },
        "id": "jY_XiBEj3nYC",
        "outputId": "03added6-661f-4df5-a7f9-eb8f21b062ab"
      },
      "execution_count": 318,
      "outputs": [
        {
          "output_type": "execute_result",
          "data": {
            "text/plain": [
              "<matplotlib.axes._subplots.AxesSubplot at 0x7f3ec3112e90>"
            ]
          },
          "metadata": {},
          "execution_count": 318
        },
        {
          "output_type": "display_data",
          "data": {
            "text/plain": [
              "<Figure size 432x288 with 1 Axes>"
            ],
            "image/png": "[encoded data removed]"
          },
          "metadata": {
            "needs_background": "light"
          }
        }
      ]
    },
    {
      "cell_type": "markdown",
      "source": [
        "## Preprocessing"
      ],
      "metadata": {
        "id": "8llLtn1mxhMq"
      }
    },
    {
      "cell_type": "markdown",
      "source": [
        ""
      ],
      "metadata": {
        "id": "7MJTTNOxXHMa"
      }
    },
    {
      "cell_type": "code",
      "source": [
        "X_train, X_test, y_train, y_test = train_test_split(X_build, y_build, test_size=0.2, random_state=500, stratify=y_build)"
      ],
      "metadata": {
        "id": "mKLeJiVITWO8"
      },
      "execution_count": 290,
      "outputs": []
    },
    {
      "cell_type": "markdown",
      "source": [
        "WOE Encoding robimy tylko dla kolumn, które nie mają monotonicznego związku z zmienną target(wszytkie dyskretne i age)"
      ],
      "metadata": {
        "id": "6sQUYCsDW80k"
      }
    },
    {
      "cell_type": "code",
      "source": [
        "X_train, X_test, y_train, y_test = train_test_split(X_build, y_build, test_size=0.2, random_state=500, stratify=y_build)"
      ],
      "metadata": {
        "id": "7S19a2mDTYgK"
      },
      "execution_count": 321,
      "outputs": []
    },
    {
      "cell_type": "code",
      "source": [
        "cols_lepsze = ['age', 'workclass', 'marital_status', 'occupation',\n",
        "       'relationship', 'native_country']"
      ],
      "metadata": {
        "id": "2IGen4_rLyPk"
      },
      "execution_count": 322,
      "outputs": []
    },
    {
      "cell_type": "code",
      "source": [
        "woeEncoder = ce.WOEEncoder(cols=cols_lepsze)"
      ],
      "metadata": {
        "id": "3SaLONjf-80L"
      },
      "execution_count": 323,
      "outputs": []
    },
    {
      "cell_type": "code",
      "source": [
        "y_train = y_train.apply(lambda x: 1 if x=='>50K' else 0)"
      ],
      "metadata": {
        "id": "9OohpE_Sm8G8"
      },
      "execution_count": 324,
      "outputs": []
    },
    {
      "cell_type": "code",
      "source": [
        "X_train['age'],bins = pd.qcut(X_train['age'], q = 10, labels=False, retbins=True)\n",
        "#X_train['hours_per_week'],binsH = pd.qcut(X_train['hours_per_week'], q = 3, labels=False, retbins=True)#, #duplicates='drop')\n",
        "X_train = X_train.astype({\"age\": str})\n",
        "#X_train = X_train.astype({\"hours_per_week\": str})\n",
        "#X_train = X_train.astype({\"education_num\": str})\n",
        "del X_train['education']\n",
        "del X_train['fnlwgt']\n",
        "del X_train['race']\n",
        "del X_train['sex']\n",
        "#del X_train['capital_loss']\n",
        "#X_train['capital_gain']=X_train['capital_gain'].apply(lambda x: \"1\" if x>0 else \"2\" )\n",
        "#X_train['capital_loss']=X_train['capital_loss'].apply(lambda x: \"1\" if x>0 else \"2\")\n",
        "#X_train['hours_per_week']=X_train['hours_per_week'].apply(lambda x: \"3\" if x>40 else (\"2\" if x==40 else \"1\"))"
      ],
      "metadata": {
        "id": "DwLSUc0E5Pd9"
      },
      "execution_count": 325,
      "outputs": []
    },
    {
      "cell_type": "code",
      "source": [
        "y_test = y_test.apply(lambda x: 1 if x=='>50K' else 0)"
      ],
      "metadata": {
        "id": "Mc9zVWEUBMYh"
      },
      "execution_count": 326,
      "outputs": []
    },
    {
      "cell_type": "code",
      "source": [
        "X_test['age'] = pd.cut(X_test['age'], bins=[0., 22., 26., 30., 33., 37., 41., 46., 51., 58., 100.], labels=False,)\n",
        "#X_test['hours_per_week'] = pd.cut(X_test['hours_per_week'], bins=[ 0., 35., 40., 48., 120.], labels=False,)\n",
        "#X_test = X_test.astype({\"hours_per_week\": str})\n",
        "X_test = X_test.astype({\"age\": str})\n",
        "#X_test = X_test.astype({\"education_num\": str})\n",
        "del X_test['education']\n",
        "del X_test['fnlwgt']\n",
        "del X_test['race']\n",
        "del X_test['sex']\n",
        "#del X_test['capital_loss']\n",
        "#X_test['capital_gain']=X_test['capital_gain'].apply(lambda x: \"1\" if x>0 else \"2\" )\n",
        "#X_test['capital_loss']=X_test['capital_loss'].apply(lambda x: \"1\" if x>0 else \"2\")\n",
        "#X_test['hours_per_week']=X_test['hours_per_week'].apply(lambda x: \"1\" if x>40 else (\"2\" if x==40 else \"3\"))"
      ],
      "metadata": {
        "id": "QafsJwN3ApNq"
      },
      "execution_count": 327,
      "outputs": []
    },
    {
      "cell_type": "code",
      "source": [
        "X_ez = woeEncoder.fit_transform(X_train, y_train)"
      ],
      "metadata": {
        "id": "CZXCGpp60P_w"
      },
      "execution_count": 328,
      "outputs": []
    },
    {
      "cell_type": "code",
      "source": [
        "X_train"
      ],
      "metadata": {
        "colab": {
          "base_uri": "https://localhost:8080/",
          "height": 419
        },
        "id": "BMOP1tvaUl_8",
        "outputId": "52e935a2-f10a-401e-d750-f10ebb6f1be1"
      },
      "execution_count": 71,
      "outputs": [
        {
          "output_type": "execute_result",
          "data": {
            "text/plain": [
              "      age  workclass education_num      marital_status         occupation  \\\n",
              "33927   2    Private            10  Married-civ-spouse       Adm-clerical   \n",
              "11872   4    Private             9           Separated       Adm-clerical   \n",
              "34269   6  State-gov            11  Married-civ-spouse    Protective-serv   \n",
              "29168   5    Private             9  Married-civ-spouse       Craft-repair   \n",
              "7987    2    Private            10       Never-married  Machine-op-inspct   \n",
              "...    ..        ...           ...                 ...                ...   \n",
              "45937   6    Private             9  Married-civ-spouse  Handlers-cleaners   \n",
              "25922   3    Private            10       Never-married       Craft-repair   \n",
              "383     7    Private            10            Divorced              Sales   \n",
              "2377    8    Private             9  Married-civ-spouse  Machine-op-inspct   \n",
              "37794   8    Private            14            Divorced     Prof-specialty   \n",
              "\n",
              "        relationship  capital_gain  capital_loss hours_per_week native_country  \n",
              "33927      Own-child           0.0           0.0           40.0  United-States  \n",
              "11872      Unmarried        7443.0           0.0           35.0  United-States  \n",
              "34269        Husband           0.0           0.0           50.0  United-States  \n",
              "29168        Husband           0.0           0.0           40.0  United-States  \n",
              "7987   Not-in-family           0.0           0.0           40.0  United-States  \n",
              "...              ...           ...           ...            ...            ...  \n",
              "45937           Wife           0.0           0.0           48.0  United-States  \n",
              "25922      Own-child           0.0           0.0           40.0  United-States  \n",
              "383    Not-in-family           0.0           0.0           40.0  United-States  \n",
              "2377         Husband           0.0           0.0           40.0        England  \n",
              "37794      Unmarried           0.0           0.0           40.0  United-States  \n",
              "\n",
              "[31258 rows x 10 columns]"
            ],
            "text/html": [
              "\n",
              "  <div id=\"df-bc2cfce1-d6bd-4f83-938c-5b64004db636\">\n",
              "    <div class=\"colab-df-container\">\n",
              "      <div>\n",
              "<style scoped>\n",
              "    .dataframe tbody tr th:only-of-type {\n",
              "        vertical-align: middle;\n",
              "    }\n",
              "\n",
              "    .dataframe tbody tr th {\n",
              "        vertical-align: top;\n",
              "    }\n",
              "\n",
              "    .dataframe thead th {\n",
              "        text-align: right;\n",
              "    }\n",
              "</style>\n",
              "<table border=\"1\" class=\"dataframe\">\n",
              "  <thead>\n",
              "    <tr style=\"text-align: right;\">\n",
              "      <th></th>\n",
              "      <th>age</th>\n",
              "      <th>workclass</th>\n",
              "      <th>education_num</th>\n",
              "      <th>marital_status</th>\n",
              "      <th>occupation</th>\n",
              "      <th>relationship</th>\n",
              "      <th>capital_gain</th>\n",
              "      <th>capital_loss</th>\n",
              "      <th>hours_per_week</th>\n",
              "      <th>native_country</th>\n",
              "    </tr>\n",
              "  </thead>\n",
              "  <tbody>\n",
              "    <tr>\n",
              "      <th>33927</th>\n",
              "      <td>2</td>\n",
              "      <td>Private</td>\n",
              "      <td>10</td>\n",
              "      <td>Married-civ-spouse</td>\n",
              "      <td>Adm-clerical</td>\n",
              "      <td>Own-child</td>\n",
              "      <td>0.0</td>\n",
              "      <td>0.0</td>\n",
              "      <td>40.0</td>\n",
              "      <td>United-States</td>\n",
              "    </tr>\n",
              "    <tr>\n",
              "      <th>11872</th>\n",
              "      <td>4</td>\n",
              "      <td>Private</td>\n",
              "      <td>9</td>\n",
              "      <td>Separated</td>\n",
              "      <td>Adm-clerical</td>\n",
              "      <td>Unmarried</td>\n",
              "      <td>7443.0</td>\n",
              "      <td>0.0</td>\n",
              "      <td>35.0</td>\n",
              "      <td>United-States</td>\n",
              "    </tr>\n",
              "    <tr>\n",
              "      <th>34269</th>\n",
              "      <td>6</td>\n",
              "      <td>State-gov</td>\n",
              "      <td>11</td>\n",
              "      <td>Married-civ-spouse</td>\n",
              "      <td>Protective-serv</td>\n",
              "      <td>Husband</td>\n",
              "      <td>0.0</td>\n",
              "      <td>0.0</td>\n",
              "      <td>50.0</td>\n",
              "      <td>United-States</td>\n",
              "    </tr>\n",
              "    <tr>\n",
              "      <th>29168</th>\n",
              "      <td>5</td>\n",
              "      <td>Private</td>\n",
              "      <td>9</td>\n",
              "      <td>Married-civ-spouse</td>\n",
              "      <td>Craft-repair</td>\n",
              "      <td>Husband</td>\n",
              "      <td>0.0</td>\n",
              "      <td>0.0</td>\n",
              "      <td>40.0</td>\n",
              "      <td>United-States</td>\n",
              "    </tr>\n",
              "    <tr>\n",
              "      <th>7987</th>\n",
              "      <td>2</td>\n",
              "      <td>Private</td>\n",
              "      <td>10</td>\n",
              "      <td>Never-married</td>\n",
              "      <td>Machine-op-inspct</td>\n",
              "      <td>Not-in-family</td>\n",
              "      <td>0.0</td>\n",
              "      <td>0.0</td>\n",
              "      <td>40.0</td>\n",
              "      <td>United-States</td>\n",
              "    </tr>\n",
              "    <tr>\n",
              "      <th>...</th>\n",
              "      <td>...</td>\n",
              "      <td>...</td>\n",
              "      <td>...</td>\n",
              "      <td>...</td>\n",
              "      <td>...</td>\n",
              "      <td>...</td>\n",
              "      <td>...</td>\n",
              "      <td>...</td>\n",
              "      <td>...</td>\n",
              "      <td>...</td>\n",
              "    </tr>\n",
              "    <tr>\n",
              "      <th>45937</th>\n",
              "      <td>6</td>\n",
              "      <td>Private</td>\n",
              "      <td>9</td>\n",
              "      <td>Married-civ-spouse</td>\n",
              "      <td>Handlers-cleaners</td>\n",
              "      <td>Wife</td>\n",
              "      <td>0.0</td>\n",
              "      <td>0.0</td>\n",
              "      <td>48.0</td>\n",
              "      <td>United-States</td>\n",
              "    </tr>\n",
              "    <tr>\n",
              "      <th>25922</th>\n",
              "      <td>3</td>\n",
              "      <td>Private</td>\n",
              "      <td>10</td>\n",
              "      <td>Never-married</td>\n",
              "      <td>Craft-repair</td>\n",
              "      <td>Own-child</td>\n",
              "      <td>0.0</td>\n",
              "      <td>0.0</td>\n",
              "      <td>40.0</td>\n",
              "      <td>United-States</td>\n",
              "    </tr>\n",
              "    <tr>\n",
              "      <th>383</th>\n",
              "      <td>7</td>\n",
              "      <td>Private</td>\n",
              "      <td>10</td>\n",
              "      <td>Divorced</td>\n",
              "      <td>Sales</td>\n",
              "      <td>Not-in-family</td>\n",
              "      <td>0.0</td>\n",
              "      <td>0.0</td>\n",
              "      <td>40.0</td>\n",
              "      <td>United-States</td>\n",
              "    </tr>\n",
              "    <tr>\n",
              "      <th>2377</th>\n",
              "      <td>8</td>\n",
              "      <td>Private</td>\n",
              "      <td>9</td>\n",
              "      <td>Married-civ-spouse</td>\n",
              "      <td>Machine-op-inspct</td>\n",
              "      <td>Husband</td>\n",
              "      <td>0.0</td>\n",
              "      <td>0.0</td>\n",
              "      <td>40.0</td>\n",
              "      <td>England</td>\n",
              "    </tr>\n",
              "    <tr>\n",
              "      <th>37794</th>\n",
              "      <td>8</td>\n",
              "      <td>Private</td>\n",
              "      <td>14</td>\n",
              "      <td>Divorced</td>\n",
              "      <td>Prof-specialty</td>\n",
              "      <td>Unmarried</td>\n",
              "      <td>0.0</td>\n",
              "      <td>0.0</td>\n",
              "      <td>40.0</td>\n",
              "      <td>United-States</td>\n",
              "    </tr>\n",
              "  </tbody>\n",
              "</table>\n",
              "<p>31258 rows × 10 columns</p>\n",
              "</div>\n",
              "      <button class=\"colab-df-convert\" onclick=\"convertToInteractive('df-bc2cfce1-d6bd-4f83-938c-5b64004db636')\"\n",
              "              title=\"Convert this dataframe to an interactive table.\"\n",
              "              style=\"display:none;\">\n",
              "        \n",
              "  <svg xmlns=\"http://www.w3.org/2000/svg\" height=\"24px\"viewBox=\"0 0 24 24\"\n",
              "       width=\"24px\">\n",
              "    <path d=\"M0 0h24v24H0V0z\" fill=\"none\"/>\n",
              "    <path d=\"M18.56 5.44l.94 2.06.94-2.06 2.06-.94-2.06-.94-.94-2.06-.94 2.06-2.06.94zm-11 1L8.5 8.5l.94-2.06 2.06-.94-2.06-.94L8.5 2.5l-.94 2.06-2.06.94zm10 10l.94 2.06.94-2.06 2.06-.94-2.06-.94-.94-2.06-.94 2.06-2.06.94z\"/><path d=\"M17.41 7.96l-1.37-1.37c-.4-.4-.92-.59-1.43-.59-.52 0-1.04.2-1.43.59L10.3 9.45l-7.72 7.72c-.78.78-.78 2.05 0 2.83L4 21.41c.39.39.9.59 1.41.59.51 0 1.02-.2 1.41-.59l7.78-7.78 2.81-2.81c.8-.78.8-2.07 0-2.86zM5.41 20L4 18.59l7.72-7.72 1.47 1.35L5.41 20z\"/>\n",
              "  </svg>\n",
              "      </button>\n",
              "      \n",
              "  <style>\n",
              "    .colab-df-container {\n",
              "      display:flex;\n",
              "      flex-wrap:wrap;\n",
              "      gap: 12px;\n",
              "    }\n",
              "\n",
              "    .colab-df-convert {\n",
              "      background-color: #E8F0FE;\n",
              "      border: none;\n",
              "      border-radius: 50%;\n",
              "      cursor: pointer;\n",
              "      display: none;\n",
              "      fill: #1967D2;\n",
              "      height: 32px;\n",
              "      padding: 0 0 0 0;\n",
              "      width: 32px;\n",
              "    }\n",
              "\n",
              "    .colab-df-convert:hover {\n",
              "      background-color: #E2EBFA;\n",
              "      box-shadow: 0px 1px 2px rgba(60, 64, 67, 0.3), 0px 1px 3px 1px rgba(60, 64, 67, 0.15);\n",
              "      fill: #174EA6;\n",
              "    }\n",
              "\n",
              "    [theme=dark] .colab-df-convert {\n",
              "      background-color: #3B4455;\n",
              "      fill: #D2E3FC;\n",
              "    }\n",
              "\n",
              "    [theme=dark] .colab-df-convert:hover {\n",
              "      background-color: #434B5C;\n",
              "      box-shadow: 0px 1px 3px 1px rgba(0, 0, 0, 0.15);\n",
              "      filter: drop-shadow(0px 1px 2px rgba(0, 0, 0, 0.3));\n",
              "      fill: #FFFFFF;\n",
              "    }\n",
              "  </style>\n",
              "\n",
              "      <script>\n",
              "        const buttonEl =\n",
              "          document.querySelector('#df-bc2cfce1-d6bd-4f83-938c-5b64004db636 button.colab-df-convert');\n",
              "        buttonEl.style.display =\n",
              "          google.colab.kernel.accessAllowed ? 'block' : 'none';\n",
              "\n",
              "        async function convertToInteractive(key) {\n",
              "          const element = document.querySelector('#df-bc2cfce1-d6bd-4f83-938c-5b64004db636');\n",
              "          const dataTable =\n",
              "            await google.colab.kernel.invokeFunction('convertToInteractive',\n",
              "                                                     [key], {});\n",
              "          if (!dataTable) return;\n",
              "\n",
              "          const docLinkHtml = 'Like what you see? Visit the ' +\n",
              "            '<a target=\"_blank\" href=https://colab.research.google.com/notebooks/data_table.ipynb>data table notebook</a>'\n",
              "            + ' to learn more about interactive tables.';\n",
              "          element.innerHTML = '';\n",
              "          dataTable['output_type'] = 'display_data';\n",
              "          await google.colab.output.renderOutput(dataTable, element);\n",
              "          const docLink = document.createElement('div');\n",
              "          docLink.innerHTML = docLinkHtml;\n",
              "          element.appendChild(docLink);\n",
              "        }\n",
              "      </script>\n",
              "    </div>\n",
              "  </div>\n",
              "  "
            ]
          },
          "metadata": {},
          "execution_count": 71
        }
      ]
    },
    {
      "cell_type": "code",
      "source": [
        "X_ez"
      ],
      "metadata": {
        "colab": {
          "base_uri": "https://localhost:8080/",
          "height": 419
        },
        "id": "JxEki1KWYc9g",
        "outputId": "128c0ab4-2088-4255-9f71-6ef752a75db8"
      },
      "execution_count": 298,
      "outputs": [
        {
          "output_type": "execute_result",
          "data": {
            "text/plain": [
              "            age  workclass  education_num  marital_status  occupation  \\\n",
              "33927 -0.586708  -0.122944      -0.275818        0.938695   -0.644110   \n",
              "11872  0.302531  -0.122944      -0.515200       -1.399724   -0.644110   \n",
              "34269  0.591473   0.250169       0.080715        0.938695    0.359995   \n",
              "29168  0.483320  -0.122944      -0.515200        0.938695   -0.080783   \n",
              "7987  -0.586708  -0.122944      -0.275818       -1.852886   -0.841575   \n",
              "...         ...        ...            ...             ...         ...   \n",
              "45937  0.591473  -0.122944      -0.515200        0.938695   -1.493154   \n",
              "25922 -0.087864  -0.122944      -0.275818       -1.852886   -0.080783   \n",
              "383    0.747833  -0.122944      -0.275818       -1.064952    0.147807   \n",
              "2377   0.611153  -0.122944      -0.515200        0.938695   -0.841575   \n",
              "37794  0.611153  -0.122944       1.348203       -1.064952    0.986621   \n",
              "\n",
              "       relationship  capital_gain  capital_loss  hours_per_week  \\\n",
              "33927     -3.074009           0.0           0.0            40.0   \n",
              "11872     -1.584320        7443.0           0.0            35.0   \n",
              "34269      0.946833           0.0           0.0            50.0   \n",
              "29168      0.946833           0.0           0.0            40.0   \n",
              "7987      -1.003472           0.0           0.0            40.0   \n",
              "...             ...           ...           ...             ...   \n",
              "45937      1.040001           0.0           0.0            48.0   \n",
              "25922     -3.074009           0.0           0.0            40.0   \n",
              "383       -1.003472           0.0           0.0            40.0   \n",
              "2377       0.946833           0.0           0.0            40.0   \n",
              "37794     -1.584320           0.0           0.0            40.0   \n",
              "\n",
              "       native_country  \n",
              "33927        0.020452  \n",
              "11872        0.020452  \n",
              "34269        0.020452  \n",
              "29168        0.020452  \n",
              "7987         0.020452  \n",
              "...               ...  \n",
              "45937        0.020452  \n",
              "25922        0.020452  \n",
              "383          0.020452  \n",
              "2377         0.732706  \n",
              "37794        0.020452  \n",
              "\n",
              "[31258 rows x 10 columns]"
            ],
            "text/html": [
              "\n",
              "  <div id=\"df-275af9dc-e20e-40fa-b153-7bc89394944e\">\n",
              "    <div class=\"colab-df-container\">\n",
              "      <div>\n",
              "<style scoped>\n",
              "    .dataframe tbody tr th:only-of-type {\n",
              "        vertical-align: middle;\n",
              "    }\n",
              "\n",
              "    .dataframe tbody tr th {\n",
              "        vertical-align: top;\n",
              "    }\n",
              "\n",
              "    .dataframe thead th {\n",
              "        text-align: right;\n",
              "    }\n",
              "</style>\n",
              "<table border=\"1\" class=\"dataframe\">\n",
              "  <thead>\n",
              "    <tr style=\"text-align: right;\">\n",
              "      <th></th>\n",
              "      <th>age</th>\n",
              "      <th>workclass</th>\n",
              "      <th>education_num</th>\n",
              "      <th>marital_status</th>\n",
              "      <th>occupation</th>\n",
              "      <th>relationship</th>\n",
              "      <th>capital_gain</th>\n",
              "      <th>capital_loss</th>\n",
              "      <th>hours_per_week</th>\n",
              "      <th>native_country</th>\n",
              "    </tr>\n",
              "  </thead>\n",
              "  <tbody>\n",
              "    <tr>\n",
              "      <th>33927</th>\n",
              "      <td>-0.586708</td>\n",
              "      <td>-0.122944</td>\n",
              "      <td>-0.275818</td>\n",
              "      <td>0.938695</td>\n",
              "      <td>-0.644110</td>\n",
              "      <td>-3.074009</td>\n",
              "      <td>0.0</td>\n",
              "      <td>0.0</td>\n",
              "      <td>40.0</td>\n",
              "      <td>0.020452</td>\n",
              "    </tr>\n",
              "    <tr>\n",
              "      <th>11872</th>\n",
              "      <td>0.302531</td>\n",
              "      <td>-0.122944</td>\n",
              "      <td>-0.515200</td>\n",
              "      <td>-1.399724</td>\n",
              "      <td>-0.644110</td>\n",
              "      <td>-1.584320</td>\n",
              "      <td>7443.0</td>\n",
              "      <td>0.0</td>\n",
              "      <td>35.0</td>\n",
              "      <td>0.020452</td>\n",
              "    </tr>\n",
              "    <tr>\n",
              "      <th>34269</th>\n",
              "      <td>0.591473</td>\n",
              "      <td>0.250169</td>\n",
              "      <td>0.080715</td>\n",
              "      <td>0.938695</td>\n",
              "      <td>0.359995</td>\n",
              "      <td>0.946833</td>\n",
              "      <td>0.0</td>\n",
              "      <td>0.0</td>\n",
              "      <td>50.0</td>\n",
              "      <td>0.020452</td>\n",
              "    </tr>\n",
              "    <tr>\n",
              "      <th>29168</th>\n",
              "      <td>0.483320</td>\n",
              "      <td>-0.122944</td>\n",
              "      <td>-0.515200</td>\n",
              "      <td>0.938695</td>\n",
              "      <td>-0.080783</td>\n",
              "      <td>0.946833</td>\n",
              "      <td>0.0</td>\n",
              "      <td>0.0</td>\n",
              "      <td>40.0</td>\n",
              "      <td>0.020452</td>\n",
              "    </tr>\n",
              "    <tr>\n",
              "      <th>7987</th>\n",
              "      <td>-0.586708</td>\n",
              "      <td>-0.122944</td>\n",
              "      <td>-0.275818</td>\n",
              "      <td>-1.852886</td>\n",
              "      <td>-0.841575</td>\n",
              "      <td>-1.003472</td>\n",
              "      <td>0.0</td>\n",
              "      <td>0.0</td>\n",
              "      <td>40.0</td>\n",
              "      <td>0.020452</td>\n",
              "    </tr>\n",
              "    <tr>\n",
              "      <th>...</th>\n",
              "      <td>...</td>\n",
              "      <td>...</td>\n",
              "      <td>...</td>\n",
              "      <td>...</td>\n",
              "      <td>...</td>\n",
              "      <td>...</td>\n",
              "      <td>...</td>\n",
              "      <td>...</td>\n",
              "      <td>...</td>\n",
              "      <td>...</td>\n",
              "    </tr>\n",
              "    <tr>\n",
              "      <th>45937</th>\n",
              "      <td>0.591473</td>\n",
              "      <td>-0.122944</td>\n",
              "      <td>-0.515200</td>\n",
              "      <td>0.938695</td>\n",
              "      <td>-1.493154</td>\n",
              "      <td>1.040001</td>\n",
              "      <td>0.0</td>\n",
              "      <td>0.0</td>\n",
              "      <td>48.0</td>\n",
              "      <td>0.020452</td>\n",
              "    </tr>\n",
              "    <tr>\n",
              "      <th>25922</th>\n",
              "      <td>-0.087864</td>\n",
              "      <td>-0.122944</td>\n",
              "      <td>-0.275818</td>\n",
              "      <td>-1.852886</td>\n",
              "      <td>-0.080783</td>\n",
              "      <td>-3.074009</td>\n",
              "      <td>0.0</td>\n",
              "      <td>0.0</td>\n",
              "      <td>40.0</td>\n",
              "      <td>0.020452</td>\n",
              "    </tr>\n",
              "    <tr>\n",
              "      <th>383</th>\n",
              "      <td>0.747833</td>\n",
              "      <td>-0.122944</td>\n",
              "      <td>-0.275818</td>\n",
              "      <td>-1.064952</td>\n",
              "      <td>0.147807</td>\n",
              "      <td>-1.003472</td>\n",
              "      <td>0.0</td>\n",
              "      <td>0.0</td>\n",
              "      <td>40.0</td>\n",
              "      <td>0.020452</td>\n",
              "    </tr>\n",
              "    <tr>\n",
              "      <th>2377</th>\n",
              "      <td>0.611153</td>\n",
              "      <td>-0.122944</td>\n",
              "      <td>-0.515200</td>\n",
              "      <td>0.938695</td>\n",
              "      <td>-0.841575</td>\n",
              "      <td>0.946833</td>\n",
              "      <td>0.0</td>\n",
              "      <td>0.0</td>\n",
              "      <td>40.0</td>\n",
              "      <td>0.732706</td>\n",
              "    </tr>\n",
              "    <tr>\n",
              "      <th>37794</th>\n",
              "      <td>0.611153</td>\n",
              "      <td>-0.122944</td>\n",
              "      <td>1.348203</td>\n",
              "      <td>-1.064952</td>\n",
              "      <td>0.986621</td>\n",
              "      <td>-1.584320</td>\n",
              "      <td>0.0</td>\n",
              "      <td>0.0</td>\n",
              "      <td>40.0</td>\n",
              "      <td>0.020452</td>\n",
              "    </tr>\n",
              "  </tbody>\n",
              "</table>\n",
              "<p>31258 rows × 10 columns</p>\n",
              "</div>\n",
              "      <button class=\"colab-df-convert\" onclick=\"convertToInteractive('df-275af9dc-e20e-40fa-b153-7bc89394944e')\"\n",
              "              title=\"Convert this dataframe to an interactive table.\"\n",
              "              style=\"display:none;\">\n",
              "        \n",
              "  <svg xmlns=\"http://www.w3.org/2000/svg\" height=\"24px\"viewBox=\"0 0 24 24\"\n",
              "       width=\"24px\">\n",
              "    <path d=\"M0 0h24v24H0V0z\" fill=\"none\"/>\n",
              "    <path d=\"M18.56 5.44l.94 2.06.94-2.06 2.06-.94-2.06-.94-.94-2.06-.94 2.06-2.06.94zm-11 1L8.5 8.5l.94-2.06 2.06-.94-2.06-.94L8.5 2.5l-.94 2.06-2.06.94zm10 10l.94 2.06.94-2.06 2.06-.94-2.06-.94-.94-2.06-.94 2.06-2.06.94z\"/><path d=\"M17.41 7.96l-1.37-1.37c-.4-.4-.92-.59-1.43-.59-.52 0-1.04.2-1.43.59L10.3 9.45l-7.72 7.72c-.78.78-.78 2.05 0 2.83L4 21.41c.39.39.9.59 1.41.59.51 0 1.02-.2 1.41-.59l7.78-7.78 2.81-2.81c.8-.78.8-2.07 0-2.86zM5.41 20L4 18.59l7.72-7.72 1.47 1.35L5.41 20z\"/>\n",
              "  </svg>\n",
              "      </button>\n",
              "      \n",
              "  <style>\n",
              "    .colab-df-container {\n",
              "      display:flex;\n",
              "      flex-wrap:wrap;\n",
              "      gap: 12px;\n",
              "    }\n",
              "\n",
              "    .colab-df-convert {\n",
              "      background-color: #E8F0FE;\n",
              "      border: none;\n",
              "      border-radius: 50%;\n",
              "      cursor: pointer;\n",
              "      display: none;\n",
              "      fill: #1967D2;\n",
              "      height: 32px;\n",
              "      padding: 0 0 0 0;\n",
              "      width: 32px;\n",
              "    }\n",
              "\n",
              "    .colab-df-convert:hover {\n",
              "      background-color: #E2EBFA;\n",
              "      box-shadow: 0px 1px 2px rgba(60, 64, 67, 0.3), 0px 1px 3px 1px rgba(60, 64, 67, 0.15);\n",
              "      fill: #174EA6;\n",
              "    }\n",
              "\n",
              "    [theme=dark] .colab-df-convert {\n",
              "      background-color: #3B4455;\n",
              "      fill: #D2E3FC;\n",
              "    }\n",
              "\n",
              "    [theme=dark] .colab-df-convert:hover {\n",
              "      background-color: #434B5C;\n",
              "      box-shadow: 0px 1px 3px 1px rgba(0, 0, 0, 0.15);\n",
              "      filter: drop-shadow(0px 1px 2px rgba(0, 0, 0, 0.3));\n",
              "      fill: #FFFFFF;\n",
              "    }\n",
              "  </style>\n",
              "\n",
              "      <script>\n",
              "        const buttonEl =\n",
              "          document.querySelector('#df-275af9dc-e20e-40fa-b153-7bc89394944e button.colab-df-convert');\n",
              "        buttonEl.style.display =\n",
              "          google.colab.kernel.accessAllowed ? 'block' : 'none';\n",
              "\n",
              "        async function convertToInteractive(key) {\n",
              "          const element = document.querySelector('#df-275af9dc-e20e-40fa-b153-7bc89394944e');\n",
              "          const dataTable =\n",
              "            await google.colab.kernel.invokeFunction('convertToInteractive',\n",
              "                                                     [key], {});\n",
              "          if (!dataTable) return;\n",
              "\n",
              "          const docLinkHtml = 'Like what you see? Visit the ' +\n",
              "            '<a target=\"_blank\" href=https://colab.research.google.com/notebooks/data_table.ipynb>data table notebook</a>'\n",
              "            + ' to learn more about interactive tables.';\n",
              "          element.innerHTML = '';\n",
              "          dataTable['output_type'] = 'display_data';\n",
              "          await google.colab.output.renderOutput(dataTable, element);\n",
              "          const docLink = document.createElement('div');\n",
              "          docLink.innerHTML = docLinkHtml;\n",
              "          element.appendChild(docLink);\n",
              "        }\n",
              "      </script>\n",
              "    </div>\n",
              "  </div>\n",
              "  "
            ]
          },
          "metadata": {},
          "execution_count": 298
        }
      ]
    },
    {
      "cell_type": "markdown",
      "source": [
        "ZLaczenie bliskich WOE i znowu WOE"
      ],
      "metadata": {
        "id": "v3msk65EyFvc"
      }
    },
    {
      "cell_type": "code",
      "source": [
        "for col in cols_lepsze:\n",
        "  X_ez[col] = round(X_ez[col],1)\n",
        "  X_ez = X_ez.astype({col: str})"
      ],
      "metadata": {
        "id": "XjVW0dz1tP3C"
      },
      "execution_count": 329,
      "outputs": []
    },
    {
      "cell_type": "code",
      "source": [
        "woeEncoder = ce.WOEEncoder(cols=cols_lepsze)\n",
        "X_ez = woeEncoder.fit_transform(X_ez, y_train)"
      ],
      "metadata": {
        "id": "CN5o5aXXtj78"
      },
      "execution_count": 330,
      "outputs": []
    },
    {
      "cell_type": "markdown",
      "source": [
        "Zakodowanie przy pomocy dictionaries"
      ],
      "metadata": {
        "id": "g7axWjuQpq0I"
      }
    },
    {
      "cell_type": "code",
      "source": [
        "import collections"
      ],
      "metadata": {
        "id": "ZA0x9GEtM9R5"
      },
      "execution_count": 25,
      "outputs": []
    },
    {
      "cell_type": "code",
      "source": [
        "for col in cols_lepsze:\n",
        "  if col=='native_country':\n",
        "    #na wypadek braku mało znanego kraju w ramce treningowej\n",
        "    dik = dict(zip(X_train[col],X_ez[col]))\n",
        "    defd = collections.defaultdict(lambda : dik['United-States'], dik)\n",
        "    X_test[col] = X_test[col].map(defd)\n",
        "  else:\n",
        "    X_test[col] = X_test[col].map(dict(zip(X_train[col],X_ez[col])))\n"
      ],
      "metadata": {
        "id": "pMGOfnzBBmuI"
      },
      "execution_count": 331,
      "outputs": []
    },
    {
      "cell_type": "code",
      "source": [
        "X_train.head()"
      ],
      "metadata": {
        "id": "VczNvpY1zuKW",
        "colab": {
          "base_uri": "https://localhost:8080/",
          "height": 204
        },
        "outputId": "8b2993ee-87be-4a42-83b9-0778e0989945"
      },
      "execution_count": 190,
      "outputs": [
        {
          "output_type": "execute_result",
          "data": {
            "text/plain": [
              "      age  workclass education_num      marital_status         occupation  \\\n",
              "33927   2    Private            10  Married-civ-spouse       Adm-clerical   \n",
              "11872   4    Private             9           Separated       Adm-clerical   \n",
              "34269   6  State-gov            11  Married-civ-spouse    Protective-serv   \n",
              "29168   5    Private             9  Married-civ-spouse       Craft-repair   \n",
              "7987    2    Private            10       Never-married  Machine-op-inspct   \n",
              "\n",
              "        relationship  capital_gain  capital_loss hours_per_week native_country  \n",
              "33927      Own-child           0.0           0.0              2  United-States  \n",
              "11872      Unmarried        7443.0           0.0              1  United-States  \n",
              "34269        Husband           0.0           0.0              3  United-States  \n",
              "29168        Husband           0.0           0.0              2  United-States  \n",
              "7987   Not-in-family           0.0           0.0              2  United-States  "
            ],
            "text/html": [
              "\n",
              "  <div id=\"df-e1d7f980-f79b-4829-903b-2951013fd4e5\">\n",
              "    <div class=\"colab-df-container\">\n",
              "      <div>\n",
              "<style scoped>\n",
              "    .dataframe tbody tr th:only-of-type {\n",
              "        vertical-align: middle;\n",
              "    }\n",
              "\n",
              "    .dataframe tbody tr th {\n",
              "        vertical-align: top;\n",
              "    }\n",
              "\n",
              "    .dataframe thead th {\n",
              "        text-align: right;\n",
              "    }\n",
              "</style>\n",
              "<table border=\"1\" class=\"dataframe\">\n",
              "  <thead>\n",
              "    <tr style=\"text-align: right;\">\n",
              "      <th></th>\n",
              "      <th>age</th>\n",
              "      <th>workclass</th>\n",
              "      <th>education_num</th>\n",
              "      <th>marital_status</th>\n",
              "      <th>occupation</th>\n",
              "      <th>relationship</th>\n",
              "      <th>capital_gain</th>\n",
              "      <th>capital_loss</th>\n",
              "      <th>hours_per_week</th>\n",
              "      <th>native_country</th>\n",
              "    </tr>\n",
              "  </thead>\n",
              "  <tbody>\n",
              "    <tr>\n",
              "      <th>33927</th>\n",
              "      <td>2</td>\n",
              "      <td>Private</td>\n",
              "      <td>10</td>\n",
              "      <td>Married-civ-spouse</td>\n",
              "      <td>Adm-clerical</td>\n",
              "      <td>Own-child</td>\n",
              "      <td>0.0</td>\n",
              "      <td>0.0</td>\n",
              "      <td>2</td>\n",
              "      <td>United-States</td>\n",
              "    </tr>\n",
              "    <tr>\n",
              "      <th>11872</th>\n",
              "      <td>4</td>\n",
              "      <td>Private</td>\n",
              "      <td>9</td>\n",
              "      <td>Separated</td>\n",
              "      <td>Adm-clerical</td>\n",
              "      <td>Unmarried</td>\n",
              "      <td>7443.0</td>\n",
              "      <td>0.0</td>\n",
              "      <td>1</td>\n",
              "      <td>United-States</td>\n",
              "    </tr>\n",
              "    <tr>\n",
              "      <th>34269</th>\n",
              "      <td>6</td>\n",
              "      <td>State-gov</td>\n",
              "      <td>11</td>\n",
              "      <td>Married-civ-spouse</td>\n",
              "      <td>Protective-serv</td>\n",
              "      <td>Husband</td>\n",
              "      <td>0.0</td>\n",
              "      <td>0.0</td>\n",
              "      <td>3</td>\n",
              "      <td>United-States</td>\n",
              "    </tr>\n",
              "    <tr>\n",
              "      <th>29168</th>\n",
              "      <td>5</td>\n",
              "      <td>Private</td>\n",
              "      <td>9</td>\n",
              "      <td>Married-civ-spouse</td>\n",
              "      <td>Craft-repair</td>\n",
              "      <td>Husband</td>\n",
              "      <td>0.0</td>\n",
              "      <td>0.0</td>\n",
              "      <td>2</td>\n",
              "      <td>United-States</td>\n",
              "    </tr>\n",
              "    <tr>\n",
              "      <th>7987</th>\n",
              "      <td>2</td>\n",
              "      <td>Private</td>\n",
              "      <td>10</td>\n",
              "      <td>Never-married</td>\n",
              "      <td>Machine-op-inspct</td>\n",
              "      <td>Not-in-family</td>\n",
              "      <td>0.0</td>\n",
              "      <td>0.0</td>\n",
              "      <td>2</td>\n",
              "      <td>United-States</td>\n",
              "    </tr>\n",
              "  </tbody>\n",
              "</table>\n",
              "</div>\n",
              "      <button class=\"colab-df-convert\" onclick=\"convertToInteractive('df-e1d7f980-f79b-4829-903b-2951013fd4e5')\"\n",
              "              title=\"Convert this dataframe to an interactive table.\"\n",
              "              style=\"display:none;\">\n",
              "        \n",
              "  <svg xmlns=\"http://www.w3.org/2000/svg\" height=\"24px\"viewBox=\"0 0 24 24\"\n",
              "       width=\"24px\">\n",
              "    <path d=\"M0 0h24v24H0V0z\" fill=\"none\"/>\n",
              "    <path d=\"M18.56 5.44l.94 2.06.94-2.06 2.06-.94-2.06-.94-.94-2.06-.94 2.06-2.06.94zm-11 1L8.5 8.5l.94-2.06 2.06-.94-2.06-.94L8.5 2.5l-.94 2.06-2.06.94zm10 10l.94 2.06.94-2.06 2.06-.94-2.06-.94-.94-2.06-.94 2.06-2.06.94z\"/><path d=\"M17.41 7.96l-1.37-1.37c-.4-.4-.92-.59-1.43-.59-.52 0-1.04.2-1.43.59L10.3 9.45l-7.72 7.72c-.78.78-.78 2.05 0 2.83L4 21.41c.39.39.9.59 1.41.59.51 0 1.02-.2 1.41-.59l7.78-7.78 2.81-2.81c.8-.78.8-2.07 0-2.86zM5.41 20L4 18.59l7.72-7.72 1.47 1.35L5.41 20z\"/>\n",
              "  </svg>\n",
              "      </button>\n",
              "      \n",
              "  <style>\n",
              "    .colab-df-container {\n",
              "      display:flex;\n",
              "      flex-wrap:wrap;\n",
              "      gap: 12px;\n",
              "    }\n",
              "\n",
              "    .colab-df-convert {\n",
              "      background-color: #E8F0FE;\n",
              "      border: none;\n",
              "      border-radius: 50%;\n",
              "      cursor: pointer;\n",
              "      display: none;\n",
              "      fill: #1967D2;\n",
              "      height: 32px;\n",
              "      padding: 0 0 0 0;\n",
              "      width: 32px;\n",
              "    }\n",
              "\n",
              "    .colab-df-convert:hover {\n",
              "      background-color: #E2EBFA;\n",
              "      box-shadow: 0px 1px 2px rgba(60, 64, 67, 0.3), 0px 1px 3px 1px rgba(60, 64, 67, 0.15);\n",
              "      fill: #174EA6;\n",
              "    }\n",
              "\n",
              "    [theme=dark] .colab-df-convert {\n",
              "      background-color: #3B4455;\n",
              "      fill: #D2E3FC;\n",
              "    }\n",
              "\n",
              "    [theme=dark] .colab-df-convert:hover {\n",
              "      background-color: #434B5C;\n",
              "      box-shadow: 0px 1px 3px 1px rgba(0, 0, 0, 0.15);\n",
              "      filter: drop-shadow(0px 1px 2px rgba(0, 0, 0, 0.3));\n",
              "      fill: #FFFFFF;\n",
              "    }\n",
              "  </style>\n",
              "\n",
              "      <script>\n",
              "        const buttonEl =\n",
              "          document.querySelector('#df-e1d7f980-f79b-4829-903b-2951013fd4e5 button.colab-df-convert');\n",
              "        buttonEl.style.display =\n",
              "          google.colab.kernel.accessAllowed ? 'block' : 'none';\n",
              "\n",
              "        async function convertToInteractive(key) {\n",
              "          const element = document.querySelector('#df-e1d7f980-f79b-4829-903b-2951013fd4e5');\n",
              "          const dataTable =\n",
              "            await google.colab.kernel.invokeFunction('convertToInteractive',\n",
              "                                                     [key], {});\n",
              "          if (!dataTable) return;\n",
              "\n",
              "          const docLinkHtml = 'Like what you see? Visit the ' +\n",
              "            '<a target=\"_blank\" href=https://colab.research.google.com/notebooks/data_table.ipynb>data table notebook</a>'\n",
              "            + ' to learn more about interactive tables.';\n",
              "          element.innerHTML = '';\n",
              "          dataTable['output_type'] = 'display_data';\n",
              "          await google.colab.output.renderOutput(dataTable, element);\n",
              "          const docLink = document.createElement('div');\n",
              "          docLink.innerHTML = docLinkHtml;\n",
              "          element.appendChild(docLink);\n",
              "        }\n",
              "      </script>\n",
              "    </div>\n",
              "  </div>\n",
              "  "
            ]
          },
          "metadata": {},
          "execution_count": 190
        }
      ]
    },
    {
      "cell_type": "code",
      "source": [
        "X_ez.head()"
      ],
      "metadata": {
        "id": "usZlwvrI0mkX",
        "colab": {
          "base_uri": "https://localhost:8080/",
          "height": 204
        },
        "outputId": "6bdf2ed2-9674-4dd2-e546-653845290bf6"
      },
      "execution_count": 286,
      "outputs": [
        {
          "output_type": "execute_result",
          "data": {
            "text/plain": [
              "            age  workclass  education_num  marital_status  occupation  \\\n",
              "33927 -0.586708  -0.122944             10        0.938695   -0.644110   \n",
              "11872  0.302531  -0.122944              9       -1.399724   -0.644110   \n",
              "34269  0.591473   0.250169             11        0.938695    0.359995   \n",
              "29168  0.483320  -0.122944              9        0.938695   -0.080783   \n",
              "7987  -0.586708  -0.122944             10       -1.852886   -0.841575   \n",
              "\n",
              "       relationship  capital_gain  capital_loss  hours_per_week  \\\n",
              "33927     -3.074009           0.0           0.0            40.0   \n",
              "11872     -1.584320        7443.0           0.0            35.0   \n",
              "34269      0.946833           0.0           0.0            50.0   \n",
              "29168      0.946833           0.0           0.0            40.0   \n",
              "7987      -1.003472           0.0           0.0            40.0   \n",
              "\n",
              "       native_country  \n",
              "33927        0.020452  \n",
              "11872        0.020452  \n",
              "34269        0.020452  \n",
              "29168        0.020452  \n",
              "7987         0.020452  "
            ],
            "text/html": [
              "\n",
              "  <div id=\"df-e583d238-be50-4a6b-8fa5-d567a0b57f85\">\n",
              "    <div class=\"colab-df-container\">\n",
              "      <div>\n",
              "<style scoped>\n",
              "    .dataframe tbody tr th:only-of-type {\n",
              "        vertical-align: middle;\n",
              "    }\n",
              "\n",
              "    .dataframe tbody tr th {\n",
              "        vertical-align: top;\n",
              "    }\n",
              "\n",
              "    .dataframe thead th {\n",
              "        text-align: right;\n",
              "    }\n",
              "</style>\n",
              "<table border=\"1\" class=\"dataframe\">\n",
              "  <thead>\n",
              "    <tr style=\"text-align: right;\">\n",
              "      <th></th>\n",
              "      <th>age</th>\n",
              "      <th>workclass</th>\n",
              "      <th>education_num</th>\n",
              "      <th>marital_status</th>\n",
              "      <th>occupation</th>\n",
              "      <th>relationship</th>\n",
              "      <th>capital_gain</th>\n",
              "      <th>capital_loss</th>\n",
              "      <th>hours_per_week</th>\n",
              "      <th>native_country</th>\n",
              "    </tr>\n",
              "  </thead>\n",
              "  <tbody>\n",
              "    <tr>\n",
              "      <th>33927</th>\n",
              "      <td>-0.586708</td>\n",
              "      <td>-0.122944</td>\n",
              "      <td>10</td>\n",
              "      <td>0.938695</td>\n",
              "      <td>-0.644110</td>\n",
              "      <td>-3.074009</td>\n",
              "      <td>0.0</td>\n",
              "      <td>0.0</td>\n",
              "      <td>40.0</td>\n",
              "      <td>0.020452</td>\n",
              "    </tr>\n",
              "    <tr>\n",
              "      <th>11872</th>\n",
              "      <td>0.302531</td>\n",
              "      <td>-0.122944</td>\n",
              "      <td>9</td>\n",
              "      <td>-1.399724</td>\n",
              "      <td>-0.644110</td>\n",
              "      <td>-1.584320</td>\n",
              "      <td>7443.0</td>\n",
              "      <td>0.0</td>\n",
              "      <td>35.0</td>\n",
              "      <td>0.020452</td>\n",
              "    </tr>\n",
              "    <tr>\n",
              "      <th>34269</th>\n",
              "      <td>0.591473</td>\n",
              "      <td>0.250169</td>\n",
              "      <td>11</td>\n",
              "      <td>0.938695</td>\n",
              "      <td>0.359995</td>\n",
              "      <td>0.946833</td>\n",
              "      <td>0.0</td>\n",
              "      <td>0.0</td>\n",
              "      <td>50.0</td>\n",
              "      <td>0.020452</td>\n",
              "    </tr>\n",
              "    <tr>\n",
              "      <th>29168</th>\n",
              "      <td>0.483320</td>\n",
              "      <td>-0.122944</td>\n",
              "      <td>9</td>\n",
              "      <td>0.938695</td>\n",
              "      <td>-0.080783</td>\n",
              "      <td>0.946833</td>\n",
              "      <td>0.0</td>\n",
              "      <td>0.0</td>\n",
              "      <td>40.0</td>\n",
              "      <td>0.020452</td>\n",
              "    </tr>\n",
              "    <tr>\n",
              "      <th>7987</th>\n",
              "      <td>-0.586708</td>\n",
              "      <td>-0.122944</td>\n",
              "      <td>10</td>\n",
              "      <td>-1.852886</td>\n",
              "      <td>-0.841575</td>\n",
              "      <td>-1.003472</td>\n",
              "      <td>0.0</td>\n",
              "      <td>0.0</td>\n",
              "      <td>40.0</td>\n",
              "      <td>0.020452</td>\n",
              "    </tr>\n",
              "  </tbody>\n",
              "</table>\n",
              "</div>\n",
              "      <button class=\"colab-df-convert\" onclick=\"convertToInteractive('df-e583d238-be50-4a6b-8fa5-d567a0b57f85')\"\n",
              "              title=\"Convert this dataframe to an interactive table.\"\n",
              "              style=\"display:none;\">\n",
              "        \n",
              "  <svg xmlns=\"http://www.w3.org/2000/svg\" height=\"24px\"viewBox=\"0 0 24 24\"\n",
              "       width=\"24px\">\n",
              "    <path d=\"M0 0h24v24H0V0z\" fill=\"none\"/>\n",
              "    <path d=\"M18.56 5.44l.94 2.06.94-2.06 2.06-.94-2.06-.94-.94-2.06-.94 2.06-2.06.94zm-11 1L8.5 8.5l.94-2.06 2.06-.94-2.06-.94L8.5 2.5l-.94 2.06-2.06.94zm10 10l.94 2.06.94-2.06 2.06-.94-2.06-.94-.94-2.06-.94 2.06-2.06.94z\"/><path d=\"M17.41 7.96l-1.37-1.37c-.4-.4-.92-.59-1.43-.59-.52 0-1.04.2-1.43.59L10.3 9.45l-7.72 7.72c-.78.78-.78 2.05 0 2.83L4 21.41c.39.39.9.59 1.41.59.51 0 1.02-.2 1.41-.59l7.78-7.78 2.81-2.81c.8-.78.8-2.07 0-2.86zM5.41 20L4 18.59l7.72-7.72 1.47 1.35L5.41 20z\"/>\n",
              "  </svg>\n",
              "      </button>\n",
              "      \n",
              "  <style>\n",
              "    .colab-df-container {\n",
              "      display:flex;\n",
              "      flex-wrap:wrap;\n",
              "      gap: 12px;\n",
              "    }\n",
              "\n",
              "    .colab-df-convert {\n",
              "      background-color: #E8F0FE;\n",
              "      border: none;\n",
              "      border-radius: 50%;\n",
              "      cursor: pointer;\n",
              "      display: none;\n",
              "      fill: #1967D2;\n",
              "      height: 32px;\n",
              "      padding: 0 0 0 0;\n",
              "      width: 32px;\n",
              "    }\n",
              "\n",
              "    .colab-df-convert:hover {\n",
              "      background-color: #E2EBFA;\n",
              "      box-shadow: 0px 1px 2px rgba(60, 64, 67, 0.3), 0px 1px 3px 1px rgba(60, 64, 67, 0.15);\n",
              "      fill: #174EA6;\n",
              "    }\n",
              "\n",
              "    [theme=dark] .colab-df-convert {\n",
              "      background-color: #3B4455;\n",
              "      fill: #D2E3FC;\n",
              "    }\n",
              "\n",
              "    [theme=dark] .colab-df-convert:hover {\n",
              "      background-color: #434B5C;\n",
              "      box-shadow: 0px 1px 3px 1px rgba(0, 0, 0, 0.15);\n",
              "      filter: drop-shadow(0px 1px 2px rgba(0, 0, 0, 0.3));\n",
              "      fill: #FFFFFF;\n",
              "    }\n",
              "  </style>\n",
              "\n",
              "      <script>\n",
              "        const buttonEl =\n",
              "          document.querySelector('#df-e583d238-be50-4a6b-8fa5-d567a0b57f85 button.colab-df-convert');\n",
              "        buttonEl.style.display =\n",
              "          google.colab.kernel.accessAllowed ? 'block' : 'none';\n",
              "\n",
              "        async function convertToInteractive(key) {\n",
              "          const element = document.querySelector('#df-e583d238-be50-4a6b-8fa5-d567a0b57f85');\n",
              "          const dataTable =\n",
              "            await google.colab.kernel.invokeFunction('convertToInteractive',\n",
              "                                                     [key], {});\n",
              "          if (!dataTable) return;\n",
              "\n",
              "          const docLinkHtml = 'Like what you see? Visit the ' +\n",
              "            '<a target=\"_blank\" href=https://colab.research.google.com/notebooks/data_table.ipynb>data table notebook</a>'\n",
              "            + ' to learn more about interactive tables.';\n",
              "          element.innerHTML = '';\n",
              "          dataTable['output_type'] = 'display_data';\n",
              "          await google.colab.output.renderOutput(dataTable, element);\n",
              "          const docLink = document.createElement('div');\n",
              "          docLink.innerHTML = docLinkHtml;\n",
              "          element.appendChild(docLink);\n",
              "        }\n",
              "      </script>\n",
              "    </div>\n",
              "  </div>\n",
              "  "
            ]
          },
          "metadata": {},
          "execution_count": 286
        }
      ]
    },
    {
      "cell_type": "code",
      "source": [
        "X_test.head()"
      ],
      "metadata": {
        "id": "sdOnpRgg7ZZ5",
        "colab": {
          "base_uri": "https://localhost:8080/",
          "height": 204
        },
        "outputId": "1fce6447-e485-4854-b2d4-1ec879703c58"
      },
      "execution_count": 310,
      "outputs": [
        {
          "output_type": "execute_result",
          "data": {
            "text/plain": [
              "            age  workclass  education_num  marital_status  occupation  \\\n",
              "36963  0.747833  -0.122944       1.348203       -1.852886   -0.841575   \n",
              "39383  0.591473  -0.122944       1.348203       -1.852886    0.986621   \n",
              "18272  0.070128  -0.122944       2.139751        0.938695    0.986621   \n",
              "26474 -0.586708  -0.122944      -0.515200       -1.399724   -1.930533   \n",
              "19066  0.611153   0.248034      -0.515200        0.938695   -0.644110   \n",
              "\n",
              "       relationship  capital_gain  capital_loss  hours_per_week  \\\n",
              "36963     -1.003472           0.0           0.0            40.0   \n",
              "39383     -1.003472           0.0           0.0            40.0   \n",
              "18272      0.946833           0.0           0.0            30.0   \n",
              "26474     -1.584320           0.0           0.0            30.0   \n",
              "19066      0.946833           0.0           0.0            40.0   \n",
              "\n",
              "       native_country  \n",
              "36963        0.020452  \n",
              "39383       -0.096242  \n",
              "18272        0.020452  \n",
              "26474        0.020452  \n",
              "19066        0.020452  "
            ],
            "text/html": [
              "\n",
              "  <div id=\"df-cf96f349-8da8-49f8-93c1-583e390604c0\">\n",
              "    <div class=\"colab-df-container\">\n",
              "      <div>\n",
              "<style scoped>\n",
              "    .dataframe tbody tr th:only-of-type {\n",
              "        vertical-align: middle;\n",
              "    }\n",
              "\n",
              "    .dataframe tbody tr th {\n",
              "        vertical-align: top;\n",
              "    }\n",
              "\n",
              "    .dataframe thead th {\n",
              "        text-align: right;\n",
              "    }\n",
              "</style>\n",
              "<table border=\"1\" class=\"dataframe\">\n",
              "  <thead>\n",
              "    <tr style=\"text-align: right;\">\n",
              "      <th></th>\n",
              "      <th>age</th>\n",
              "      <th>workclass</th>\n",
              "      <th>education_num</th>\n",
              "      <th>marital_status</th>\n",
              "      <th>occupation</th>\n",
              "      <th>relationship</th>\n",
              "      <th>capital_gain</th>\n",
              "      <th>capital_loss</th>\n",
              "      <th>hours_per_week</th>\n",
              "      <th>native_country</th>\n",
              "    </tr>\n",
              "  </thead>\n",
              "  <tbody>\n",
              "    <tr>\n",
              "      <th>36963</th>\n",
              "      <td>0.747833</td>\n",
              "      <td>-0.122944</td>\n",
              "      <td>1.348203</td>\n",
              "      <td>-1.852886</td>\n",
              "      <td>-0.841575</td>\n",
              "      <td>-1.003472</td>\n",
              "      <td>0.0</td>\n",
              "      <td>0.0</td>\n",
              "      <td>40.0</td>\n",
              "      <td>0.020452</td>\n",
              "    </tr>\n",
              "    <tr>\n",
              "      <th>39383</th>\n",
              "      <td>0.591473</td>\n",
              "      <td>-0.122944</td>\n",
              "      <td>1.348203</td>\n",
              "      <td>-1.852886</td>\n",
              "      <td>0.986621</td>\n",
              "      <td>-1.003472</td>\n",
              "      <td>0.0</td>\n",
              "      <td>0.0</td>\n",
              "      <td>40.0</td>\n",
              "      <td>-0.096242</td>\n",
              "    </tr>\n",
              "    <tr>\n",
              "      <th>18272</th>\n",
              "      <td>0.070128</td>\n",
              "      <td>-0.122944</td>\n",
              "      <td>2.139751</td>\n",
              "      <td>0.938695</td>\n",
              "      <td>0.986621</td>\n",
              "      <td>0.946833</td>\n",
              "      <td>0.0</td>\n",
              "      <td>0.0</td>\n",
              "      <td>30.0</td>\n",
              "      <td>0.020452</td>\n",
              "    </tr>\n",
              "    <tr>\n",
              "      <th>26474</th>\n",
              "      <td>-0.586708</td>\n",
              "      <td>-0.122944</td>\n",
              "      <td>-0.515200</td>\n",
              "      <td>-1.399724</td>\n",
              "      <td>-1.930533</td>\n",
              "      <td>-1.584320</td>\n",
              "      <td>0.0</td>\n",
              "      <td>0.0</td>\n",
              "      <td>30.0</td>\n",
              "      <td>0.020452</td>\n",
              "    </tr>\n",
              "    <tr>\n",
              "      <th>19066</th>\n",
              "      <td>0.611153</td>\n",
              "      <td>0.248034</td>\n",
              "      <td>-0.515200</td>\n",
              "      <td>0.938695</td>\n",
              "      <td>-0.644110</td>\n",
              "      <td>0.946833</td>\n",
              "      <td>0.0</td>\n",
              "      <td>0.0</td>\n",
              "      <td>40.0</td>\n",
              "      <td>0.020452</td>\n",
              "    </tr>\n",
              "  </tbody>\n",
              "</table>\n",
              "</div>\n",
              "      <button class=\"colab-df-convert\" onclick=\"convertToInteractive('df-cf96f349-8da8-49f8-93c1-583e390604c0')\"\n",
              "              title=\"Convert this dataframe to an interactive table.\"\n",
              "              style=\"display:none;\">\n",
              "        \n",
              "  <svg xmlns=\"http://www.w3.org/2000/svg\" height=\"24px\"viewBox=\"0 0 24 24\"\n",
              "       width=\"24px\">\n",
              "    <path d=\"M0 0h24v24H0V0z\" fill=\"none\"/>\n",
              "    <path d=\"M18.56 5.44l.94 2.06.94-2.06 2.06-.94-2.06-.94-.94-2.06-.94 2.06-2.06.94zm-11 1L8.5 8.5l.94-2.06 2.06-.94-2.06-.94L8.5 2.5l-.94 2.06-2.06.94zm10 10l.94 2.06.94-2.06 2.06-.94-2.06-.94-.94-2.06-.94 2.06-2.06.94z\"/><path d=\"M17.41 7.96l-1.37-1.37c-.4-.4-.92-.59-1.43-.59-.52 0-1.04.2-1.43.59L10.3 9.45l-7.72 7.72c-.78.78-.78 2.05 0 2.83L4 21.41c.39.39.9.59 1.41.59.51 0 1.02-.2 1.41-.59l7.78-7.78 2.81-2.81c.8-.78.8-2.07 0-2.86zM5.41 20L4 18.59l7.72-7.72 1.47 1.35L5.41 20z\"/>\n",
              "  </svg>\n",
              "      </button>\n",
              "      \n",
              "  <style>\n",
              "    .colab-df-container {\n",
              "      display:flex;\n",
              "      flex-wrap:wrap;\n",
              "      gap: 12px;\n",
              "    }\n",
              "\n",
              "    .colab-df-convert {\n",
              "      background-color: #E8F0FE;\n",
              "      border: none;\n",
              "      border-radius: 50%;\n",
              "      cursor: pointer;\n",
              "      display: none;\n",
              "      fill: #1967D2;\n",
              "      height: 32px;\n",
              "      padding: 0 0 0 0;\n",
              "      width: 32px;\n",
              "    }\n",
              "\n",
              "    .colab-df-convert:hover {\n",
              "      background-color: #E2EBFA;\n",
              "      box-shadow: 0px 1px 2px rgba(60, 64, 67, 0.3), 0px 1px 3px 1px rgba(60, 64, 67, 0.15);\n",
              "      fill: #174EA6;\n",
              "    }\n",
              "\n",
              "    [theme=dark] .colab-df-convert {\n",
              "      background-color: #3B4455;\n",
              "      fill: #D2E3FC;\n",
              "    }\n",
              "\n",
              "    [theme=dark] .colab-df-convert:hover {\n",
              "      background-color: #434B5C;\n",
              "      box-shadow: 0px 1px 3px 1px rgba(0, 0, 0, 0.15);\n",
              "      filter: drop-shadow(0px 1px 2px rgba(0, 0, 0, 0.3));\n",
              "      fill: #FFFFFF;\n",
              "    }\n",
              "  </style>\n",
              "\n",
              "      <script>\n",
              "        const buttonEl =\n",
              "          document.querySelector('#df-cf96f349-8da8-49f8-93c1-583e390604c0 button.colab-df-convert');\n",
              "        buttonEl.style.display =\n",
              "          google.colab.kernel.accessAllowed ? 'block' : 'none';\n",
              "\n",
              "        async function convertToInteractive(key) {\n",
              "          const element = document.querySelector('#df-cf96f349-8da8-49f8-93c1-583e390604c0');\n",
              "          const dataTable =\n",
              "            await google.colab.kernel.invokeFunction('convertToInteractive',\n",
              "                                                     [key], {});\n",
              "          if (!dataTable) return;\n",
              "\n",
              "          const docLinkHtml = 'Like what you see? Visit the ' +\n",
              "            '<a target=\"_blank\" href=https://colab.research.google.com/notebooks/data_table.ipynb>data table notebook</a>'\n",
              "            + ' to learn more about interactive tables.';\n",
              "          element.innerHTML = '';\n",
              "          dataTable['output_type'] = 'display_data';\n",
              "          await google.colab.output.renderOutput(dataTable, element);\n",
              "          const docLink = document.createElement('div');\n",
              "          docLink.innerHTML = docLinkHtml;\n",
              "          element.appendChild(docLink);\n",
              "        }\n",
              "      </script>\n",
              "    </div>\n",
              "  </div>\n",
              "  "
            ]
          },
          "metadata": {},
          "execution_count": 310
        }
      ]
    },
    {
      "cell_type": "code",
      "source": [
        "X_test.info()"
      ],
      "metadata": {
        "colab": {
          "base_uri": "https://localhost:8080/"
        },
        "id": "DUlYldTZXJVS",
        "outputId": "20fc8967-f2a9-44b0-c400-595a9cc4c3fc"
      },
      "execution_count": 252,
      "outputs": [
        {
          "output_type": "stream",
          "name": "stdout",
          "text": [
            "<class 'pandas.core.frame.DataFrame'>\n",
            "Int64Index: 7815 entries, 36963 to 32204\n",
            "Data columns (total 10 columns):\n",
            " #   Column          Non-Null Count  Dtype  \n",
            "---  ------          --------------  -----  \n",
            " 0   age             7815 non-null   float64\n",
            " 1   workclass       7815 non-null   float64\n",
            " 2   education_num   7815 non-null   float64\n",
            " 3   marital_status  7815 non-null   float64\n",
            " 4   occupation      7815 non-null   float64\n",
            " 5   relationship    7815 non-null   float64\n",
            " 6   capital_gain    7815 non-null   float64\n",
            " 7   capital_loss    7815 non-null   float64\n",
            " 8   hours_per_week  7815 non-null   int64  \n",
            " 9   native_country  7815 non-null   float64\n",
            "dtypes: float64(9), int64(1)\n",
            "memory usage: 671.6 KB\n"
          ]
        }
      ]
    },
    {
      "cell_type": "markdown",
      "source": [
        "## Modelowanie"
      ],
      "metadata": {
        "id": "SmHAvoiX9C4S"
      }
    },
    {
      "cell_type": "markdown",
      "source": [
        "Zaimportujmy niezbędne biblioteki."
      ],
      "metadata": {
        "id": "TzdLIYdrpNKs"
      }
    },
    {
      "cell_type": "code",
      "source": [
        "from sklearn.model_selection import GridSearchCV\n",
        "from sklearn.linear_model import LogisticRegression\n",
        "from sklearn.neighbors import KNeighborsClassifier\n",
        "from sklearn.ensemble import RandomForestClassifier\n",
        "warnings.filterwarnings('ignore')"
      ],
      "metadata": {
        "id": "QsGkcMmw9E2-"
      },
      "execution_count": 41,
      "outputs": []
    },
    {
      "cell_type": "code",
      "source": [
        "from sklearn.metrics import accuracy_score\n",
        "from sklearn.metrics import f1_score\n",
        "from sklearn.metrics import roc_auc_score\n",
        "from sklearn.pipeline import Pipeline\n",
        "from sklearn.preprocessing import StandardScaler\n",
        "from sklearn.preprocessing import MinMaxScaler\n",
        "from sklearn.metrics import precision_score\n",
        "from sklearn.metrics import recall_score\n",
        "from sklearn.compose import ColumnTransformer\n",
        "from sklearn.metrics import plot_roc_curve\n",
        "from sklearn.metrics import roc_curve\n",
        "from sklearn.metrics import auc"
      ],
      "metadata": {
        "id": "nsicqsEoGBFG"
      },
      "execution_count": 42,
      "outputs": []
    },
    {
      "cell_type": "markdown",
      "source": [
        "### LogisticRegression"
      ],
      "metadata": {
        "id": "izAvx5-Xo_X0"
      }
    },
    {
      "cell_type": "code",
      "source": [
        "lr_base = LogisticRegression(random_state=42)\n",
        "lr_base.fit(X_ez, y_train)\n",
        "lr_base.score(X_ez,y_train)"
      ],
      "metadata": {
        "colab": {
          "base_uri": "https://localhost:8080/"
        },
        "id": "KnlvZuhyKvmd",
        "outputId": "bb21b74f-e49c-451f-fc2d-397a8dbcc09e"
      },
      "execution_count": null,
      "outputs": [
        {
          "output_type": "execute_result",
          "data": {
            "text/plain": [
              "0.8351781943822382"
            ]
          },
          "metadata": {},
          "execution_count": 29
        }
      ]
    },
    {
      "cell_type": "code",
      "source": [
        "print(lr_base.score(X_ez,y_train), f1_score(lr_base.predict(X_test),y_test))"
      ],
      "metadata": {
        "colab": {
          "base_uri": "https://localhost:8080/"
        },
        "id": "8rLeh3BrgieE",
        "outputId": "d1499444-9a1a-4c70-ad09-800122bd9dd9"
      },
      "execution_count": null,
      "outputs": [
        {
          "output_type": "stream",
          "name": "stdout",
          "text": [
            "0.8351781943822382 0.6298890834792762\n"
          ]
        }
      ]
    },
    {
      "cell_type": "markdown",
      "source": [
        "Dobierzmy hiperparametry za pomocą GridSearcha."
      ],
      "metadata": {
        "id": "9A8MpJlvl7vR"
      }
    },
    {
      "cell_type": "code",
      "source": [
        "param_grid_lr = {\n",
        "    'C': [0.001, 0.01, 0.1, 1, 10, 100, 1000],\n",
        "    'penalty': ['l1', 'l2'],\n",
        "    'solver': ['newton-cg', 'lbfgs', 'liblinear', 'sag', 'saga'],\n",
        "    'tol': [1e-4, 1e-3, 1e-5, 3e-4]\n",
        "}\n",
        "\n",
        "lr_model = LogisticRegression(random_state=42)\n",
        "grid = GridSearchCV(estimator = lr_model, param_grid = param_grid_lr, error_score=0.0,\n",
        "                    cv = 5)\n",
        "\n",
        "grid_result = grid.fit(X_ez, y_train)\n",
        "print(\"Best: %f using %s\" % (grid_result.best_score_, grid_result.best_params_))"
      ],
      "metadata": {
        "colab": {
          "base_uri": "https://localhost:8080/"
        },
        "id": "hqR8y_TSp1JU",
        "outputId": "62e5daa3-d5e0-4b22-8676-ff48f43d43e7"
      },
      "execution_count": null,
      "outputs": [
        {
          "output_type": "stream",
          "name": "stdout",
          "text": [
            "Best: 0.851846 using {'C': 10, 'penalty': 'l1', 'solver': 'liblinear', 'tol': 0.0001}\n"
          ]
        }
      ]
    },
    {
      "cell_type": "code",
      "source": [
        "ct = ColumnTransformer([\n",
        "        ('scaler', StandardScaler(), ['education_num', 'hours_per_week','capital_loss','capital_gain'])\n",
        "    ], remainder='passthrough')"
      ],
      "metadata": {
        "id": "7TF_G_WRcAlt"
      },
      "execution_count": null,
      "outputs": []
    },
    {
      "cell_type": "code",
      "source": [
        "pipe = Pipeline([('scaler', ColumnTransformer([\n",
        "        ('scaler', StandardScaler(), ['education_num', 'hours_per_week','capital_loss','capital_gain'])\n",
        "    ], remainder='passthrough')), ('logisticRegression', LogisticRegression(penalty = 'l1', solver = 'liblinear', C = 10, tol = 0.0001, random_state=42))])"
      ],
      "metadata": {
        "id": "kh9mmS_Gcsb7"
      },
      "execution_count": 274,
      "outputs": []
    },
    {
      "cell_type": "code",
      "source": [
        "pipe.fit(X_ez, y_train)"
      ],
      "metadata": {
        "colab": {
          "base_uri": "https://localhost:8080/"
        },
        "id": "tarLN53Cc_ZU",
        "outputId": "c816582d-69a3-47ec-a248-78b58435cbb2"
      },
      "execution_count": 275,
      "outputs": [
        {
          "output_type": "execute_result",
          "data": {
            "text/plain": [
              "Pipeline(steps=[('scaler',\n",
              "                 ColumnTransformer(remainder='passthrough',\n",
              "                                   transformers=[('scaler', StandardScaler(),\n",
              "                                                  ['education_num',\n",
              "                                                   'hours_per_week',\n",
              "                                                   'capital_loss',\n",
              "                                                   'capital_gain'])])),\n",
              "                ('logisticRegression',\n",
              "                 LogisticRegression(C=10, penalty='l1', random_state=42,\n",
              "                                    solver='liblinear'))])"
            ]
          },
          "metadata": {},
          "execution_count": 275
        }
      ]
    },
    {
      "cell_type": "markdown",
      "source": [
        "Scaler nie zmienil predykcyjności, nie dodaje też do interpretowalności"
      ],
      "metadata": {
        "id": "OuRSxCjzMjG5"
      }
    },
    {
      "cell_type": "code",
      "source": [
        "print(accuracy_score(pipe.predict(X_test),y_test), f1_score(pipe.predict(X_test),y_test), roc_auc_score(pipe.predict(X_test),y_test), auc)"
      ],
      "metadata": {
        "colab": {
          "base_uri": "https://localhost:8080/"
        },
        "id": "kR6vC87wdb9E",
        "outputId": "7ca5deb7-7296-44a8-b0b2-296d4efe23b9"
      },
      "execution_count": 276,
      "outputs": [
        {
          "output_type": "stream",
          "name": "stdout",
          "text": [
            "0.854766474728087 0.6652904747861986 0.8118636514911355 <function auc at 0x7f6a379f9170>\n"
          ]
        }
      ]
    },
    {
      "cell_type": "markdown",
      "source": [
        "**Best regresja**"
      ],
      "metadata": {
        "id": "ZgavNU89XdyK"
      }
    },
    {
      "cell_type": "code",
      "source": [
        "lr_best = LogisticRegression(penalty = 'l1', solver = 'liblinear', C = 10, tol = 0.0001, random_state=42)\n",
        "lr_best.fit(X_ez, y_train)"
      ],
      "metadata": {
        "id": "D29M9SN3-S5p",
        "colab": {
          "base_uri": "https://localhost:8080/"
        },
        "outputId": "a5ef7751-3b74-4518-92d0-15e26be6d711"
      },
      "execution_count": 332,
      "outputs": [
        {
          "output_type": "execute_result",
          "data": {
            "text/plain": [
              "LogisticRegression(C=10, penalty='l1', random_state=42, solver='liblinear')"
            ]
          },
          "metadata": {},
          "execution_count": 332
        }
      ]
    },
    {
      "cell_type": "markdown",
      "source": [
        "jej scory"
      ],
      "metadata": {
        "id": "RUz6iKzYXj2_"
      }
    },
    {
      "cell_type": "code",
      "source": [
        "print(lr_best.score(X_test,y_test), f1_score(lr_best.predict(X_test),y_test), roc_auc_score(lr_best.predict(X_test),y_test), precision_score(lr_best.predict(X_test),y_test), recall_score(lr_best.predict(X_test),y_test))"
      ],
      "metadata": {
        "colab": {
          "base_uri": "https://localhost:8080/"
        },
        "id": "PYmXoYO0zBxr",
        "outputId": "6d4e12cd-f84f-4bc9-8469-9d100795688a"
      },
      "execution_count": 333,
      "outputs": [
        {
          "output_type": "stream",
          "name": "stdout",
          "text": [
            "0.85489443378119 0.6648936170212765 0.8124147642162018 0.6016042780748663 0.7430647291941875\n"
          ]
        }
      ]
    },
    {
      "cell_type": "code",
      "source": [
        "print(lr_best.score(X_ez,y_train), f1_score(lr_best.predict(X_ez),y_train))"
      ],
      "metadata": {
        "colab": {
          "base_uri": "https://localhost:8080/"
        },
        "id": "8Z0kDQFY9UJ0",
        "outputId": "73c12295-7c32-4b4d-cda0-59d50c9b9414"
      },
      "execution_count": 334,
      "outputs": [
        {
          "output_type": "stream",
          "name": "stdout",
          "text": [
            "0.8514300339113187 0.6556939501779359\n"
          ]
        }
      ]
    },
    {
      "cell_type": "markdown",
      "source": [
        "Zwizualizujmy sobie nasz ROC AUC."
      ],
      "metadata": {
        "id": "9msbfQUdmEmd"
      }
    },
    {
      "cell_type": "code",
      "source": [
        "plot_roc_curve(lr_best, X_test, y_test)"
      ],
      "metadata": {
        "colab": {
          "base_uri": "https://localhost:8080/",
          "height": 296
        },
        "id": "nRohWfUjfFnl",
        "outputId": "e945beb6-a561-4b9b-fc79-3fd16e9495d0"
      },
      "execution_count": 335,
      "outputs": [
        {
          "output_type": "execute_result",
          "data": {
            "text/plain": [
              "<sklearn.metrics._plot.roc_curve.RocCurveDisplay at 0x7f3ec334a4d0>"
            ]
          },
          "metadata": {},
          "execution_count": 335
        },
        {
          "output_type": "display_data",
          "data": {
            "text/plain": [
              "<Figure size 432x288 with 1 Axes>"
            ],
            "image/png": "[encoded data removed]"
          },
          "metadata": {
            "needs_background": "light"
          }
        }
      ]
    },
    {
      "cell_type": "code",
      "source": [
        "! pip install scikit-optimize"
      ],
      "metadata": {
        "colab": {
          "base_uri": "https://localhost:8080/"
        },
        "id": "yCBaChRhLJCl",
        "outputId": "6345506a-f9f9-47e4-976d-1255da8ab7bf"
      },
      "execution_count": null,
      "outputs": [
        {
          "output_type": "stream",
          "name": "stdout",
          "text": [
            "Collecting scikit-optimize\n",
            "  Downloading scikit_optimize-0.9.0-py2.py3-none-any.whl (100 kB)\n",
            "\u001b[?25l\r\u001b[K     |███▎                            | 10 kB 17.9 MB/s eta 0:00:01\r\u001b[K     |██████▌                         | 20 kB 15.4 MB/s eta 0:00:01\r\u001b[K     |█████████▉                      | 30 kB 19.6 MB/s eta 0:00:01\r\u001b[K     |█████████████                   | 40 kB 23.6 MB/s eta 0:00:01\r\u001b[K     |████████████████▍               | 51 kB 26.9 MB/s eta 0:00:01\r\u001b[K     |███████████████████▋            | 61 kB 30.5 MB/s eta 0:00:01\r\u001b[K     |██████████████████████▉         | 71 kB 26.3 MB/s eta 0:00:01\r\u001b[K     |██████████████████████████▏     | 81 kB 20.9 MB/s eta 0:00:01\r\u001b[K     |█████████████████████████████▍  | 92 kB 22.5 MB/s eta 0:00:01\r\u001b[K     |████████████████████████████████| 100 kB 7.6 MB/s \n",
            "\u001b[?25hRequirement already satisfied: scikit-learn>=0.20.0 in /usr/local/lib/python3.7/dist-packages (from scikit-optimize) (1.0.2)\n",
            "Requirement already satisfied: joblib>=0.11 in /usr/local/lib/python3.7/dist-packages (from scikit-optimize) (1.1.0)\n",
            "Requirement already satisfied: numpy>=1.13.3 in /usr/local/lib/python3.7/dist-packages (from scikit-optimize) (1.21.6)\n",
            "Collecting pyaml>=16.9\n",
            "  Downloading pyaml-21.10.1-py2.py3-none-any.whl (24 kB)\n",
            "Requirement already satisfied: scipy>=0.19.1 in /usr/local/lib/python3.7/dist-packages (from scikit-optimize) (1.4.1)\n",
            "Requirement already satisfied: PyYAML in /usr/local/lib/python3.7/dist-packages (from pyaml>=16.9->scikit-optimize) (3.13)\n",
            "Requirement already satisfied: threadpoolctl>=2.0.0 in /usr/local/lib/python3.7/dist-packages (from scikit-learn>=0.20.0->scikit-optimize) (3.1.0)\n",
            "Installing collected packages: pyaml, scikit-optimize\n",
            "Successfully installed pyaml-21.10.1 scikit-optimize-0.9.0\n"
          ]
        }
      ]
    },
    {
      "cell_type": "markdown",
      "source": [
        "Użyjmy wyszukiwania Bayesowskiego w celu sprawdzenia czy mogą istnieć jakieś lepsze hiperparametry."
      ],
      "metadata": {
        "id": "LP_hGTpMmL_I"
      }
    },
    {
      "cell_type": "code",
      "source": [
        "from skopt import BayesSearchCV\n",
        "\n",
        "opt = BayesSearchCV(\n",
        "    LogisticRegression(),\n",
        "    {\n",
        "        'C': (0.0001, 10000),\n",
        "        'penalty': ['l1', 'l2', 'none'],\n",
        "        'solver': ['newton-cg', 'lbfgs', 'liblinear', 'sag', 'saga'],\n",
        "        'tol': (1e-5, 10)\n",
        "    },\n",
        "    error_score = 0.0,\n",
        "    n_iter=50,\n",
        "    cv=5\n",
        ")\n",
        "\n",
        "opt.fit(X_ez, y_train)\n",
        "\n",
        "print(\"val. score: %s\" % opt.best_score_)\n",
        "print(\"test score: %s\" % opt.score(X_test, y_test))\n",
        "print(\"Best params: %s\" % opt.best_params_)"
      ],
      "metadata": {
        "colab": {
          "base_uri": "https://localhost:8080/"
        },
        "id": "6oTd1017LNI8",
        "outputId": "cb9554ee-5cf8-41fb-bb09-c79d690d623a"
      },
      "execution_count": null,
      "outputs": [
        {
          "output_type": "stream",
          "name": "stdout",
          "text": [
            "val. score: 0.851622112822793\n",
            "test score: 0.8551503518873961\n",
            "Best params: OrderedDict([('C', 2645.3596662342547), ('penalty', 'l2'), ('solver', 'newton-cg'), ('tol', 5.812896926792161)])\n"
          ]
        }
      ]
    },
    {
      "cell_type": "code",
      "source": [
        "X_test['native_country'].unique()"
      ],
      "metadata": {
        "colab": {
          "base_uri": "https://localhost:8080/"
        },
        "id": "KiGUGIXsOAhp",
        "outputId": "40d198f9-b732-4b1d-b225-831d5508f218"
      },
      "execution_count": null,
      "outputs": [
        {
          "output_type": "execute_result",
          "data": {
            "text/plain": [
              "array(['United-States', 'Hungary', 'Vietnam', '?', 'Greece', 'Taiwan',\n",
              "       'Poland', 'Mexico', 'Germany', 'El-Salvador', 'Iran', 'Japan',\n",
              "       'England', 'Canada', 'Puerto-Rico', 'Ireland',\n",
              "       'Dominican-Republic', 'Nicaragua', 'Peru', 'Cuba', 'Portugal',\n",
              "       'Guatemala', 'South', 'India', 'China', 'Philippines',\n",
              "       'Outlying-US(Guam-USVI-etc)', 'France', 'Italy', 'Jamaica',\n",
              "       'Yugoslavia', 'Scotland', 'Trinadad&Tobago', 'Haiti', 'Ecuador',\n",
              "       'Thailand', 'Honduras', 'Hong', 'Columbia', 'Laos', 'Cambodia'],\n",
              "      dtype=object)"
            ]
          },
          "metadata": {},
          "execution_count": 524
        }
      ]
    },
    {
      "cell_type": "code",
      "source": [
        "X_test['native_country']"
      ],
      "metadata": {
        "colab": {
          "base_uri": "https://localhost:8080/"
        },
        "id": "PRW4WgdGFWNq",
        "outputId": "497573f9-307b-4dc8-ef40-ca42a3fe673f"
      },
      "execution_count": null,
      "outputs": [
        {
          "output_type": "execute_result",
          "data": {
            "text/plain": [
              "36963    0.020452\n",
              "39383   -0.096242\n",
              "18272    0.020452\n",
              "26474    0.020452\n",
              "19066    0.020452\n",
              "           ...   \n",
              "38279    0.020452\n",
              "33909    0.020452\n",
              "8414     0.265098\n",
              "22133    0.020452\n",
              "32204    0.499741\n",
              "Name: native_country, Length: 7815, dtype: float64"
            ]
          },
          "metadata": {},
          "execution_count": 506
        }
      ]
    },
    {
      "cell_type": "code",
      "source": [
        "f1_score(lr_best.predict(X_test),y_test)"
      ],
      "metadata": {
        "colab": {
          "base_uri": "https://localhost:8080/"
        },
        "id": "fnpuRKSHFURc",
        "outputId": "f43e066c-818d-4db2-ee4f-515041752fea"
      },
      "execution_count": null,
      "outputs": [
        {
          "output_type": "execute_result",
          "data": {
            "text/plain": [
              "0.6454869358669835"
            ]
          },
          "metadata": {},
          "execution_count": 43
        }
      ]
    },
    {
      "cell_type": "markdown",
      "source": [
        "z laczeniem 0.843891024569614 0.640234287001577 0.8007503940163941"
      ],
      "metadata": {
        "id": "3nvIjclHwyHF"
      }
    },
    {
      "cell_type": "markdown",
      "source": [
        ""
      ],
      "metadata": {
        "id": "Od7i-LPOp9Of"
      }
    },
    {
      "cell_type": "markdown",
      "source": [
        "bez laczenia woe 0.843891024569614 0.6400900900900901 0.8005549116235828"
      ],
      "metadata": {
        "id": "7AVpHRFGp4u4"
      }
    },
    {
      "cell_type": "markdown",
      "source": [
        "0.8435985291659702 0.6397837350754675 0.8004331706134287"
      ],
      "metadata": {
        "id": "_BvErEBKnrdA"
      }
    },
    {
      "cell_type": "markdown",
      "source": [
        "0.843891024569614 0.6405405405405405 0.8008720101629819"
      ],
      "metadata": {
        "id": "oKXkqo8BnwOP"
      }
    },
    {
      "cell_type": "code",
      "source": [
        "lr_test_xd = LogisticRegression(penalty = 'l2', solver = 'saga', C = 1, tol = 0.001, random_state=1, max_iter=1000)\n",
        "lr_test_xd.fit(X_ez, y_train)\n",
        "lr_test_xd.score(X_ez,y_train)"
      ],
      "metadata": {
        "colab": {
          "base_uri": "https://localhost:8080/"
        },
        "id": "CT4J0ZBee5NK",
        "outputId": "65e21adc-c89e-495a-f23b-4fc0f67e006d"
      },
      "execution_count": null,
      "outputs": [
        {
          "output_type": "execute_result",
          "data": {
            "text/plain": [
              "0.842136052147752"
            ]
          },
          "metadata": {},
          "execution_count": 148
        }
      ]
    },
    {
      "cell_type": "code",
      "source": [
        "from sklearn.preprocessing import StandardScaler\n",
        "X_ez_scaler_applied = X_ez.copy()\n",
        "scaler = StandardScaler()\n",
        "X_ez_scaler_applied = scaler.fit_transform(X_ez_scaler_applied)"
      ],
      "metadata": {
        "id": "Jq2y7uz2WPWs"
      },
      "execution_count": null,
      "outputs": []
    },
    {
      "cell_type": "code",
      "source": [
        "lr_base2 = LogisticRegression(random_state=42)\n",
        "lr_base2.fit(X_ez_scaler_applied, y_train)\n",
        "lr_base2.score(X_ez_scaler_applied,y_train)"
      ],
      "metadata": {
        "colab": {
          "base_uri": "https://localhost:8080/"
        },
        "id": "uU1906VUW7k9",
        "outputId": "7837c4fd-2479-441c-f235-cb67c2f2822b"
      },
      "execution_count": null,
      "outputs": [
        {
          "output_type": "execute_result",
          "data": {
            "text/plain": [
              "0.8420942670900886"
            ]
          },
          "metadata": {},
          "execution_count": 142
        }
      ]
    },
    {
      "cell_type": "code",
      "source": [
        "lr_model2 = LogisticRegression(random_state=42)\n",
        "grid2 = GridSearchCV(estimator = lr_model, param_grid = param_grid_lr, error_score=0.0,\n",
        "                    cv = 4, n_jobs = -1, verbose = 2)\n",
        "\n",
        "grid_result2 = grid.fit(X_ez_scaler_applied, y_train)\n",
        "print(\"Best: %f using %s\" % (grid_result2.best_score_, grid_result2.best_params_))"
      ],
      "metadata": {
        "colab": {
          "base_uri": "https://localhost:8080/"
        },
        "id": "EhsExjU2XJ6u",
        "outputId": "297ac4c1-2d5c-406e-f25f-7a7c6b853048"
      },
      "execution_count": null,
      "outputs": [
        {
          "output_type": "stream",
          "name": "stdout",
          "text": [
            "Fitting 4 folds for each of 280 candidates, totalling 1120 fits\n",
            "Best: 0.842303 using {'C': 0.1, 'penalty': 'l2', 'solver': 'sag', 'tol': 0.001}\n"
          ]
        }
      ]
    },
    {
      "cell_type": "markdown",
      "source": [
        "### KNeighbours"
      ],
      "metadata": {
        "id": "3YTBVxzbym1C"
      }
    },
    {
      "cell_type": "code",
      "source": [
        "n_neighbors = [5, 7, 9, 11, 13, 15]\n",
        "weights = ['uniform', 'distance']\n",
        "metric = ['minkowski', 'euclidean', 'manhattan']\n",
        "param_grid = dict(n_neighbors = n_neighbors, weights = weights, metric = metric)\n",
        "\n",
        "knn_model = KNeighborsClassifier()\n",
        "grid = GridSearchCV(estimator = knn_model, param_grid = param_grid,\n",
        "                    cv = 3, n_jobs = -1, verbose = 2)\n",
        "\n",
        "grid_result = grid.fit(X_ez, y_train)\n",
        "print(\"Best: %f using %s\" % (grid_result.best_score_, grid_result.best_params_))"
      ],
      "metadata": {
        "id": "4qIK8rr8vAj2",
        "colab": {
          "base_uri": "https://localhost:8080/"
        },
        "outputId": "9286793d-f1ce-40f4-9e53-b5202aab716c"
      },
      "execution_count": null,
      "outputs": [
        {
          "output_type": "stream",
          "name": "stdout",
          "text": [
            "Fitting 3 folds for each of 36 candidates, totalling 108 fits\n",
            "Best: 0.837498 using {'metric': 'manhattan', 'n_neighbors': 15, 'weights': 'uniform'}\n"
          ]
        }
      ]
    },
    {
      "cell_type": "code",
      "source": [
        "kn_best = KNeighborsClassifier(metric = 'manhattan', n_neighbors = 15, weights = 'uniform')"
      ],
      "metadata": {
        "id": "th8VHxyZ-dz6"
      },
      "execution_count": null,
      "outputs": []
    },
    {
      "cell_type": "markdown",
      "source": [
        "### Random forest"
      ],
      "metadata": {
        "id": "Owbt1wFsyq7l"
      }
    },
    {
      "cell_type": "code",
      "source": [
        "param_grid = {\n",
        "    'criterion': ['gini', 'entropy'],\n",
        "    'max_depth': [80, 90, 100, 110],\n",
        "#    'max_features': [2, 3],\n",
        "    'min_samples_leaf': [3, 4, 5],\n",
        "    'min_samples_split': [8, 10, 12],\n",
        "    'n_estimators': [100, 200, 300, 1000]\n",
        "}\n",
        "rf = RandomForestClassifier()\n",
        "grid = GridSearchCV(estimator = rf, param_grid = param_grid, \n",
        "                          cv = 3, n_jobs = -1, verbose = 2)\n",
        "grid_result = grid.fit(X_ez, y_train)\n",
        "print(\"Best: %f using %s\" % (grid_result.best_score_, grid_result.best_params_))"
      ],
      "metadata": {
        "id": "gKKNxrqHwKHQ",
        "colab": {
          "base_uri": "https://localhost:8080/"
        },
        "outputId": "580a7352-839e-417f-adbb-8e516580eed8"
      },
      "execution_count": null,
      "outputs": [
        {
          "output_type": "stream",
          "name": "stdout",
          "text": [
            "Fitting 3 folds for each of 288 candidates, totalling 864 fits\n",
            "Best: 0.844392 using {'criterion': 'gini', 'max_depth': 80, 'min_samples_leaf': 5, 'min_samples_split': 8, 'n_estimators': 1000}\n"
          ]
        }
      ]
    },
    {
      "cell_type": "code",
      "source": [
        "rf_best = RandomForestClassifier(criterion = 'gini', max_depth = 80, min_samples_leaf = 5, min_samples_split = 8, n_estimators = 1000)"
      ],
      "metadata": {
        "id": "-3Q1rG2_-j-5"
      },
      "execution_count": null,
      "outputs": []
    },
    {
      "cell_type": "markdown",
      "source": [
        "### XGBoost"
      ],
      "metadata": {
        "id": "NDu0MBHP6t91"
      }
    },
    {
      "cell_type": "code",
      "source": [
        "! pip install xgboost\n",
        "import xgboost\n",
        "from xgboost import XGBClassifier"
      ],
      "metadata": {
        "colab": {
          "base_uri": "https://localhost:8080/"
        },
        "id": "F2pykw-T6x_c",
        "outputId": "b0195b58-ddf2-42de-bb20-1ced80529958"
      },
      "execution_count": null,
      "outputs": [
        {
          "output_type": "stream",
          "name": "stdout",
          "text": [
            "Requirement already satisfied: xgboost in /usr/local/lib/python3.7/dist-packages (0.90)\n",
            "Requirement already satisfied: scipy in /usr/local/lib/python3.7/dist-packages (from xgboost) (1.4.1)\n",
            "Requirement already satisfied: numpy in /usr/local/lib/python3.7/dist-packages (from xgboost) (1.21.6)\n"
          ]
        }
      ]
    },
    {
      "cell_type": "code",
      "source": [
        "model=XGBClassifier()\n",
        "model.fit(X_ez, y_train)\n",
        "model.score(X_test,y_test)"
      ],
      "metadata": {
        "colab": {
          "base_uri": "https://localhost:8080/"
        },
        "id": "wEnp25X07Dh-",
        "outputId": "3b8a2e27-7c04-4e55-d42b-255c9aba1a91"
      },
      "execution_count": null,
      "outputs": [
        {
          "output_type": "execute_result",
          "data": {
            "text/plain": [
              "0.8479087452471483"
            ]
          },
          "metadata": {},
          "execution_count": 126
        }
      ]
    },
    {
      "cell_type": "code",
      "source": [
        "param_grid_xgboost = {\n",
        "    'max_depth': [8, 10, 12, 14, 16, 18, None],\n",
        "    'learning_rate': [0.03, 0.1, 0.3, 0.001],\n",
        "    'splitter': [\"best\", \"random\"],\n",
        "    'max_features': [\"auto\", None]\n",
        "}\n",
        "\n",
        "xgboost = XGBClassifier(random_state = 42)\n",
        "xgboost_grid = GridSearchCV(xgboost, param_grid_xgboost, cv = 2)\n",
        "result = xgboost_grid.fit(X_ez, y_train)"
      ],
      "metadata": {
        "colab": {
          "base_uri": "https://localhost:8080/"
        },
        "id": "lXG8ScCOFEe-",
        "outputId": "648d9c62-2e85-4908-d396-45f6633c8f0d"
      },
      "execution_count": null,
      "outputs": [
        {
          "output_type": "stream",
          "name": "stdout",
          "text": [
            "Best: 0.844392 using {'criterion': 'gini', 'max_depth': 80, 'min_samples_leaf': 5, 'min_samples_split': 8, 'n_estimators': 1000}\n"
          ]
        }
      ]
    },
    {
      "cell_type": "code",
      "source": [
        "xgb_best = XGBClassifier(learning_rate = 0.03, max_depth = 8, max_features = 'auto', splitter = 'best')"
      ],
      "metadata": {
        "id": "PVuvtMYSFutD"
      },
      "execution_count": null,
      "outputs": []
    },
    {
      "cell_type": "markdown",
      "source": [
        "### Podsumowanie"
      ],
      "metadata": {
        "id": "8AzLWS4yYN9m"
      }
    },
    {
      "cell_type": "code",
      "source": [
        "test_results = []\n",
        "for model, model_name in [(lr_best, \"LogisticRegression\"), (rf_best, \"RandomForest\"), (kn_best, \"KNeighbors\"), (xgb_best, \"XGBoost\")]:\n",
        "    model.fit(X_ez, y_train)\n",
        "    y_pred = model.predict(X_test)\n",
        "    measures_results = {\"model\": model_name}\n",
        "    for measure in [accuracy_score, f1_score, roc_auc_score]:\n",
        "        measures_results[measure.__name__] = measure(y_test, y_pred)\n",
        "    test_results.append(measures_results)\n",
        "    \n",
        "test_results_df = pd.DataFrame(test_results)"
      ],
      "metadata": {
        "id": "6Ig9I_spYQeq"
      },
      "execution_count": null,
      "outputs": []
    },
    {
      "cell_type": "code",
      "source": [
        "test_results_df = pd.melt(test_results_df, id_vars=\"model\", var_name=\"measure\", value_name=\"value\")\n",
        "sns.catplot(x='measure', y='value', hue='model', data=test_results_df, kind='bar', aspect=2)\n",
        "plt.show()"
      ],
      "metadata": {
        "colab": {
          "base_uri": "https://localhost:8080/",
          "height": 369
        },
        "id": "bvy_IHyRYsBf",
        "outputId": "ab22debc-6135-4a1a-f646-8f05a17e0302"
      },
      "execution_count": null,
      "outputs": [
        {
          "output_type": "display_data",
          "data": {
            "text/plain": [
              "<Figure size 848.75x360 with 1 Axes>"
            ],
            "image/png": "[encoded data removed]"
          },
          "metadata": {
            "needs_background": "light"
          }
        }
      ]
    },
    {
      "cell_type": "code",
      "source": [
        "sns.catplot(x='measure', y='value', hue='model', data=test_results_df, kind='bar', aspect=2)\n",
        "plt.ylim(0.60, 0.9)\n",
        "plt.show()"
      ],
      "metadata": {
        "colab": {
          "base_uri": "https://localhost:8080/",
          "height": 373
        },
        "id": "6fBAUQqfY4t4",
        "outputId": "0bf2c1a9-ab3f-4d38-cc91-67978f901c8f"
      },
      "execution_count": null,
      "outputs": [
        {
          "output_type": "display_data",
          "data": {
            "text/plain": [
              "<Figure size 848.75x360 with 1 Axes>"
            ],
            "image/png": "[encoded data removed]"
          },
          "metadata": {
            "needs_background": "light"
          }
        }
      ]
    },
    {
      "cell_type": "markdown",
      "source": [
        "Finalnie użyta zostanie regresja logistyczna z uwagi na jej interpretowalność i prostotę. Nie daje ona wcale zdecydowanie gorszych wyników od bardziej zaawansowanych modeli. Cały preprocessing został również wykonany \"pod nią\"."
      ],
      "metadata": {
        "id": "Qg5tYpo8mclH"
      }
    }
  ]
}